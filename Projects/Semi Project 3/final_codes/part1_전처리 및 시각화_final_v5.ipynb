{
 "cells": [
  {
   "cell_type": "code",
   "execution_count": 159,
   "id": "0ee48b3e",
   "metadata": {},
   "outputs": [],
   "source": [
    "import numpy as np\n",
    "import pandas as pd\n",
    "import matplotlib.pyplot as plt\n",
    "import missingno\n",
    "import seaborn as sns\n",
    "import math\n",
    "\n",
    "import collections\n",
    "# from pydot import Dot, Node, Edge\n",
    "\n",
    "# Managing Warnings \n",
    "import warnings\n",
    "warnings.filterwarnings('ignore')\n",
    "\n",
    "# Plot the Figures Inline\n",
    "%matplotlib inline"
   ]
  },
  {
   "cell_type": "code",
   "execution_count": 160,
   "id": "b70f1da7",
   "metadata": {},
   "outputs": [],
   "source": [
    "data_df = pd.read_csv('train.csv', index_col=0) # 엑셀 파일 읽기"
   ]
  },
  {
   "cell_type": "markdown",
   "id": "7a9519e8",
   "metadata": {},
   "source": [
    "### 날짜 관련 열 전처리\n",
    "\n",
    "##### 처리 열\n",
    "1. 'DAYS_BIRTH'열 삭제 -> 'Age'열 추가: 'DAYS_BIRTH'열 양수 변환 후 /365\n",
    "2. 'DAYS_EMPLOYED'열 -> 양수 값은 0으로 변환, 음수 값은 양수로 변환\n",
    "3. 'begin_month'열 음수 -> 양수로 변경\n"
   ]
  },
  {
   "cell_type": "code",
   "execution_count": 161,
   "id": "764ad8a4",
   "metadata": {},
   "outputs": [],
   "source": [
    "data_df['Age'] = data_df['DAYS_BIRTH'].apply(lambda x : np.abs(x)/365)\n",
    "data_df['DAYS_EMPLOYED'] = data_df['DAYS_EMPLOYED'].apply(lambda x: 0 if x > 0 else np.abs(x))\n",
    "data_df['begin_month'] = data_df['begin_month'].apply(np.abs)\n",
    "data_df = data_df.drop(['DAYS_BIRTH'],axis=1)"
   ]
  },
  {
   "cell_type": "markdown",
   "id": "a0ab5707",
   "metadata": {},
   "source": [
    "### bianry 열 처리\n",
    "값을 (0,1) 만 가지도록 처리"
   ]
  },
  {
   "cell_type": "code",
   "execution_count": 162,
   "id": "deecc414",
   "metadata": {},
   "outputs": [],
   "source": [
    "gender_dict = {\"F\":0,\"M\":1}\n",
    "car_dict = {\"N\":0,\"Y\":1}\n",
    "reality_dict = {\"N\":0,\"Y\":1}\n",
    "data_df['gender'] = [gender_dict[g] for g in data_df['gender']]\n",
    "data_df['car'] = [car_dict[g] for g in data_df['car']]\n",
    "data_df['reality'] = [reality_dict[g] for g in data_df['reality']]"
   ]
  },
  {
   "cell_type": "markdown",
   "id": "75958d4e",
   "metadata": {},
   "source": [
    "### 기타 전처리\n",
    "1. 'income_total'열 로그스케일링하지 않음 : 뒤에서 standard scaling 적용하므로\n",
    "2. 'FLAG_MOBIL'열 삭제: 모든 행이 같은 값을 가짐"
   ]
  },
  {
   "cell_type": "code",
   "execution_count": 163,
   "id": "1f719ba4",
   "metadata": {},
   "outputs": [],
   "source": [
    "# data_df['income_total'] = data_df['income_total'].apply(lambda x: np.log1p(1+x))"
   ]
  },
  {
   "cell_type": "code",
   "execution_count": 164,
   "id": "a0415e80",
   "metadata": {},
   "outputs": [
    {
     "name": "stdout",
     "output_type": "stream",
     "text": [
      "1    26457\n",
      "Name: FLAG_MOBIL, dtype: int64\n"
     ]
    }
   ],
   "source": [
    "print(data_df['FLAG_MOBIL'].value_counts())\n",
    "data_df = data_df.drop(['FLAG_MOBIL'],axis=1)"
   ]
  },
  {
   "cell_type": "markdown",
   "id": "99b67c79",
   "metadata": {},
   "source": [
    "### 한 사람이 여러 장의 카드를 산 경우를 파악할 수 있는 열 추가\n",
    "\n",
    "카드를 구입한 시기와 관련된 'begin_month'열과, label에 해당하는 'credit'열을 제외한 나머지 열들의 값들로 행 중복 여부를 확인한 결과\n",
    "한사람이 여러장의 카드를 산 경우가 있음을 확인\n",
    "\n",
    "##### 처리 방법\n",
    "1. 여러 장을 산 경우 1을 표기하는 열 'dup' 생성\n",
    "2. 몇장을 샀는지 표기하는 열 'cards' 생성"
   ]
  },
  {
   "cell_type": "code",
   "execution_count": 165,
   "id": "fd844eb7",
   "metadata": {},
   "outputs": [
    {
     "data": {
      "text/html": [
       "<div>\n",
       "<style scoped>\n",
       "    .dataframe tbody tr th:only-of-type {\n",
       "        vertical-align: middle;\n",
       "    }\n",
       "\n",
       "    .dataframe tbody tr th {\n",
       "        vertical-align: top;\n",
       "    }\n",
       "\n",
       "    .dataframe thead th {\n",
       "        text-align: right;\n",
       "    }\n",
       "</style>\n",
       "<table border=\"1\" class=\"dataframe\">\n",
       "  <thead>\n",
       "    <tr style=\"text-align: right;\">\n",
       "      <th></th>\n",
       "      <th>gender</th>\n",
       "      <th>car</th>\n",
       "      <th>reality</th>\n",
       "      <th>child_num</th>\n",
       "      <th>income_total</th>\n",
       "      <th>income_type</th>\n",
       "      <th>edu_type</th>\n",
       "      <th>family_type</th>\n",
       "      <th>house_type</th>\n",
       "      <th>DAYS_EMPLOYED</th>\n",
       "      <th>work_phone</th>\n",
       "      <th>phone</th>\n",
       "      <th>email</th>\n",
       "      <th>occyp_type</th>\n",
       "      <th>family_size</th>\n",
       "      <th>begin_month</th>\n",
       "      <th>credit</th>\n",
       "      <th>Age</th>\n",
       "    </tr>\n",
       "    <tr>\n",
       "      <th>index</th>\n",
       "      <th></th>\n",
       "      <th></th>\n",
       "      <th></th>\n",
       "      <th></th>\n",
       "      <th></th>\n",
       "      <th></th>\n",
       "      <th></th>\n",
       "      <th></th>\n",
       "      <th></th>\n",
       "      <th></th>\n",
       "      <th></th>\n",
       "      <th></th>\n",
       "      <th></th>\n",
       "      <th></th>\n",
       "      <th></th>\n",
       "      <th></th>\n",
       "      <th></th>\n",
       "      <th></th>\n",
       "    </tr>\n",
       "  </thead>\n",
       "  <tbody>\n",
       "    <tr>\n",
       "      <th>0</th>\n",
       "      <td>0</td>\n",
       "      <td>0</td>\n",
       "      <td>0</td>\n",
       "      <td>0</td>\n",
       "      <td>202500.0</td>\n",
       "      <td>Commercial associate</td>\n",
       "      <td>Higher education</td>\n",
       "      <td>Married</td>\n",
       "      <td>Municipal apartment</td>\n",
       "      <td>4709</td>\n",
       "      <td>0</td>\n",
       "      <td>0</td>\n",
       "      <td>0</td>\n",
       "      <td>NaN</td>\n",
       "      <td>2.0</td>\n",
       "      <td>6.0</td>\n",
       "      <td>1.0</td>\n",
       "      <td>38.079452</td>\n",
       "    </tr>\n",
       "    <tr>\n",
       "      <th>1</th>\n",
       "      <td>0</td>\n",
       "      <td>0</td>\n",
       "      <td>1</td>\n",
       "      <td>1</td>\n",
       "      <td>247500.0</td>\n",
       "      <td>Commercial associate</td>\n",
       "      <td>Secondary / secondary special</td>\n",
       "      <td>Civil marriage</td>\n",
       "      <td>House / apartment</td>\n",
       "      <td>1540</td>\n",
       "      <td>0</td>\n",
       "      <td>0</td>\n",
       "      <td>1</td>\n",
       "      <td>Laborers</td>\n",
       "      <td>3.0</td>\n",
       "      <td>5.0</td>\n",
       "      <td>1.0</td>\n",
       "      <td>31.178082</td>\n",
       "    </tr>\n",
       "    <tr>\n",
       "      <th>2</th>\n",
       "      <td>1</td>\n",
       "      <td>1</td>\n",
       "      <td>1</td>\n",
       "      <td>0</td>\n",
       "      <td>450000.0</td>\n",
       "      <td>Working</td>\n",
       "      <td>Higher education</td>\n",
       "      <td>Married</td>\n",
       "      <td>House / apartment</td>\n",
       "      <td>4434</td>\n",
       "      <td>0</td>\n",
       "      <td>1</td>\n",
       "      <td>0</td>\n",
       "      <td>Managers</td>\n",
       "      <td>2.0</td>\n",
       "      <td>22.0</td>\n",
       "      <td>2.0</td>\n",
       "      <td>52.293151</td>\n",
       "    </tr>\n",
       "  </tbody>\n",
       "</table>\n",
       "</div>"
      ],
      "text/plain": [
       "       gender  car  reality  child_num  income_total           income_type  \\\n",
       "index                                                                        \n",
       "0           0    0        0          0      202500.0  Commercial associate   \n",
       "1           0    0        1          1      247500.0  Commercial associate   \n",
       "2           1    1        1          0      450000.0               Working   \n",
       "\n",
       "                            edu_type     family_type           house_type  \\\n",
       "index                                                                       \n",
       "0                   Higher education         Married  Municipal apartment   \n",
       "1      Secondary / secondary special  Civil marriage    House / apartment   \n",
       "2                   Higher education         Married    House / apartment   \n",
       "\n",
       "       DAYS_EMPLOYED  work_phone  phone  email occyp_type  family_size  \\\n",
       "index                                                                    \n",
       "0               4709           0      0      0        NaN          2.0   \n",
       "1               1540           0      0      1   Laborers          3.0   \n",
       "2               4434           0      1      0   Managers          2.0   \n",
       "\n",
       "       begin_month  credit        Age  \n",
       "index                                  \n",
       "0              6.0     1.0  38.079452  \n",
       "1              5.0     1.0  31.178082  \n",
       "2             22.0     2.0  52.293151  "
      ]
     },
     "execution_count": 165,
     "metadata": {},
     "output_type": "execute_result"
    }
   ],
   "source": [
    "data_df.head(3)"
   ]
  },
  {
   "cell_type": "code",
   "execution_count": 166,
   "id": "099dd10f",
   "metadata": {},
   "outputs": [
    {
     "data": {
      "text/plain": [
       "True     17698\n",
       "False     8759\n",
       "dtype: int64"
      ]
     },
     "execution_count": 166,
     "metadata": {},
     "output_type": "execute_result"
    }
   ],
   "source": [
    "# 중복된 행이 있는지 확인\n",
    "data_df.drop(['begin_month','credit'],axis=1).duplicated(subset=None,keep='first').value_counts()"
   ]
  },
  {
   "cell_type": "markdown",
   "id": "23edf288",
   "metadata": {},
   "source": [
    "위 결과로부터 8759명의 유저가 고유 유저임을 확인 할 수 있었음"
   ]
  },
  {
   "cell_type": "code",
   "execution_count": 167,
   "id": "2899295b",
   "metadata": {},
   "outputs": [],
   "source": [
    "# 고유 id 열 생성\n",
    "data_df['id'] = pd.factorize(data_df.drop(['begin_month','credit'],axis=1).apply(tuple, axis=1))[0] + 1\n",
    "\n",
    "# 중복된 카드가 있는지 여부\n",
    "data_df['dup'] =data_df.drop(['begin_month','credit'],axis=1).duplicated(subset=None,keep=False)\n",
    "data_df['dup']=data_df['dup'].astype(int)\n",
    "\n",
    "# 각 id마다 가지고 있는 카드 수 세기\n",
    "tmp_dict = pd.DataFrame(data_df.id.value_counts()).to_dict('dict')\n",
    "tmp_dict = tmp_dict.get('id')\n",
    "\n",
    "data_df['cards'] = data_df['id'].apply(lambda  x:tmp_dict[x] )\n",
    "\n",
    "# id는 삭제 (id에서 나오는 인사이트 확인 위해 지우지 않음 0509 083100)\n",
    "data_df=data_df.drop(['id'],axis=1)"
   ]
  },
  {
   "cell_type": "markdown",
   "id": "b1eb0213",
   "metadata": {},
   "source": [
    "### 결측치 채우기"
   ]
  },
  {
   "cell_type": "code",
   "execution_count": 168,
   "id": "06e5385f",
   "metadata": {},
   "outputs": [
    {
     "data": {
      "text/plain": [
       "<AxesSubplot:>"
      ]
     },
     "execution_count": 168,
     "metadata": {},
     "output_type": "execute_result"
    },
    {
     "data": {
      "image/png": "[encoded data removed]",
      "text/plain": [
       "<Figure size 2160x360 with 3 Axes>"
      ]
     },
     "metadata": {
      "needs_background": "light"
     },
     "output_type": "display_data"
    }
   ],
   "source": [
    "missingno.bar(data_df, sort='ascending', figsize = (30,5))"
   ]
  },
  {
   "cell_type": "code",
   "execution_count": 169,
   "id": "f107aff8",
   "metadata": {},
   "outputs": [],
   "source": [
    "# 1. 무직자는 Unemployed 처리\n",
    "data_df.loc[(data_df['DAYS_EMPLOYED'] == 0) & (data_df['occyp_type'].isnull()), 'occyp_type'] = 'Unemployed'"
   ]
  },
  {
   "cell_type": "markdown",
   "id": "53089f96",
   "metadata": {},
   "source": [
    "##### income_type 별로 가장 많은 occyp_type을 찾아서 NaN값의 결측치를 채우기"
   ]
  },
  {
   "cell_type": "code",
   "execution_count": 170,
   "id": "44f31c61",
   "metadata": {},
   "outputs": [],
   "source": [
    "# 방법 1. 나머지는 income_type 별로 가장 많은 occyp_type을 찾아서 NaN값의 결측치를 채우기\n",
    "fillvalues = data_df.groupby('income_type').occyp_type.apply(lambda x: x.mode())\n",
    "for i in range(len(data_df)):\n",
    "    if pd.isna(data_df['occyp_type'][i]):\n",
    "        data_df['occyp_type'][i] =  fillvalues[data_df['income_type'][i]][0]\n",
    "\n",
    "# missingno.bar(data_df, sort='ascending', figsize = (30,5))"
   ]
  },
  {
   "cell_type": "markdown",
   "id": "2a82cff4",
   "metadata": {},
   "source": [
    "#####  대안2: ~직업열 외의 feature로 머신러닝하여 결측치 채우기~"
   ]
  },
  {
   "cell_type": "code",
   "execution_count": 58,
   "id": "222423eb",
   "metadata": {},
   "outputs": [],
   "source": [
    "##방법 1로 선택되어 방법 2 코드를 주석처리하였습니다.\n",
    "## 방법 2:  나머지는 머신러닝을 통해 결측치 채우기\n",
    "# from sklearn.preprocessing import OneHotEncoder, StandardScaler\n",
    "# from sklearn.compose import ColumnTransformer\n",
    "# from sklearn.pipeline import Pipeline\n",
    "# from sklearn import preprocessing\n",
    "# from sklearn.metrics import accuracy_score\n",
    "\n",
    "# from sklearn.ensemble import GradientBoostingClassifier\n",
    "\n",
    "# # occyp_type 전처리 위한 occyp_df 생성\n",
    "# occyp_df = data_df.copy()\n",
    "# occyp_df = occyp_df.drop(columns='credit', axis = 0)\n",
    "\n",
    "# # occyp_df열 분류를 위한 feature 열만 남기기\n",
    "# occyp_df = occyp_df[['occyp_type','Age','income_total','income_type','edu_type','house_type', 'work_phone','gender','car','reality']]\n",
    "\n",
    "# occyp_notnull_df = occyp_df[occyp_df['occyp_type'].notnull()]\n",
    "# occyp_isnull_df = occyp_df[occyp_df['occyp_type'].isnull()]\n",
    "# del occyp_isnull_df['occyp_type']\n",
    "\n",
    "\n",
    "# # null 값이 없는 df를 train X, y label로 나누기\n",
    "# X_train = occyp_notnull_df.drop(['occyp_type'],axis=1)\n",
    "# y_train = occyp_notnull_df['occyp_type']\n",
    "\n",
    "# numeric_features = ['income_total','Age']\n",
    "# numeric_transformer = StandardScaler() \n",
    "\n",
    "# categorical_features = ['income_type','edu_type','house_type']\n",
    "# categorical_transformer = OneHotEncoder() \n",
    "\n",
    "# pass_through = ['gender','car','reality','work_phone']\n",
    "\n",
    "# preprocessor = ColumnTransformer(\n",
    "#     transformers=[ # List of (name, transformer, column(s))\n",
    "#         ('num', numeric_transformer, numeric_features),\n",
    "#         ('cat', categorical_transformer, categorical_features),\n",
    "#         ('pass_through','passthrough',pass_through)])\n",
    "\n",
    "# preprocessor_pipe = Pipeline(steps=[('preprocessor', preprocessor)]) # preprocessing-only\n",
    "\n",
    "# preprocessor_pipe.fit(X_train)\n",
    "# X_train_transformed = preprocessor_pipe.transform(X_train)\n",
    "\n",
    "# # y_train 라벨 인코더\n",
    "# le = preprocessing.LabelEncoder()\n",
    "# le.fit(y_train)\n",
    "# y_train_transformed = le.fit_transform(y_train)\n",
    "\n",
    "# # Gradient Boosting Classifier \n",
    "# params = {'n_estimators': 1000, 'max_depth': 4, 'min_samples_split': 2,\n",
    "#           'learning_rate': 0.1}\n",
    "\n",
    "# model = GradientBoostingClassifier(**params, random_state=0)\n",
    "# model.fit(X_train_transformed, y_train_transformed) # <- x_train_transformed (not x_train)\n",
    "# model.predict(X_train_transformed)\n",
    "# accuracy = accuracy_score(model.predict(X_train_transformed), y_train_transformed)\n",
    "# print(\"model score:\", round(accuracy, 4))\n",
    "# #model score: 0.9125\n",
    "\n",
    "# X_test = occyp_isnull_df\n",
    "# X_test_transformed = preprocessor_pipe.transform(X_test)\n",
    "# y_pred = model.predict(X_test_transformed) # 결측치를 머신러닝으로 채워 넣기\n",
    "# y_pred = le.inverse_transform(y_pred) # label encoding 된 값을 원래 값으로 되돌리기\n",
    "\n",
    "# occyp_isnull_df['occyp_type'] = y_pred\n",
    "\n",
    "# occyp_new_df = pd.concat([occyp_notnull_df, occyp_isnull_df], axis=0)\n",
    "\n",
    "# occyp_new_df = occyp_new_df.sort_values('index')\n",
    "# data_df.sort_values('index')\n",
    "# data_df['occyp_type'] = occyp_new_df['occyp_type']\n",
    "\n",
    "# missingno.bar(data_df, sort='ascending', figsize = (30,5))"
   ]
  },
  {
   "cell_type": "markdown",
   "id": "782cd9fe",
   "metadata": {},
   "source": [
    "#### 전처리단 추가 내용\n",
    "1. (new) occyp_category : 찬영님 코드 확인\n",
    "1. child_num : 카테고리로 변경 ⇒ 0, 1, 2\n",
    "1. family_size\n",
    "    1. 7인 초과 가족은 이상치로 제거\n",
    "    2. 3개 카테고리 분류 - 1명 싱글 - 2~3명 핵가족 - 4명 이상 대가족"
   ]
  },
  {
   "cell_type": "markdown",
   "id": "70db73da",
   "metadata": {},
   "source": [
    "### family_size, child_num"
   ]
  },
  {
   "cell_type": "code",
   "execution_count": 171,
   "id": "2867e17c",
   "metadata": {},
   "outputs": [
    {
     "data": {
      "text/plain": [
       "2.0     14106\n",
       "1.0      5109\n",
       "3.0      4632\n",
       "4.0      2260\n",
       "5.0       291\n",
       "6.0        44\n",
       "7.0         9\n",
       "15.0        3\n",
       "9.0         2\n",
       "20.0        1\n",
       "Name: family_size, dtype: int64"
      ]
     },
     "execution_count": 171,
     "metadata": {},
     "output_type": "execute_result"
    }
   ],
   "source": [
    "data_df['family_size'].value_counts()"
   ]
  },
  {
   "cell_type": "code",
   "execution_count": 172,
   "id": "d24588f8",
   "metadata": {
    "scrolled": true
   },
   "outputs": [
    {
     "data": {
      "text/html": [
       "<div>\n",
       "<style scoped>\n",
       "    .dataframe tbody tr th:only-of-type {\n",
       "        vertical-align: middle;\n",
       "    }\n",
       "\n",
       "    .dataframe tbody tr th {\n",
       "        vertical-align: top;\n",
       "    }\n",
       "\n",
       "    .dataframe thead th {\n",
       "        text-align: right;\n",
       "    }\n",
       "</style>\n",
       "<table border=\"1\" class=\"dataframe\">\n",
       "  <thead>\n",
       "    <tr style=\"text-align: right;\">\n",
       "      <th></th>\n",
       "      <th>gender</th>\n",
       "      <th>car</th>\n",
       "      <th>reality</th>\n",
       "      <th>child_num</th>\n",
       "      <th>income_total</th>\n",
       "      <th>income_type</th>\n",
       "      <th>edu_type</th>\n",
       "      <th>family_type</th>\n",
       "      <th>house_type</th>\n",
       "      <th>DAYS_EMPLOYED</th>\n",
       "      <th>work_phone</th>\n",
       "      <th>phone</th>\n",
       "      <th>email</th>\n",
       "      <th>occyp_type</th>\n",
       "      <th>family_size</th>\n",
       "      <th>begin_month</th>\n",
       "      <th>credit</th>\n",
       "      <th>Age</th>\n",
       "      <th>dup</th>\n",
       "      <th>cards</th>\n",
       "    </tr>\n",
       "    <tr>\n",
       "      <th>index</th>\n",
       "      <th></th>\n",
       "      <th></th>\n",
       "      <th></th>\n",
       "      <th></th>\n",
       "      <th></th>\n",
       "      <th></th>\n",
       "      <th></th>\n",
       "      <th></th>\n",
       "      <th></th>\n",
       "      <th></th>\n",
       "      <th></th>\n",
       "      <th></th>\n",
       "      <th></th>\n",
       "      <th></th>\n",
       "      <th></th>\n",
       "      <th></th>\n",
       "      <th></th>\n",
       "      <th></th>\n",
       "      <th></th>\n",
       "      <th></th>\n",
       "    </tr>\n",
       "  </thead>\n",
       "  <tbody>\n",
       "    <tr>\n",
       "      <th>0</th>\n",
       "      <td>0</td>\n",
       "      <td>0</td>\n",
       "      <td>0</td>\n",
       "      <td>0</td>\n",
       "      <td>202500.0</td>\n",
       "      <td>Commercial associate</td>\n",
       "      <td>Higher education</td>\n",
       "      <td>Married</td>\n",
       "      <td>Municipal apartment</td>\n",
       "      <td>4709</td>\n",
       "      <td>0</td>\n",
       "      <td>0</td>\n",
       "      <td>0</td>\n",
       "      <td>Laborers</td>\n",
       "      <td>2.0</td>\n",
       "      <td>6.0</td>\n",
       "      <td>1.0</td>\n",
       "      <td>38.079452</td>\n",
       "      <td>1</td>\n",
       "      <td>5</td>\n",
       "    </tr>\n",
       "    <tr>\n",
       "      <th>1</th>\n",
       "      <td>0</td>\n",
       "      <td>0</td>\n",
       "      <td>1</td>\n",
       "      <td>1</td>\n",
       "      <td>247500.0</td>\n",
       "      <td>Commercial associate</td>\n",
       "      <td>Secondary / secondary special</td>\n",
       "      <td>Civil marriage</td>\n",
       "      <td>House / apartment</td>\n",
       "      <td>1540</td>\n",
       "      <td>0</td>\n",
       "      <td>0</td>\n",
       "      <td>1</td>\n",
       "      <td>Laborers</td>\n",
       "      <td>3.0</td>\n",
       "      <td>5.0</td>\n",
       "      <td>1.0</td>\n",
       "      <td>31.178082</td>\n",
       "      <td>1</td>\n",
       "      <td>9</td>\n",
       "    </tr>\n",
       "    <tr>\n",
       "      <th>2</th>\n",
       "      <td>1</td>\n",
       "      <td>1</td>\n",
       "      <td>1</td>\n",
       "      <td>0</td>\n",
       "      <td>450000.0</td>\n",
       "      <td>Working</td>\n",
       "      <td>Higher education</td>\n",
       "      <td>Married</td>\n",
       "      <td>House / apartment</td>\n",
       "      <td>4434</td>\n",
       "      <td>0</td>\n",
       "      <td>1</td>\n",
       "      <td>0</td>\n",
       "      <td>Managers</td>\n",
       "      <td>2.0</td>\n",
       "      <td>22.0</td>\n",
       "      <td>2.0</td>\n",
       "      <td>52.293151</td>\n",
       "      <td>1</td>\n",
       "      <td>6</td>\n",
       "    </tr>\n",
       "    <tr>\n",
       "      <th>3</th>\n",
       "      <td>0</td>\n",
       "      <td>0</td>\n",
       "      <td>1</td>\n",
       "      <td>0</td>\n",
       "      <td>202500.0</td>\n",
       "      <td>Commercial associate</td>\n",
       "      <td>Secondary / secondary special</td>\n",
       "      <td>Married</td>\n",
       "      <td>House / apartment</td>\n",
       "      <td>2092</td>\n",
       "      <td>0</td>\n",
       "      <td>1</td>\n",
       "      <td>0</td>\n",
       "      <td>Sales staff</td>\n",
       "      <td>2.0</td>\n",
       "      <td>37.0</td>\n",
       "      <td>0.0</td>\n",
       "      <td>41.336986</td>\n",
       "      <td>1</td>\n",
       "      <td>2</td>\n",
       "    </tr>\n",
       "    <tr>\n",
       "      <th>4</th>\n",
       "      <td>0</td>\n",
       "      <td>1</td>\n",
       "      <td>1</td>\n",
       "      <td>0</td>\n",
       "      <td>157500.0</td>\n",
       "      <td>State servant</td>\n",
       "      <td>Higher education</td>\n",
       "      <td>Married</td>\n",
       "      <td>House / apartment</td>\n",
       "      <td>2105</td>\n",
       "      <td>0</td>\n",
       "      <td>0</td>\n",
       "      <td>0</td>\n",
       "      <td>Managers</td>\n",
       "      <td>2.0</td>\n",
       "      <td>26.0</td>\n",
       "      <td>2.0</td>\n",
       "      <td>41.197260</td>\n",
       "      <td>0</td>\n",
       "      <td>1</td>\n",
       "    </tr>\n",
       "  </tbody>\n",
       "</table>\n",
       "</div>"
      ],
      "text/plain": [
       "       gender  car  reality  child_num  income_total           income_type  \\\n",
       "index                                                                        \n",
       "0           0    0        0          0      202500.0  Commercial associate   \n",
       "1           0    0        1          1      247500.0  Commercial associate   \n",
       "2           1    1        1          0      450000.0               Working   \n",
       "3           0    0        1          0      202500.0  Commercial associate   \n",
       "4           0    1        1          0      157500.0         State servant   \n",
       "\n",
       "                            edu_type     family_type           house_type  \\\n",
       "index                                                                       \n",
       "0                   Higher education         Married  Municipal apartment   \n",
       "1      Secondary / secondary special  Civil marriage    House / apartment   \n",
       "2                   Higher education         Married    House / apartment   \n",
       "3      Secondary / secondary special         Married    House / apartment   \n",
       "4                   Higher education         Married    House / apartment   \n",
       "\n",
       "       DAYS_EMPLOYED  work_phone  phone  email   occyp_type  family_size  \\\n",
       "index                                                                      \n",
       "0               4709           0      0      0     Laborers          2.0   \n",
       "1               1540           0      0      1     Laborers          3.0   \n",
       "2               4434           0      1      0     Managers          2.0   \n",
       "3               2092           0      1      0  Sales staff          2.0   \n",
       "4               2105           0      0      0     Managers          2.0   \n",
       "\n",
       "       begin_month  credit        Age  dup  cards  \n",
       "index                                              \n",
       "0              6.0     1.0  38.079452    1      5  \n",
       "1              5.0     1.0  31.178082    1      9  \n",
       "2             22.0     2.0  52.293151    1      6  \n",
       "3             37.0     0.0  41.336986    1      2  \n",
       "4             26.0     2.0  41.197260    0      1  "
      ]
     },
     "execution_count": 172,
     "metadata": {},
     "output_type": "execute_result"
    }
   ],
   "source": [
    "# fam size <= 7 까지만 남기고 이상치 제거\n",
    "data_df = data_df[data_df['family_size']<=7] #26457 -> 26451행\n",
    "data_df.head()"
   ]
  },
  {
   "cell_type": "code",
   "execution_count": 173,
   "id": "19dc7f25",
   "metadata": {
    "scrolled": true
   },
   "outputs": [
    {
     "data": {
      "text/plain": [
       "<AxesSubplot:>"
      ]
     },
     "execution_count": 173,
     "metadata": {},
     "output_type": "execute_result"
    },
    {
     "data": {
      "image/png": "[encoded data removed]",
      "text/plain": [
       "<Figure size 432x288 with 1 Axes>"
      ]
     },
     "metadata": {
      "needs_background": "light"
     },
     "output_type": "display_data"
    }
   ],
   "source": [
    "data_df['child_num'].value_counts(sort=False).plot.bar()"
   ]
  },
  {
   "cell_type": "markdown",
   "id": "76320a57",
   "metadata": {},
   "source": [
    "child_num -> 범주형 변수로 수정 처리\n",
    "* 0 - 자녀 없음\n",
    "* 1 - 자녀 1명\n",
    "* 2 - 2명 이상의 다자녀"
   ]
  },
  {
   "cell_type": "code",
   "execution_count": 174,
   "id": "89d5e1ad",
   "metadata": {},
   "outputs": [],
   "source": [
    "data_df.loc[data_df['child_num'] >= 2,'child_num']=2"
   ]
  },
  {
   "cell_type": "code",
   "execution_count": 175,
   "id": "1d46a19b",
   "metadata": {},
   "outputs": [
    {
     "data": {
      "text/plain": [
       "<AxesSubplot:>"
      ]
     },
     "execution_count": 175,
     "metadata": {},
     "output_type": "execute_result"
    },
    {
     "data": {
      "image/png": "[encoded data removed]",
      "text/plain": [
       "<Figure size 432x288 with 1 Axes>"
      ]
     },
     "metadata": {
      "needs_background": "light"
     },
     "output_type": "display_data"
    }
   ],
   "source": [
    "data_df['family_size'].value_counts().plot.bar()"
   ]
  },
  {
   "cell_type": "code",
   "execution_count": 176,
   "id": "39499a0c",
   "metadata": {},
   "outputs": [],
   "source": [
    "data_df.loc[data_df['family_size'] >= 5,'family_size']=4"
   ]
  },
  {
   "cell_type": "code",
   "execution_count": 177,
   "id": "1a95f625",
   "metadata": {},
   "outputs": [],
   "source": [
    "data_df.loc[data_df['family_size'] == 1,'family_category']= 'Nuclear'\n",
    "data_df.loc[data_df['family_size'] >= 4,'family_category']= 'big'\n",
    "data_df.loc[(data_df['family_size'] < 4) & (data_df['family_size'] >= 2),'family_category']= 'small'"
   ]
  },
  {
   "cell_type": "markdown",
   "id": "a644dca7",
   "metadata": {},
   "source": [
    "### occyp_new"
   ]
  },
  {
   "cell_type": "code",
   "execution_count": 178,
   "id": "6836c54a",
   "metadata": {
    "scrolled": true
   },
   "outputs": [
    {
     "data": {
      "text/plain": [
       "{'Laborers': array([64.1, 23.6, 12.3]),\n",
       " 'Managers': array([65.9, 21.1, 12.9]),\n",
       " 'Sales staff': array([62.9, 25.6, 11.5]),\n",
       " 'High skill tech staff': array([62.2, 26. , 11.8]),\n",
       " 'Core staff': array([63.7, 23.2, 13.1]),\n",
       " 'Drivers': array([65.3, 22.8, 11.9]),\n",
       " 'Medicine staff': array([68.3, 22.1,  9.6]),\n",
       " 'Accountants': array([61.8, 25.2, 13.1]),\n",
       " 'Unemployed': array([63.5, 24.4, 12.1]),\n",
       " 'Realty agents': array([69.8, 15.9, 14.3]),\n",
       " 'Security staff': array([70. , 20.8,  9.2]),\n",
       " 'Cleaning staff': array([66.8, 23.2, 10. ]),\n",
       " 'Private service staff': array([63. , 22.6, 14.4]),\n",
       " 'Cooking staff': array([63.2, 24.1, 12.7]),\n",
       " 'Secretaries': array([58.8, 32. ,  9.3]),\n",
       " 'HR staff': array([82.3, 11.3,  6.5]),\n",
       " 'IT staff': array([56.1, 24.4, 19.5]),\n",
       " 'Low-skill Laborers': array([66.1, 17.3, 16.5]),\n",
       " 'Waiters/barmen staff': array([51.2, 40.7,  8.1])}"
      ]
     },
     "execution_count": 178,
     "metadata": {},
     "output_type": "execute_result"
    }
   ],
   "source": [
    "dictionary = {}\n",
    "for n,occyp in enumerate(data_df.occyp_type.unique()):\n",
    "    temp=data_df.loc[data_df.occyp_type==occyp ,'credit'].value_counts().values\n",
    "    dictionary[occyp] = (temp/temp.sum()).round(3)*100\n",
    "\n",
    "occyp_2 = ['Medicine staff', 'Security staff', 'Cleaning staff', 'Waiters/barmen staff', 'Secretaries', 'HR staff']\n",
    "occyp_1 = ['High skill tech staff', 'Laborers', 'Sales staff', 'Accountants', 'Realty agents','Cooking staff', 'Drivers']\n",
    "occyp_0 = ['Managers', 'Core staff', 'Unemployed', 'Private service staff', 'IT staff', 'Low-skill Laborers']\n",
    "\n",
    "\n",
    "data_df.loc[data_df['occyp_type'].isin(occyp_0), 'occyp_category'] = 0\n",
    "data_df.loc[data_df['occyp_type'].isin(occyp_1), 'occyp_category'] = 1\n",
    "data_df.loc[data_df['occyp_type'].isin(occyp_2), 'occyp_category'] = 2\n",
    "\n",
    "dictionary"
   ]
  },
  {
   "cell_type": "code",
   "execution_count": 179,
   "id": "2a664aae",
   "metadata": {},
   "outputs": [
    {
     "data": {
      "text/plain": [
       "<AxesSubplot:xlabel='occyp_category', ylabel='count'>"
      ]
     },
     "execution_count": 179,
     "metadata": {},
     "output_type": "execute_result"
    },
    {
     "data": {
      "image/png": "[encoded data removed]",
      "text/plain": [
       "<Figure size 432x288 with 1 Axes>"
      ]
     },
     "metadata": {
      "needs_background": "light"
     },
     "output_type": "display_data"
    }
   ],
   "source": [
    "sns.countplot(data=data_df, x = 'occyp_category', hue = 'credit')"
   ]
  },
  {
   "cell_type": "code",
   "execution_count": 180,
   "id": "feebe7f6",
   "metadata": {
    "scrolled": true
   },
   "outputs": [
    {
     "data": {
      "text/html": [
       "<div>\n",
       "<style scoped>\n",
       "    .dataframe tbody tr th:only-of-type {\n",
       "        vertical-align: middle;\n",
       "    }\n",
       "\n",
       "    .dataframe tbody tr th {\n",
       "        vertical-align: top;\n",
       "    }\n",
       "\n",
       "    .dataframe thead th {\n",
       "        text-align: right;\n",
       "    }\n",
       "</style>\n",
       "<table border=\"1\" class=\"dataframe\">\n",
       "  <thead>\n",
       "    <tr style=\"text-align: right;\">\n",
       "      <th></th>\n",
       "      <th>gender</th>\n",
       "      <th>car</th>\n",
       "      <th>reality</th>\n",
       "      <th>child_num</th>\n",
       "      <th>income_total</th>\n",
       "      <th>income_type</th>\n",
       "      <th>edu_type</th>\n",
       "      <th>family_type</th>\n",
       "      <th>house_type</th>\n",
       "      <th>DAYS_EMPLOYED</th>\n",
       "      <th>...</th>\n",
       "      <th>email</th>\n",
       "      <th>occyp_type</th>\n",
       "      <th>family_size</th>\n",
       "      <th>begin_month</th>\n",
       "      <th>credit</th>\n",
       "      <th>Age</th>\n",
       "      <th>dup</th>\n",
       "      <th>cards</th>\n",
       "      <th>family_category</th>\n",
       "      <th>occyp_category</th>\n",
       "    </tr>\n",
       "    <tr>\n",
       "      <th>index</th>\n",
       "      <th></th>\n",
       "      <th></th>\n",
       "      <th></th>\n",
       "      <th></th>\n",
       "      <th></th>\n",
       "      <th></th>\n",
       "      <th></th>\n",
       "      <th></th>\n",
       "      <th></th>\n",
       "      <th></th>\n",
       "      <th></th>\n",
       "      <th></th>\n",
       "      <th></th>\n",
       "      <th></th>\n",
       "      <th></th>\n",
       "      <th></th>\n",
       "      <th></th>\n",
       "      <th></th>\n",
       "      <th></th>\n",
       "      <th></th>\n",
       "      <th></th>\n",
       "    </tr>\n",
       "  </thead>\n",
       "  <tbody>\n",
       "    <tr>\n",
       "      <th>0</th>\n",
       "      <td>0</td>\n",
       "      <td>0</td>\n",
       "      <td>0</td>\n",
       "      <td>0</td>\n",
       "      <td>202500.0</td>\n",
       "      <td>Commercial associate</td>\n",
       "      <td>Higher education</td>\n",
       "      <td>Married</td>\n",
       "      <td>Municipal apartment</td>\n",
       "      <td>4709</td>\n",
       "      <td>...</td>\n",
       "      <td>0</td>\n",
       "      <td>Laborers</td>\n",
       "      <td>2.0</td>\n",
       "      <td>6.0</td>\n",
       "      <td>1.0</td>\n",
       "      <td>38.079452</td>\n",
       "      <td>1</td>\n",
       "      <td>5</td>\n",
       "      <td>small</td>\n",
       "      <td>1.0</td>\n",
       "    </tr>\n",
       "    <tr>\n",
       "      <th>1</th>\n",
       "      <td>0</td>\n",
       "      <td>0</td>\n",
       "      <td>1</td>\n",
       "      <td>1</td>\n",
       "      <td>247500.0</td>\n",
       "      <td>Commercial associate</td>\n",
       "      <td>Secondary / secondary special</td>\n",
       "      <td>Civil marriage</td>\n",
       "      <td>House / apartment</td>\n",
       "      <td>1540</td>\n",
       "      <td>...</td>\n",
       "      <td>1</td>\n",
       "      <td>Laborers</td>\n",
       "      <td>3.0</td>\n",
       "      <td>5.0</td>\n",
       "      <td>1.0</td>\n",
       "      <td>31.178082</td>\n",
       "      <td>1</td>\n",
       "      <td>9</td>\n",
       "      <td>small</td>\n",
       "      <td>1.0</td>\n",
       "    </tr>\n",
       "    <tr>\n",
       "      <th>2</th>\n",
       "      <td>1</td>\n",
       "      <td>1</td>\n",
       "      <td>1</td>\n",
       "      <td>0</td>\n",
       "      <td>450000.0</td>\n",
       "      <td>Working</td>\n",
       "      <td>Higher education</td>\n",
       "      <td>Married</td>\n",
       "      <td>House / apartment</td>\n",
       "      <td>4434</td>\n",
       "      <td>...</td>\n",
       "      <td>0</td>\n",
       "      <td>Managers</td>\n",
       "      <td>2.0</td>\n",
       "      <td>22.0</td>\n",
       "      <td>2.0</td>\n",
       "      <td>52.293151</td>\n",
       "      <td>1</td>\n",
       "      <td>6</td>\n",
       "      <td>small</td>\n",
       "      <td>0.0</td>\n",
       "    </tr>\n",
       "    <tr>\n",
       "      <th>3</th>\n",
       "      <td>0</td>\n",
       "      <td>0</td>\n",
       "      <td>1</td>\n",
       "      <td>0</td>\n",
       "      <td>202500.0</td>\n",
       "      <td>Commercial associate</td>\n",
       "      <td>Secondary / secondary special</td>\n",
       "      <td>Married</td>\n",
       "      <td>House / apartment</td>\n",
       "      <td>2092</td>\n",
       "      <td>...</td>\n",
       "      <td>0</td>\n",
       "      <td>Sales staff</td>\n",
       "      <td>2.0</td>\n",
       "      <td>37.0</td>\n",
       "      <td>0.0</td>\n",
       "      <td>41.336986</td>\n",
       "      <td>1</td>\n",
       "      <td>2</td>\n",
       "      <td>small</td>\n",
       "      <td>1.0</td>\n",
       "    </tr>\n",
       "    <tr>\n",
       "      <th>4</th>\n",
       "      <td>0</td>\n",
       "      <td>1</td>\n",
       "      <td>1</td>\n",
       "      <td>0</td>\n",
       "      <td>157500.0</td>\n",
       "      <td>State servant</td>\n",
       "      <td>Higher education</td>\n",
       "      <td>Married</td>\n",
       "      <td>House / apartment</td>\n",
       "      <td>2105</td>\n",
       "      <td>...</td>\n",
       "      <td>0</td>\n",
       "      <td>Managers</td>\n",
       "      <td>2.0</td>\n",
       "      <td>26.0</td>\n",
       "      <td>2.0</td>\n",
       "      <td>41.197260</td>\n",
       "      <td>0</td>\n",
       "      <td>1</td>\n",
       "      <td>small</td>\n",
       "      <td>0.0</td>\n",
       "    </tr>\n",
       "  </tbody>\n",
       "</table>\n",
       "<p>5 rows × 22 columns</p>\n",
       "</div>"
      ],
      "text/plain": [
       "       gender  car  reality  child_num  income_total           income_type  \\\n",
       "index                                                                        \n",
       "0           0    0        0          0      202500.0  Commercial associate   \n",
       "1           0    0        1          1      247500.0  Commercial associate   \n",
       "2           1    1        1          0      450000.0               Working   \n",
       "3           0    0        1          0      202500.0  Commercial associate   \n",
       "4           0    1        1          0      157500.0         State servant   \n",
       "\n",
       "                            edu_type     family_type           house_type  \\\n",
       "index                                                                       \n",
       "0                   Higher education         Married  Municipal apartment   \n",
       "1      Secondary / secondary special  Civil marriage    House / apartment   \n",
       "2                   Higher education         Married    House / apartment   \n",
       "3      Secondary / secondary special         Married    House / apartment   \n",
       "4                   Higher education         Married    House / apartment   \n",
       "\n",
       "       DAYS_EMPLOYED  ...  email   occyp_type  family_size begin_month  \\\n",
       "index                 ...                                                \n",
       "0               4709  ...      0     Laborers          2.0         6.0   \n",
       "1               1540  ...      1     Laborers          3.0         5.0   \n",
       "2               4434  ...      0     Managers          2.0        22.0   \n",
       "3               2092  ...      0  Sales staff          2.0        37.0   \n",
       "4               2105  ...      0     Managers          2.0        26.0   \n",
       "\n",
       "       credit        Age  dup  cards  family_category  occyp_category  \n",
       "index                                                                  \n",
       "0         1.0  38.079452    1      5            small             1.0  \n",
       "1         1.0  31.178082    1      9            small             1.0  \n",
       "2         2.0  52.293151    1      6            small             0.0  \n",
       "3         0.0  41.336986    1      2            small             1.0  \n",
       "4         2.0  41.197260    0      1            small             0.0  \n",
       "\n",
       "[5 rows x 22 columns]"
      ]
     },
     "execution_count": 180,
     "metadata": {},
     "output_type": "execute_result"
    }
   ],
   "source": [
    "data_df.head()"
   ]
  },
  {
   "cell_type": "code",
   "execution_count": 181,
   "id": "0cacff94",
   "metadata": {
    "scrolled": true
   },
   "outputs": [
    {
     "data": {
      "text/plain": [
       "Index(['gender', 'car', 'reality', 'child_num', 'income_total', 'income_type',\n",
       "       'edu_type', 'family_type', 'house_type', 'DAYS_EMPLOYED', 'work_phone',\n",
       "       'phone', 'email', 'occyp_type', 'family_size', 'begin_month', 'credit',\n",
       "       'Age', 'dup', 'cards', 'family_category', 'occyp_category'],\n",
       "      dtype='object')"
      ]
     },
     "execution_count": 181,
     "metadata": {},
     "output_type": "execute_result"
    }
   ],
   "source": [
    "data_df.columns"
   ]
  },
  {
   "cell_type": "code",
   "execution_count": 182,
   "id": "3eee7b5d",
   "metadata": {
    "scrolled": true
   },
   "outputs": [
    {
     "data": {
      "text/plain": [
       "<AxesSubplot:>"
      ]
     },
     "execution_count": 182,
     "metadata": {},
     "output_type": "execute_result"
    },
    {
     "data": {
      "image/png": "[encoded data removed]",
      "text/plain": [
       "<Figure size 2160x360 with 3 Axes>"
      ]
     },
     "metadata": {
      "needs_background": "light"
     },
     "output_type": "display_data"
    }
   ],
   "source": [
    "missingno.bar(data_df, sort='ascending', figsize = (30,5))"
   ]
  },
  {
   "cell_type": "code",
   "execution_count": 183,
   "id": "0941bcb8",
   "metadata": {},
   "outputs": [
    {
     "data": {
      "text/html": [
       "<div>\n",
       "<style scoped>\n",
       "    .dataframe tbody tr th:only-of-type {\n",
       "        vertical-align: middle;\n",
       "    }\n",
       "\n",
       "    .dataframe tbody tr th {\n",
       "        vertical-align: top;\n",
       "    }\n",
       "\n",
       "    .dataframe thead th {\n",
       "        text-align: right;\n",
       "    }\n",
       "</style>\n",
       "<table border=\"1\" class=\"dataframe\">\n",
       "  <thead>\n",
       "    <tr style=\"text-align: right;\">\n",
       "      <th></th>\n",
       "      <th>gender</th>\n",
       "      <th>car</th>\n",
       "      <th>reality</th>\n",
       "      <th>child_num</th>\n",
       "      <th>income_total</th>\n",
       "      <th>income_type</th>\n",
       "      <th>edu_type</th>\n",
       "      <th>family_type</th>\n",
       "      <th>house_type</th>\n",
       "      <th>DAYS_EMPLOYED</th>\n",
       "      <th>...</th>\n",
       "      <th>email</th>\n",
       "      <th>occyp_type</th>\n",
       "      <th>family_size</th>\n",
       "      <th>begin_month</th>\n",
       "      <th>credit</th>\n",
       "      <th>Age</th>\n",
       "      <th>dup</th>\n",
       "      <th>cards</th>\n",
       "      <th>family_category</th>\n",
       "      <th>occyp_category</th>\n",
       "    </tr>\n",
       "    <tr>\n",
       "      <th>index</th>\n",
       "      <th></th>\n",
       "      <th></th>\n",
       "      <th></th>\n",
       "      <th></th>\n",
       "      <th></th>\n",
       "      <th></th>\n",
       "      <th></th>\n",
       "      <th></th>\n",
       "      <th></th>\n",
       "      <th></th>\n",
       "      <th></th>\n",
       "      <th></th>\n",
       "      <th></th>\n",
       "      <th></th>\n",
       "      <th></th>\n",
       "      <th></th>\n",
       "      <th></th>\n",
       "      <th></th>\n",
       "      <th></th>\n",
       "      <th></th>\n",
       "      <th></th>\n",
       "    </tr>\n",
       "  </thead>\n",
       "  <tbody>\n",
       "    <tr>\n",
       "      <th>0</th>\n",
       "      <td>0</td>\n",
       "      <td>0</td>\n",
       "      <td>0</td>\n",
       "      <td>0</td>\n",
       "      <td>202500.0</td>\n",
       "      <td>Commercial associate</td>\n",
       "      <td>Higher education</td>\n",
       "      <td>Married</td>\n",
       "      <td>Municipal apartment</td>\n",
       "      <td>4709</td>\n",
       "      <td>...</td>\n",
       "      <td>0</td>\n",
       "      <td>Laborers</td>\n",
       "      <td>2.0</td>\n",
       "      <td>6.0</td>\n",
       "      <td>1.0</td>\n",
       "      <td>38.079452</td>\n",
       "      <td>1</td>\n",
       "      <td>5</td>\n",
       "      <td>small</td>\n",
       "      <td>1.0</td>\n",
       "    </tr>\n",
       "    <tr>\n",
       "      <th>1</th>\n",
       "      <td>0</td>\n",
       "      <td>0</td>\n",
       "      <td>1</td>\n",
       "      <td>1</td>\n",
       "      <td>247500.0</td>\n",
       "      <td>Commercial associate</td>\n",
       "      <td>Secondary / secondary special</td>\n",
       "      <td>Civil marriage</td>\n",
       "      <td>House / apartment</td>\n",
       "      <td>1540</td>\n",
       "      <td>...</td>\n",
       "      <td>1</td>\n",
       "      <td>Laborers</td>\n",
       "      <td>3.0</td>\n",
       "      <td>5.0</td>\n",
       "      <td>1.0</td>\n",
       "      <td>31.178082</td>\n",
       "      <td>1</td>\n",
       "      <td>9</td>\n",
       "      <td>small</td>\n",
       "      <td>1.0</td>\n",
       "    </tr>\n",
       "    <tr>\n",
       "      <th>2</th>\n",
       "      <td>1</td>\n",
       "      <td>1</td>\n",
       "      <td>1</td>\n",
       "      <td>0</td>\n",
       "      <td>450000.0</td>\n",
       "      <td>Working</td>\n",
       "      <td>Higher education</td>\n",
       "      <td>Married</td>\n",
       "      <td>House / apartment</td>\n",
       "      <td>4434</td>\n",
       "      <td>...</td>\n",
       "      <td>0</td>\n",
       "      <td>Managers</td>\n",
       "      <td>2.0</td>\n",
       "      <td>22.0</td>\n",
       "      <td>2.0</td>\n",
       "      <td>52.293151</td>\n",
       "      <td>1</td>\n",
       "      <td>6</td>\n",
       "      <td>small</td>\n",
       "      <td>0.0</td>\n",
       "    </tr>\n",
       "    <tr>\n",
       "      <th>3</th>\n",
       "      <td>0</td>\n",
       "      <td>0</td>\n",
       "      <td>1</td>\n",
       "      <td>0</td>\n",
       "      <td>202500.0</td>\n",
       "      <td>Commercial associate</td>\n",
       "      <td>Secondary / secondary special</td>\n",
       "      <td>Married</td>\n",
       "      <td>House / apartment</td>\n",
       "      <td>2092</td>\n",
       "      <td>...</td>\n",
       "      <td>0</td>\n",
       "      <td>Sales staff</td>\n",
       "      <td>2.0</td>\n",
       "      <td>37.0</td>\n",
       "      <td>0.0</td>\n",
       "      <td>41.336986</td>\n",
       "      <td>1</td>\n",
       "      <td>2</td>\n",
       "      <td>small</td>\n",
       "      <td>1.0</td>\n",
       "    </tr>\n",
       "    <tr>\n",
       "      <th>4</th>\n",
       "      <td>0</td>\n",
       "      <td>1</td>\n",
       "      <td>1</td>\n",
       "      <td>0</td>\n",
       "      <td>157500.0</td>\n",
       "      <td>State servant</td>\n",
       "      <td>Higher education</td>\n",
       "      <td>Married</td>\n",
       "      <td>House / apartment</td>\n",
       "      <td>2105</td>\n",
       "      <td>...</td>\n",
       "      <td>0</td>\n",
       "      <td>Managers</td>\n",
       "      <td>2.0</td>\n",
       "      <td>26.0</td>\n",
       "      <td>2.0</td>\n",
       "      <td>41.197260</td>\n",
       "      <td>0</td>\n",
       "      <td>1</td>\n",
       "      <td>small</td>\n",
       "      <td>0.0</td>\n",
       "    </tr>\n",
       "    <tr>\n",
       "      <th>...</th>\n",
       "      <td>...</td>\n",
       "      <td>...</td>\n",
       "      <td>...</td>\n",
       "      <td>...</td>\n",
       "      <td>...</td>\n",
       "      <td>...</td>\n",
       "      <td>...</td>\n",
       "      <td>...</td>\n",
       "      <td>...</td>\n",
       "      <td>...</td>\n",
       "      <td>...</td>\n",
       "      <td>...</td>\n",
       "      <td>...</td>\n",
       "      <td>...</td>\n",
       "      <td>...</td>\n",
       "      <td>...</td>\n",
       "      <td>...</td>\n",
       "      <td>...</td>\n",
       "      <td>...</td>\n",
       "      <td>...</td>\n",
       "      <td>...</td>\n",
       "    </tr>\n",
       "    <tr>\n",
       "      <th>26452</th>\n",
       "      <td>0</td>\n",
       "      <td>0</td>\n",
       "      <td>0</td>\n",
       "      <td>2</td>\n",
       "      <td>225000.0</td>\n",
       "      <td>State servant</td>\n",
       "      <td>Secondary / secondary special</td>\n",
       "      <td>Married</td>\n",
       "      <td>House / apartment</td>\n",
       "      <td>1984</td>\n",
       "      <td>...</td>\n",
       "      <td>0</td>\n",
       "      <td>Core staff</td>\n",
       "      <td>4.0</td>\n",
       "      <td>2.0</td>\n",
       "      <td>1.0</td>\n",
       "      <td>33.093151</td>\n",
       "      <td>1</td>\n",
       "      <td>5</td>\n",
       "      <td>big</td>\n",
       "      <td>0.0</td>\n",
       "    </tr>\n",
       "    <tr>\n",
       "      <th>26453</th>\n",
       "      <td>0</td>\n",
       "      <td>0</td>\n",
       "      <td>1</td>\n",
       "      <td>1</td>\n",
       "      <td>180000.0</td>\n",
       "      <td>Working</td>\n",
       "      <td>Higher education</td>\n",
       "      <td>Separated</td>\n",
       "      <td>House / apartment</td>\n",
       "      <td>2475</td>\n",
       "      <td>...</td>\n",
       "      <td>0</td>\n",
       "      <td>Laborers</td>\n",
       "      <td>2.0</td>\n",
       "      <td>47.0</td>\n",
       "      <td>2.0</td>\n",
       "      <td>41.893151</td>\n",
       "      <td>0</td>\n",
       "      <td>1</td>\n",
       "      <td>small</td>\n",
       "      <td>1.0</td>\n",
       "    </tr>\n",
       "    <tr>\n",
       "      <th>26454</th>\n",
       "      <td>0</td>\n",
       "      <td>1</td>\n",
       "      <td>0</td>\n",
       "      <td>0</td>\n",
       "      <td>292500.0</td>\n",
       "      <td>Working</td>\n",
       "      <td>Secondary / secondary special</td>\n",
       "      <td>Civil marriage</td>\n",
       "      <td>With parents</td>\n",
       "      <td>2015</td>\n",
       "      <td>...</td>\n",
       "      <td>0</td>\n",
       "      <td>Core staff</td>\n",
       "      <td>2.0</td>\n",
       "      <td>25.0</td>\n",
       "      <td>2.0</td>\n",
       "      <td>27.621918</td>\n",
       "      <td>0</td>\n",
       "      <td>1</td>\n",
       "      <td>small</td>\n",
       "      <td>0.0</td>\n",
       "    </tr>\n",
       "    <tr>\n",
       "      <th>26455</th>\n",
       "      <td>1</td>\n",
       "      <td>0</td>\n",
       "      <td>1</td>\n",
       "      <td>0</td>\n",
       "      <td>171000.0</td>\n",
       "      <td>Working</td>\n",
       "      <td>Incomplete higher</td>\n",
       "      <td>Single / not married</td>\n",
       "      <td>House / apartment</td>\n",
       "      <td>107</td>\n",
       "      <td>...</td>\n",
       "      <td>0</td>\n",
       "      <td>Laborers</td>\n",
       "      <td>1.0</td>\n",
       "      <td>59.0</td>\n",
       "      <td>2.0</td>\n",
       "      <td>27.794521</td>\n",
       "      <td>0</td>\n",
       "      <td>1</td>\n",
       "      <td>Nuclear</td>\n",
       "      <td>1.0</td>\n",
       "    </tr>\n",
       "    <tr>\n",
       "      <th>26456</th>\n",
       "      <td>0</td>\n",
       "      <td>0</td>\n",
       "      <td>0</td>\n",
       "      <td>0</td>\n",
       "      <td>81000.0</td>\n",
       "      <td>Working</td>\n",
       "      <td>Secondary / secondary special</td>\n",
       "      <td>Civil marriage</td>\n",
       "      <td>House / apartment</td>\n",
       "      <td>1013</td>\n",
       "      <td>...</td>\n",
       "      <td>0</td>\n",
       "      <td>Security staff</td>\n",
       "      <td>2.0</td>\n",
       "      <td>9.0</td>\n",
       "      <td>2.0</td>\n",
       "      <td>53.613699</td>\n",
       "      <td>0</td>\n",
       "      <td>1</td>\n",
       "      <td>small</td>\n",
       "      <td>2.0</td>\n",
       "    </tr>\n",
       "  </tbody>\n",
       "</table>\n",
       "<p>26451 rows × 22 columns</p>\n",
       "</div>"
      ],
      "text/plain": [
       "       gender  car  reality  child_num  income_total           income_type  \\\n",
       "index                                                                        \n",
       "0           0    0        0          0      202500.0  Commercial associate   \n",
       "1           0    0        1          1      247500.0  Commercial associate   \n",
       "2           1    1        1          0      450000.0               Working   \n",
       "3           0    0        1          0      202500.0  Commercial associate   \n",
       "4           0    1        1          0      157500.0         State servant   \n",
       "...       ...  ...      ...        ...           ...                   ...   \n",
       "26452       0    0        0          2      225000.0         State servant   \n",
       "26453       0    0        1          1      180000.0               Working   \n",
       "26454       0    1        0          0      292500.0               Working   \n",
       "26455       1    0        1          0      171000.0               Working   \n",
       "26456       0    0        0          0       81000.0               Working   \n",
       "\n",
       "                            edu_type           family_type  \\\n",
       "index                                                        \n",
       "0                   Higher education               Married   \n",
       "1      Secondary / secondary special        Civil marriage   \n",
       "2                   Higher education               Married   \n",
       "3      Secondary / secondary special               Married   \n",
       "4                   Higher education               Married   \n",
       "...                              ...                   ...   \n",
       "26452  Secondary / secondary special               Married   \n",
       "26453               Higher education             Separated   \n",
       "26454  Secondary / secondary special        Civil marriage   \n",
       "26455              Incomplete higher  Single / not married   \n",
       "26456  Secondary / secondary special        Civil marriage   \n",
       "\n",
       "                house_type  DAYS_EMPLOYED  ...  email      occyp_type  \\\n",
       "index                                      ...                          \n",
       "0      Municipal apartment           4709  ...      0        Laborers   \n",
       "1        House / apartment           1540  ...      1        Laborers   \n",
       "2        House / apartment           4434  ...      0        Managers   \n",
       "3        House / apartment           2092  ...      0     Sales staff   \n",
       "4        House / apartment           2105  ...      0        Managers   \n",
       "...                    ...            ...  ...    ...             ...   \n",
       "26452    House / apartment           1984  ...      0      Core staff   \n",
       "26453    House / apartment           2475  ...      0        Laborers   \n",
       "26454         With parents           2015  ...      0      Core staff   \n",
       "26455    House / apartment            107  ...      0        Laborers   \n",
       "26456    House / apartment           1013  ...      0  Security staff   \n",
       "\n",
       "       family_size begin_month  credit        Age  dup  cards  \\\n",
       "index                                                           \n",
       "0              2.0         6.0     1.0  38.079452    1      5   \n",
       "1              3.0         5.0     1.0  31.178082    1      9   \n",
       "2              2.0        22.0     2.0  52.293151    1      6   \n",
       "3              2.0        37.0     0.0  41.336986    1      2   \n",
       "4              2.0        26.0     2.0  41.197260    0      1   \n",
       "...            ...         ...     ...        ...  ...    ...   \n",
       "26452          4.0         2.0     1.0  33.093151    1      5   \n",
       "26453          2.0        47.0     2.0  41.893151    0      1   \n",
       "26454          2.0        25.0     2.0  27.621918    0      1   \n",
       "26455          1.0        59.0     2.0  27.794521    0      1   \n",
       "26456          2.0         9.0     2.0  53.613699    0      1   \n",
       "\n",
       "       family_category  occyp_category  \n",
       "index                                   \n",
       "0                small             1.0  \n",
       "1                small             1.0  \n",
       "2                small             0.0  \n",
       "3                small             1.0  \n",
       "4                small             0.0  \n",
       "...                ...             ...  \n",
       "26452              big             0.0  \n",
       "26453            small             1.0  \n",
       "26454            small             0.0  \n",
       "26455          Nuclear             1.0  \n",
       "26456            small             2.0  \n",
       "\n",
       "[26451 rows x 22 columns]"
      ]
     },
     "execution_count": 183,
     "metadata": {},
     "output_type": "execute_result"
    }
   ],
   "source": [
    "data_df"
   ]
  },
  {
   "cell_type": "code",
   "execution_count": 184,
   "id": "8161f95f",
   "metadata": {},
   "outputs": [],
   "source": [
    "data_df = data_df.reset_index().drop(['index'],axis=1)\n",
    "data_df.to_csv('./pre_credit_df(fill_groupby)_final.csv')"
   ]
  },
  {
   "cell_type": "code",
   "execution_count": 185,
   "id": "d729b8d5",
   "metadata": {},
   "outputs": [
    {
     "data": {
      "text/html": [
       "<div>\n",
       "<style scoped>\n",
       "    .dataframe tbody tr th:only-of-type {\n",
       "        vertical-align: middle;\n",
       "    }\n",
       "\n",
       "    .dataframe tbody tr th {\n",
       "        vertical-align: top;\n",
       "    }\n",
       "\n",
       "    .dataframe thead th {\n",
       "        text-align: right;\n",
       "    }\n",
       "</style>\n",
       "<table border=\"1\" class=\"dataframe\">\n",
       "  <thead>\n",
       "    <tr style=\"text-align: right;\">\n",
       "      <th></th>\n",
       "      <th>gender</th>\n",
       "      <th>car</th>\n",
       "      <th>reality</th>\n",
       "      <th>child_num</th>\n",
       "      <th>income_total</th>\n",
       "      <th>income_type</th>\n",
       "      <th>edu_type</th>\n",
       "      <th>family_type</th>\n",
       "      <th>house_type</th>\n",
       "      <th>DAYS_EMPLOYED</th>\n",
       "      <th>...</th>\n",
       "      <th>email</th>\n",
       "      <th>occyp_type</th>\n",
       "      <th>family_size</th>\n",
       "      <th>begin_month</th>\n",
       "      <th>credit</th>\n",
       "      <th>Age</th>\n",
       "      <th>dup</th>\n",
       "      <th>cards</th>\n",
       "      <th>family_category</th>\n",
       "      <th>occyp_category</th>\n",
       "    </tr>\n",
       "  </thead>\n",
       "  <tbody>\n",
       "    <tr>\n",
       "      <th>0</th>\n",
       "      <td>0</td>\n",
       "      <td>0</td>\n",
       "      <td>0</td>\n",
       "      <td>0</td>\n",
       "      <td>202500.0</td>\n",
       "      <td>Commercial associate</td>\n",
       "      <td>Higher education</td>\n",
       "      <td>Married</td>\n",
       "      <td>Municipal apartment</td>\n",
       "      <td>4709</td>\n",
       "      <td>...</td>\n",
       "      <td>0</td>\n",
       "      <td>Laborers</td>\n",
       "      <td>2.0</td>\n",
       "      <td>6.0</td>\n",
       "      <td>1.0</td>\n",
       "      <td>38.079452</td>\n",
       "      <td>1</td>\n",
       "      <td>5</td>\n",
       "      <td>small</td>\n",
       "      <td>1.0</td>\n",
       "    </tr>\n",
       "    <tr>\n",
       "      <th>1</th>\n",
       "      <td>0</td>\n",
       "      <td>0</td>\n",
       "      <td>1</td>\n",
       "      <td>1</td>\n",
       "      <td>247500.0</td>\n",
       "      <td>Commercial associate</td>\n",
       "      <td>Secondary / secondary special</td>\n",
       "      <td>Civil marriage</td>\n",
       "      <td>House / apartment</td>\n",
       "      <td>1540</td>\n",
       "      <td>...</td>\n",
       "      <td>1</td>\n",
       "      <td>Laborers</td>\n",
       "      <td>3.0</td>\n",
       "      <td>5.0</td>\n",
       "      <td>1.0</td>\n",
       "      <td>31.178082</td>\n",
       "      <td>1</td>\n",
       "      <td>9</td>\n",
       "      <td>small</td>\n",
       "      <td>1.0</td>\n",
       "    </tr>\n",
       "    <tr>\n",
       "      <th>2</th>\n",
       "      <td>1</td>\n",
       "      <td>1</td>\n",
       "      <td>1</td>\n",
       "      <td>0</td>\n",
       "      <td>450000.0</td>\n",
       "      <td>Working</td>\n",
       "      <td>Higher education</td>\n",
       "      <td>Married</td>\n",
       "      <td>House / apartment</td>\n",
       "      <td>4434</td>\n",
       "      <td>...</td>\n",
       "      <td>0</td>\n",
       "      <td>Managers</td>\n",
       "      <td>2.0</td>\n",
       "      <td>22.0</td>\n",
       "      <td>2.0</td>\n",
       "      <td>52.293151</td>\n",
       "      <td>1</td>\n",
       "      <td>6</td>\n",
       "      <td>small</td>\n",
       "      <td>0.0</td>\n",
       "    </tr>\n",
       "    <tr>\n",
       "      <th>3</th>\n",
       "      <td>0</td>\n",
       "      <td>0</td>\n",
       "      <td>1</td>\n",
       "      <td>0</td>\n",
       "      <td>202500.0</td>\n",
       "      <td>Commercial associate</td>\n",
       "      <td>Secondary / secondary special</td>\n",
       "      <td>Married</td>\n",
       "      <td>House / apartment</td>\n",
       "      <td>2092</td>\n",
       "      <td>...</td>\n",
       "      <td>0</td>\n",
       "      <td>Sales staff</td>\n",
       "      <td>2.0</td>\n",
       "      <td>37.0</td>\n",
       "      <td>0.0</td>\n",
       "      <td>41.336986</td>\n",
       "      <td>1</td>\n",
       "      <td>2</td>\n",
       "      <td>small</td>\n",
       "      <td>1.0</td>\n",
       "    </tr>\n",
       "    <tr>\n",
       "      <th>4</th>\n",
       "      <td>0</td>\n",
       "      <td>1</td>\n",
       "      <td>1</td>\n",
       "      <td>0</td>\n",
       "      <td>157500.0</td>\n",
       "      <td>State servant</td>\n",
       "      <td>Higher education</td>\n",
       "      <td>Married</td>\n",
       "      <td>House / apartment</td>\n",
       "      <td>2105</td>\n",
       "      <td>...</td>\n",
       "      <td>0</td>\n",
       "      <td>Managers</td>\n",
       "      <td>2.0</td>\n",
       "      <td>26.0</td>\n",
       "      <td>2.0</td>\n",
       "      <td>41.197260</td>\n",
       "      <td>0</td>\n",
       "      <td>1</td>\n",
       "      <td>small</td>\n",
       "      <td>0.0</td>\n",
       "    </tr>\n",
       "  </tbody>\n",
       "</table>\n",
       "<p>5 rows × 22 columns</p>\n",
       "</div>"
      ],
      "text/plain": [
       "   gender  car  reality  child_num  income_total           income_type  \\\n",
       "0       0    0        0          0      202500.0  Commercial associate   \n",
       "1       0    0        1          1      247500.0  Commercial associate   \n",
       "2       1    1        1          0      450000.0               Working   \n",
       "3       0    0        1          0      202500.0  Commercial associate   \n",
       "4       0    1        1          0      157500.0         State servant   \n",
       "\n",
       "                        edu_type     family_type           house_type  \\\n",
       "0               Higher education         Married  Municipal apartment   \n",
       "1  Secondary / secondary special  Civil marriage    House / apartment   \n",
       "2               Higher education         Married    House / apartment   \n",
       "3  Secondary / secondary special         Married    House / apartment   \n",
       "4               Higher education         Married    House / apartment   \n",
       "\n",
       "   DAYS_EMPLOYED  ...  email   occyp_type  family_size begin_month  credit  \\\n",
       "0           4709  ...      0     Laborers          2.0         6.0     1.0   \n",
       "1           1540  ...      1     Laborers          3.0         5.0     1.0   \n",
       "2           4434  ...      0     Managers          2.0        22.0     2.0   \n",
       "3           2092  ...      0  Sales staff          2.0        37.0     0.0   \n",
       "4           2105  ...      0     Managers          2.0        26.0     2.0   \n",
       "\n",
       "         Age  dup  cards  family_category  occyp_category  \n",
       "0  38.079452    1      5            small             1.0  \n",
       "1  31.178082    1      9            small             1.0  \n",
       "2  52.293151    1      6            small             0.0  \n",
       "3  41.336986    1      2            small             1.0  \n",
       "4  41.197260    0      1            small             0.0  \n",
       "\n",
       "[5 rows x 22 columns]"
      ]
     },
     "execution_count": 185,
     "metadata": {},
     "output_type": "execute_result"
    }
   ],
   "source": [
    "data_df.head()"
   ]
  },
  {
   "cell_type": "markdown",
   "id": "0fe38723",
   "metadata": {},
   "source": [
    "# 시각화 자료"
   ]
  },
  {
   "cell_type": "code",
   "execution_count": 146,
   "id": "d1d25f1c",
   "metadata": {},
   "outputs": [],
   "source": [
    "#자동으로 num과 cat 변수 갈라서 df 생성\n",
    "train_cat = data_df.select_dtypes(include=np.object)\n",
    "train_num = data_df.select_dtypes(exclude=np.object)"
   ]
  },
  {
   "cell_type": "code",
   "execution_count": 147,
   "id": "ee18d34c",
   "metadata": {},
   "outputs": [
    {
     "data": {
      "text/plain": [
       "((26451, 6), (26451, 16))"
      ]
     },
     "execution_count": 147,
     "metadata": {},
     "output_type": "execute_result"
    }
   ],
   "source": [
    "train_cat.shape, train_num.shape"
   ]
  },
  {
   "cell_type": "code",
   "execution_count": 148,
   "id": "a46e5be8",
   "metadata": {
    "scrolled": true
   },
   "outputs": [
    {
     "name": "stdout",
     "output_type": "stream",
     "text": [
      "cat: \n",
      " Index(['income_type', 'edu_type', 'family_type', 'house_type', 'occyp_type',\n",
      "       'family_category'],\n",
      "      dtype='object')\n",
      "num: \n",
      " Index(['gender', 'car', 'reality', 'child_num', 'income_total',\n",
      "       'DAYS_EMPLOYED', 'work_phone', 'phone', 'email', 'family_size',\n",
      "       'begin_month', 'credit', 'Age', 'dup', 'cards', 'occyp_category'],\n",
      "      dtype='object')\n"
     ]
    }
   ],
   "source": [
    "print(\"cat: \\n\", train_cat.columns)\n",
    "print(\"num: \\n\", train_num.columns)"
   ]
  },
  {
   "cell_type": "code",
   "execution_count": 149,
   "id": "8f18d062",
   "metadata": {},
   "outputs": [
    {
     "data": {
      "text/plain": [
       "True"
      ]
     },
     "execution_count": 149,
     "metadata": {},
     "output_type": "execute_result"
    }
   ],
   "source": [
    "#자동으로 num과 cat 변수 갈라서 df 생성\n",
    "train_cat = data_df.select_dtypes(include=np.object)\n",
    "train_num = data_df.select_dtypes(exclude=np.object)\n",
    "\n",
    "# cat인데 숫자로 들어간 변수 따로 train_cat로 넣어주기\n",
    "tmp = data_df[['gender','car','reality','child_num','work_phone','phone','email','dup','occyp_category']]\n",
    "train_cat = pd.concat([train_cat, tmp], axis = 1)\n",
    "train_cat.head(2)\n",
    "\n",
    "#cat인데 num df에 들어간 변수 num df에서 drop해주기\n",
    "train_num = train_num.drop(columns=['gender','car','reality','child_num','work_phone','phone','email','dup','occyp_category'], axis = 1)\n",
    "\n",
    "# cat과 num 변수 빠짐없이 잘 divide 되었는지 확인하기\n",
    "len(train_cat.columns) + len(train_num.columns) == len(data_df.columns) + 1"
   ]
  },
  {
   "cell_type": "code",
   "execution_count": 151,
   "id": "791f3bfe",
   "metadata": {},
   "outputs": [
    {
     "name": "stdout",
     "output_type": "stream",
     "text": [
      "total cols: \n",
      " Index(['gender', 'car', 'reality', 'child_num', 'income_total', 'income_type',\n",
      "       'edu_type', 'family_type', 'house_type', 'DAYS_EMPLOYED', 'work_phone',\n",
      "       'phone', 'email', 'occyp_type', 'family_size', 'begin_month', 'credit',\n",
      "       'Age', 'dup', 'cards', 'family_category', 'occyp_category'],\n",
      "      dtype='object') 22\n"
     ]
    }
   ],
   "source": [
    "print(\"total cols: \\n\", data_df.columns, data_df.shape[1])"
   ]
  },
  {
   "cell_type": "code",
   "execution_count": 152,
   "id": "ac1153da",
   "metadata": {
    "scrolled": true
   },
   "outputs": [
    {
     "name": "stdout",
     "output_type": "stream",
     "text": [
      "cat: \n",
      " Index(['income_type', 'edu_type', 'family_type', 'house_type', 'occyp_type',\n",
      "       'family_category', 'gender', 'car', 'reality', 'child_num',\n",
      "       'work_phone', 'phone', 'email', 'dup', 'occyp_category'],\n",
      "      dtype='object') 15\n",
      "num: \n",
      " Index(['income_total', 'DAYS_EMPLOYED', 'family_size', 'begin_month', 'credit',\n",
      "       'Age', 'cards'],\n",
      "      dtype='object') 7\n"
     ]
    }
   ],
   "source": [
    "print(\"cat: \\n\", train_cat.columns, train_cat.shape[1] )\n",
    "print(\"num: \\n\", train_num.columns, train_num.shape[1])"
   ]
  },
  {
   "cell_type": "code",
   "execution_count": 153,
   "id": "71c6a85a",
   "metadata": {},
   "outputs": [],
   "source": [
    "y_label = train_num['credit']\n",
    "data_df_v=pd.concat([train_cat,y_label],axis=1).astype(object)"
   ]
  },
  {
   "cell_type": "markdown",
   "id": "cc1577ea",
   "metadata": {},
   "source": [
    "변수를 legend, credit을 y축에 오도록 수정하기!"
   ]
  },
  {
   "cell_type": "code",
   "execution_count": 154,
   "id": "19936f6d",
   "metadata": {
    "scrolled": true
   },
   "outputs": [
    {
     "data": {
      "image/png": "[encoded data removed]",
      "text/plain": [
       "<Figure size 2160x2880 with 16 Axes>"
      ]
     },
     "metadata": {},
     "output_type": "display_data"
    }
   ],
   "source": [
    "def plot_bivariate_bar(dataset, hue, cols=5, width=20, height=30, hspace=0.2, wspace=0.5):\n",
    "    dataset = dataset.select_dtypes(include=[np.object])\n",
    "    plt.style.use('seaborn-whitegrid')\n",
    "    fig = plt.figure(figsize=(width,height))\n",
    "    fig.subplots_adjust(left=None, bottom=None, right=None, top=None, wspace=wspace, hspace=hspace)\n",
    "    rows = math.ceil(float(dataset.shape[1]) / cols)\n",
    "    for i, column in enumerate(dataset.columns):\n",
    "        ax = fig.add_subplot(rows, cols, i + 1)\n",
    "        ax.set_title(column)\n",
    "        if dataset.dtypes[column] == np.object:\n",
    "            g = sns.countplot(y=column, hue=hue, data=dataset)\n",
    "            substrings = [s.get_text()[:10] for s in g.get_yticklabels()]\n",
    "            g.set(yticklabels=substrings)\n",
    "\n",
    "plot_bivariate_bar(data_df_v, hue='credit', cols=3, width=30, height=40, hspace=0.8, wspace=0.5)"
   ]
  },
  {
   "cell_type": "code",
   "execution_count": 186,
   "id": "8b55225b",
   "metadata": {},
   "outputs": [
    {
     "data": {
      "text/plain": [
       "Index(['Unnamed: 0', 'gender', 'car', 'reality', 'child_num', 'income_total',\n",
       "       'income_type', 'edu_type', 'family_type', 'house_type', 'DAYS_EMPLOYED',\n",
       "       'work_phone', 'phone', 'email', 'occyp_type', 'family_size',\n",
       "       'begin_month', 'credit', 'Age', 'dup', 'cards', 'family_category',\n",
       "       'occyp_category'],\n",
       "      dtype='object')"
      ]
     },
     "execution_count": 186,
     "metadata": {},
     "output_type": "execute_result"
    }
   ],
   "source": [
    "tmp = pd.read_csv('pre_credit_df(fill_groupby)_final.csv')\n",
    "tmp.columns"
   ]
  },
  {
   "cell_type": "code",
   "execution_count": 187,
   "id": "833010f4",
   "metadata": {},
   "outputs": [
    {
     "name": "stdout",
     "output_type": "stream",
     "text": [
      "<class 'pandas.core.frame.DataFrame'>\n",
      "RangeIndex: 26451 entries, 0 to 26450\n",
      "Data columns (total 23 columns):\n",
      " #   Column           Non-Null Count  Dtype  \n",
      "---  ------           --------------  -----  \n",
      " 0   Unnamed: 0       26451 non-null  int64  \n",
      " 1   gender           26451 non-null  int64  \n",
      " 2   car              26451 non-null  int64  \n",
      " 3   reality          26451 non-null  int64  \n",
      " 4   child_num        26451 non-null  int64  \n",
      " 5   income_total     26451 non-null  float64\n",
      " 6   income_type      26451 non-null  object \n",
      " 7   edu_type         26451 non-null  object \n",
      " 8   family_type      26451 non-null  object \n",
      " 9   house_type       26451 non-null  object \n",
      " 10  DAYS_EMPLOYED    26451 non-null  int64  \n",
      " 11  work_phone       26451 non-null  int64  \n",
      " 12  phone            26451 non-null  int64  \n",
      " 13  email            26451 non-null  int64  \n",
      " 14  occyp_type       26451 non-null  object \n",
      " 15  family_size      26451 non-null  float64\n",
      " 16  begin_month      26451 non-null  float64\n",
      " 17  credit           26451 non-null  float64\n",
      " 18  Age              26451 non-null  float64\n",
      " 19  dup              26451 non-null  int64  \n",
      " 20  cards            26451 non-null  int64  \n",
      " 21  family_category  26451 non-null  object \n",
      " 22  occyp_category   26451 non-null  float64\n",
      "dtypes: float64(6), int64(11), object(6)\n",
      "memory usage: 4.6+ MB\n"
     ]
    }
   ],
   "source": [
    "tmp.info()"
   ]
  },
  {
   "cell_type": "code",
   "execution_count": null,
   "id": "3a9994cd",
   "metadata": {},
   "outputs": [],
   "source": []
  }
 ],
 "metadata": {
  "kernelspec": {
   "display_name": "Python 3",
   "language": "python",
   "name": "python3"
  },
  "language_info": {
   "codemirror_mode": {
    "name": "ipython",
    "version": 3
   },
   "file_extension": ".py",
   "mimetype": "text/x-python",
   "name": "python",
   "nbconvert_exporter": "python",
   "pygments_lexer": "ipython3",
   "version": "3.8.8"
  }
 },
 "nbformat": 4,
 "nbformat_minor": 5
}

{
 "cells": [
  {
   "cell_type": "code",
   "execution_count": 1,
   "id": "0a553c34",
   "metadata": {},
   "outputs": [
    {
     "ename": "ModuleNotFoundError",
     "evalue": "No module named 'catboost'",
     "output_type": "error",
     "traceback": [
      "\u001b[1;31m---------------------------------------------------------------------------\u001b[0m",
      "\u001b[1;31mModuleNotFoundError\u001b[0m                       Traceback (most recent call last)",
      "\u001b[1;32m<ipython-input-1-a46c0413b17d>\u001b[0m in \u001b[0;36m<module>\u001b[1;34m\u001b[0m\n\u001b[0;32m     27\u001b[0m \u001b[1;32mfrom\u001b[0m \u001b[0mngboost\u001b[0m \u001b[1;32mimport\u001b[0m \u001b[0mNGBClassifier\u001b[0m\u001b[1;33m\u001b[0m\u001b[1;33m\u001b[0m\u001b[0m\n\u001b[0;32m     28\u001b[0m \u001b[1;32mfrom\u001b[0m \u001b[0mngboost\u001b[0m\u001b[1;33m.\u001b[0m\u001b[0mdistns\u001b[0m \u001b[1;32mimport\u001b[0m \u001b[0mk_categorical\u001b[0m\u001b[1;33m,\u001b[0m \u001b[0mBernoulli\u001b[0m\u001b[1;33m\u001b[0m\u001b[1;33m\u001b[0m\u001b[0m\n\u001b[1;32m---> 29\u001b[1;33m \u001b[1;32mfrom\u001b[0m \u001b[0mcatboost\u001b[0m \u001b[1;32mimport\u001b[0m \u001b[0mCatBoostClassifier\u001b[0m\u001b[1;33m,\u001b[0m \u001b[0mPool\u001b[0m\u001b[1;33m\u001b[0m\u001b[1;33m\u001b[0m\u001b[0m\n\u001b[0m",
      "\u001b[1;31mModuleNotFoundError\u001b[0m: No module named 'catboost'"
     ]
    }
   ],
   "source": [
    "import numpy as np\n",
    "import pandas as pd\n",
    "import matplotlib.pyplot as plt\n",
    "import missingno\n",
    "import seaborn as sns\n",
    "import math\n",
    "\n",
    "# Managing Warnings \n",
    "import warnings\n",
    "warnings.filterwarnings('ignore')\n",
    "\n",
    "from sklearn.preprocessing import OneHotEncoder, StandardScaler, MinMaxScaler\n",
    "from sklearn.compose import ColumnTransformer\n",
    "from sklearn.pipeline import Pipeline\n",
    "from sklearn import preprocessing\n",
    "\n",
    "# Machine learning \n",
    "import sklearn.ensemble as ske\n",
    "from sklearn import datasets, model_selection, tree, preprocessing, metrics, linear_model, neighbors, svm\n",
    "from sklearn.svm import LinearSVC\n",
    "from sklearn.ensemble import RandomForestClassifier, GradientBoostingClassifier, ExtraTreesClassifier\n",
    "from sklearn.metrics import *\n",
    "from sklearn.model_selection import StratifiedKFold, GridSearchCV, KFold, cross_val_score\n",
    "from vecstack import stacking\n",
    "from xgboost import XGBClassifier \n",
    "from lightgbm import LGBMClassifier\n",
    "from ngboost import NGBClassifier\n",
    "from ngboost.distns import k_categorical, Bernoulli\n",
    "from catboost import CatBoostClassifier, Pool"
   ]
  },
  {
   "cell_type": "code",
   "execution_count": null,
   "id": "d13fc165",
   "metadata": {},
   "outputs": [],
   "source": [
    "def run_pipeline(data_df, target):\n",
    "    #자동으로 num과 cat 변수 갈라서 df 생성\n",
    "    data_df_cat = data_df.select_dtypes(include=np.object)\n",
    "    data_df_num = data_df.select_dtypes(exclude=np.object)\n",
    "    \n",
    "    # category df 만들어주기\n",
    "    data_df_cat = pd.concat([data_df_cat, data_df[['occyp_category', 'child_num']]], axis=1)\n",
    "\n",
    "    # binary df 만들어주기\n",
    "    data_df_bi = data_df[['gender','car','reality','work_phone','phone','email','dup']]\n",
    "\n",
    "    # cat인데 num df에 들어간 변수 num df에서 drop해주기\n",
    "    data_df_num = data_df_num.drop(columns=['gender','car','reality','work_phone','phone','email','dup', 'child_num','occyp_category'])\n",
    "\n",
    "    x_train, x_test, y_train, y_test = model_selection.train_test_split(data_df,\n",
    "                                                                    target,\n",
    "                                                                   test_size = 0.2,\n",
    "                                                                   random_state=0)\n",
    "    \n",
    "    binary_features = data_df_bi.columns\n",
    "    \n",
    "    numeric_features = data_df_num.columns\n",
    "    numeric_transformer = StandardScaler() # cf) RobustScaler\n",
    "\n",
    "    categorical_features = data_df_cat.columns\n",
    "    categorical_transformer = OneHotEncoder(categories='auto', handle_unknown='ignore') # categories='auto' : just for ignoring warning messages\n",
    "\n",
    "    preprocessor = ColumnTransformer(\n",
    "        transformers=[ # List of (name, transformer, column(s))\n",
    "            ('num', numeric_transformer, numeric_features),\n",
    "            ('cat', categorical_transformer, categorical_features),\n",
    "             ('bi','passthrough',binary_features)])\n",
    "\n",
    "    preprocessor_pipe = Pipeline(steps=[('preprocessor', preprocessor)])\n",
    "    preprocessor_pipe.fit(x_train)\n",
    "\n",
    "    x_train_transformed = preprocessor_pipe.transform(x_train)\n",
    "    x_test_transformed = preprocessor_pipe.transform(x_test)\n",
    "\n",
    "    return x_train_transformed, x_test_transformed, y_train, y_test"
   ]
  },
  {
   "cell_type": "code",
   "execution_count": 3,
   "id": "f5114721",
   "metadata": {},
   "outputs": [],
   "source": [
    "# train전체를 학습시킬 때\n",
    "def run_pipeline_train(data_df):\n",
    "    #자동으로 num과 cat 변수 갈라서 df 생성\n",
    "    data_df_cat = data_df.select_dtypes(include=np.object)\n",
    "    data_df_num = data_df.select_dtypes(exclude=np.object)\n",
    "    \n",
    "    # category df 만들어주기\n",
    "    data_df_cat = pd.concat([data_df_cat, data_df[['occyp_category', 'child_num']]], axis=1)\n",
    "\n",
    "    # binary df 만들어주기\n",
    "    data_df_bi = data_df[['gender','car','reality','work_phone','phone','email','dup']]\n",
    "\n",
    "    # cat인데 num df에 들어간 변수 num df에서 drop해주기\n",
    "    data_df_num = data_df_num.drop(columns=['gender','car','reality','work_phone','phone','email','dup', 'child_num','occyp_category'])\n",
    "    \n",
    "    binary_features = data_df_bi.columns\n",
    "    \n",
    "    numeric_features = data_df_num.columns\n",
    "    numeric_transformer = StandardScaler() # cf) RobustScaler\n",
    "\n",
    "    categorical_features = data_df_cat.columns\n",
    "    categorical_transformer = OneHotEncoder(categories='auto', handle_unknown='ignore') # categories='auto' : just for ignoring warning messages\n",
    "\n",
    "    preprocessor = ColumnTransformer(\n",
    "        transformers=[ # List of (name, transformer, column(s))\n",
    "            ('num', numeric_transformer, numeric_features),\n",
    "            ('cat', categorical_transformer, categorical_features),\n",
    "             ('bi','passthrough',binary_features)])\n",
    "\n",
    "    preprocessor_pipe = Pipeline(steps=[('preprocessor', preprocessor)])\n",
    "    preprocessor_pipe.fit(data_df)\n",
    "\n",
    "    x_train_transformed = preprocessor_pipe.transform(data_df)\n",
    "\n",
    "    return x_train_transformed"
   ]
  },
  {
   "cell_type": "markdown",
   "id": "c7e96db4",
   "metadata": {},
   "source": [
    "## test데이터셋 불러오기"
   ]
  },
  {
   "cell_type": "code",
   "execution_count": null,
   "id": "03af4a44",
   "metadata": {
    "scrolled": false
   },
   "outputs": [],
   "source": [
    "# test 데이터셋\n",
    "test_df = pd.read_csv('test_df(fill_groupby)_final.csv', index_col=0)\n",
    "test_df.head()"
   ]
  },
  {
   "cell_type": "markdown",
   "id": "56397b89",
   "metadata": {},
   "source": [
    "### test데이터열 파이프라인 처리"
   ]
  },
  {
   "cell_type": "code",
   "execution_count": 5,
   "id": "46247cdd",
   "metadata": {
    "scrolled": true
   },
   "outputs": [],
   "source": [
    "test_df_cat = test_df.select_dtypes(include=np.object)\n",
    "test_df_num = test_df.select_dtypes(exclude=np.object)\n",
    "\n",
    "# category df 만들어주기\n",
    "test_df_cat = pd.concat([test_df_cat, test_df[['occyp_category', 'child_num']]], axis=1)\n",
    "\n",
    "# binary df 만들어주기\n",
    "test_df_bi = test_df[['gender','car','reality','work_phone','phone','email','dup']]\n",
    "\n",
    "# cat인데 num df에 들어간 변수 num df에서 drop해주기\n",
    "test_df_num = test_df_num.drop(columns=['gender','car','reality','work_phone','phone','email', 'child_num','dup','occyp_category'], axis=1)\n",
    "\n",
    "binary_features = test_df_bi.columns\n",
    "\n",
    "numeric_features = test_df_num.columns\n",
    "numeric_transformer = StandardScaler() # cf) RobustScaler\n",
    "\n",
    "categorical_features = test_df_cat.columns\n",
    "categorical_transformer = OneHotEncoder(categories='auto', handle_unknown='ignore') # categories='auto' : just for ignoring warning messages\n",
    "\n",
    "preprocessor = ColumnTransformer(\n",
    "    transformers=[ # List of (name, transformer, column(s))\n",
    "        ('num', numeric_transformer, numeric_features),\n",
    "        ('cat', categorical_transformer, categorical_features),\n",
    "         ('bi','passthrough',binary_features)])\n",
    "\n",
    "preprocessor_pipe = Pipeline(steps=[('preprocessor', preprocessor)])\n",
    "preprocessor_pipe.fit(test_df) \n",
    "test_transformed = preprocessor_pipe.transform(test_df)"
   ]
  },
  {
   "cell_type": "code",
   "execution_count": 6,
   "id": "9ce37e96",
   "metadata": {},
   "outputs": [
    {
     "name": "stdout",
     "output_type": "stream",
     "text": [
      "(10000, 62)\n"
     ]
    }
   ],
   "source": [
    "print(test_transformed.shape)"
   ]
  },
  {
   "cell_type": "markdown",
   "id": "256e2c35",
   "metadata": {},
   "source": [
    "# 01. XGB로 예측한 submission.csv만들기"
   ]
  },
  {
   "cell_type": "markdown",
   "id": "23c53fcf",
   "metadata": {},
   "source": [
    "## 01) train데이터 split한 경우"
   ]
  },
  {
   "cell_type": "code",
   "execution_count": 8,
   "id": "03629375",
   "metadata": {},
   "outputs": [],
   "source": [
    "data_df = pd.read_csv('pre_credit_dffill_groupby_final.csv')\n",
    "target = data_df['credit']\n",
    "data_df = data_df.drop(['credit', 'index'], axis=1)"
   ]
  },
  {
   "cell_type": "code",
   "execution_count": 9,
   "id": "228e4854",
   "metadata": {
    "scrolled": true
   },
   "outputs": [],
   "source": [
    "x_train_transformed, x_test_transformed, y_train, y_test = run_pipeline(data_df, target)"
   ]
  },
  {
   "cell_type": "code",
   "execution_count": 10,
   "id": "1fb7dbad",
   "metadata": {
    "scrolled": true
   },
   "outputs": [
    {
     "name": "stdout",
     "output_type": "stream",
     "text": [
      "[01:31:51] WARNING: C:/Users/Administrator/workspace/xgboost-win64_release_1.5.1/src/learner.cc:576: \n",
      "Parameters: { \"num_classes\" } might not be used.\n",
      "\n",
      "  This could be a false alarm, with some parameters getting used by language bindings but\n",
      "  then being mistakenly passed down to XGBoost core, or some parameter actually being used\n",
      "  but getting flagged wrongly here. Please open an issue if you find any such cases.\n",
      "\n",
      "\n",
      "[01:31:51] WARNING: C:/Users/Administrator/workspace/xgboost-win64_release_1.5.1/src/learner.cc:1115: Starting in XGBoost 1.3.0, the default evaluation metric used with the objective 'multi:softprob' was changed from 'merror' to 'mlogloss'. Explicitly set eval_metric if you'd like to restore the old behavior.\n",
      "model score: 0.7222\n",
      "proba_result : [[0.08446262 0.3162606  0.5992768 ]\n",
      " [0.17053786 0.5742808  0.25518134]\n",
      " [0.0771312  0.18216455 0.7407043 ]\n",
      " ...\n",
      " [0.01597201 0.90770644 0.07632158]\n",
      " [0.04547223 0.2579263  0.69660145]\n",
      " [0.07891452 0.08106276 0.84002274]]\n",
      "logloss:  0.7208258075429438\n"
     ]
    }
   ],
   "source": [
    "# 모델 학습\n",
    "random_state = 0\n",
    "model = XGBClassifier(objective='multi:softprob',num_classes=3,random_state=random_state )\n",
    "model.fit(x_train_transformed, y_train) # <- x_train_transformed (not x_train)\n",
    "\n",
    "# test셋에 대해서 예측 정확도 출력\n",
    "x_pred = model.predict(x_test_transformed)\n",
    "accuracy = accuracy_score(x_pred, y_test)\n",
    "print(\"model score:\", round(accuracy, 4))\n",
    "\n",
    "proba_result = model.predict_proba(x_test_transformed)\n",
    "print(\"proba_result :\",proba_result)\n",
    "\n",
    "pro_logloss = log_loss(y_test, proba_result)\n",
    "print('logloss: ',pro_logloss)"
   ]
  },
  {
   "cell_type": "code",
   "execution_count": 27,
   "id": "cb86367c",
   "metadata": {
    "scrolled": true
   },
   "outputs": [
    {
     "name": "stdout",
     "output_type": "stream",
     "text": [
      "[01:35:23] WARNING: C:/Users/Administrator/workspace/xgboost-win64_release_1.5.1/src/learner.cc:576: \n",
      "Parameters: { \"num_classes\" } might not be used.\n",
      "\n",
      "  This could be a false alarm, with some parameters getting used by language bindings but\n",
      "  then being mistakenly passed down to XGBoost core, or some parameter actually being used\n",
      "  but getting flagged wrongly here. Please open an issue if you find any such cases.\n",
      "\n",
      "\n",
      "[01:35:23] WARNING: C:/Users/Administrator/workspace/xgboost-win64_release_1.5.1/src/learner.cc:1115: Starting in XGBoost 1.3.0, the default evaluation metric used with the objective 'multi:softprob' was changed from 'merror' to 'mlogloss'. Explicitly set eval_metric if you'd like to restore the old behavior.\n"
     ]
    },
    {
     "data": {
      "text/plain": [
       "XGBClassifier(base_score=0.5, booster='gbtree', colsample_bylevel=1,\n",
       "              colsample_bynode=1, colsample_bytree=1, enable_categorical=False,\n",
       "              gamma=0, gpu_id=-1, importance_type=None,\n",
       "              interaction_constraints='', learning_rate=0.300000012,\n",
       "              max_delta_step=0, max_depth=6, min_child_weight=1, missing=nan,\n",
       "              monotone_constraints='()', n_estimators=100, n_jobs=16,\n",
       "              num_classes=3, num_parallel_tree=1, objective='multi:softprob',\n",
       "              predictor='auto', random_state=0, reg_alpha=0, reg_lambda=1,\n",
       "              scale_pos_weight=None, subsample=1, tree_method='exact',\n",
       "              validate_parameters=1, verbosity=None)"
      ]
     },
     "execution_count": 27,
     "metadata": {},
     "output_type": "execute_result"
    }
   ],
   "source": [
    "x_train_transformed = run_pipeline_train(data_df, target)\n",
    "\n",
    "random_state = 0\n",
    "model = XGBClassifier(objective='multi:softprob',num_classes=3,random_state=random_state )\n",
    "model.fit(x_train_transformed, target) # <- x_train_transformed (not x_train)\n",
    "\n",
    "#test데이터셋에 대한 예측 배열 (log_loss값을 구하기 위한 배열)\n",
    "test_pre_proba = model.predict_proba(test_transformed)\n",
    "print(\"test_predict_proba :\",test_pre_proba)"
   ]
  },
  {
   "cell_type": "markdown",
   "id": "b6cc0d5c",
   "metadata": {},
   "source": [
    "## 02) train데이터 전체를 학습한 model"
   ]
  },
  {
   "cell_type": "code",
   "execution_count": 18,
   "id": "a2ee9e9b",
   "metadata": {},
   "outputs": [],
   "source": [
    "data_df = pd.read_csv('pre_credit_dffill_groupby_final.csv')\n",
    "target = data_df['credit']\n",
    "data_df = data_df.drop(['credit', 'index'], axis=1)"
   ]
  },
  {
   "cell_type": "code",
   "execution_count": 19,
   "id": "104cee0a",
   "metadata": {
    "scrolled": false
   },
   "outputs": [
    {
     "name": "stdout",
     "output_type": "stream",
     "text": [
      "[01:52:39] WARNING: C:/Users/Administrator/workspace/xgboost-win64_release_1.5.1/src/learner.cc:576: \n",
      "Parameters: { \"num_classes\" } might not be used.\n",
      "\n",
      "  This could be a false alarm, with some parameters getting used by language bindings but\n",
      "  then being mistakenly passed down to XGBoost core, or some parameter actually being used\n",
      "  but getting flagged wrongly here. Please open an issue if you find any such cases.\n",
      "\n",
      "\n",
      "[01:52:40] WARNING: C:/Users/Administrator/workspace/xgboost-win64_release_1.5.1/src/learner.cc:1115: Starting in XGBoost 1.3.0, the default evaluation metric used with the objective 'multi:softprob' was changed from 'merror' to 'mlogloss'. Explicitly set eval_metric if you'd like to restore the old behavior.\n",
      "test_predict_proba : [[0.03316169 0.05487515 0.9119631 ]\n",
      " [0.1765962  0.15395547 0.6694483 ]\n",
      " [0.05818312 0.14679845 0.7950184 ]\n",
      " ...\n",
      " [0.06498508 0.11920122 0.8158137 ]\n",
      " [0.11183599 0.10681279 0.78135115]\n",
      " [0.03814835 0.20806076 0.7537909 ]]\n"
     ]
    }
   ],
   "source": [
    "x_train_transformed = run_pipeline_train(data_df)\n",
    "\n",
    "random_state = 0\n",
    "model = XGBClassifier(objective='multi:softprob',num_classes=3,random_state=random_state )\n",
    "model.fit(x_train_transformed, target) # <- x_train_transformed (not x_train)\n",
    "\n",
    "#test데이터셋에 대한 예측 배열 (log_loss값을 구하기 위한 배열)\n",
    "test_pre_proba = model.predict_proba(test_transformed)\n",
    "print(\"test_predict_proba :\",test_pre_proba)"
   ]
  },
  {
   "cell_type": "markdown",
   "id": "6bc623aa",
   "metadata": {},
   "source": [
    "## 03) submission.csv 파일 저장"
   ]
  },
  {
   "cell_type": "code",
   "execution_count": 21,
   "id": "dcadbc07",
   "metadata": {},
   "outputs": [],
   "source": [
    "# 샘플\n",
    "sam_sub_df = pd.read_csv('sample_submission.csv', index_col=0)\n",
    "\n",
    "# 샘플에서 인덱스 추출\n",
    "sample_index_df = pd.DataFrame({'index':sam_sub_df.index})\n",
    "\n",
    "# test데이터셋 predict_proba 데이터프레임으로 변환\n",
    "test_pre_proba_df = pd.DataFrame(test_pre_proba, columns=['0','1','2'])\n",
    "\n",
    "# 샘플 인덱스와 predict_proba 데이터프레임 합치기, 인덱스 열 지정\n",
    "test_pre_proba_df = pd.concat([sample_index_df,test_pre_proba_df], axis=1)\n",
    "test_pre_proba_df.set_index('index',inplace=True)\n",
    "\n",
    "# 파일로 저장\n",
    "test_pre_proba_df.to_csv('submission_XGB_fulltrain.csv')"
   ]
  },
  {
   "cell_type": "markdown",
   "id": "f7d65e8d",
   "metadata": {},
   "source": [
    "## 아래는 바로 위에꺼 풀어쓴 것"
   ]
  },
  {
   "cell_type": "code",
   "execution_count": 31,
   "id": "b1d36e26",
   "metadata": {
    "scrolled": true
   },
   "outputs": [
    {
     "data": {
      "text/html": [
       "<div>\n",
       "<style scoped>\n",
       "    .dataframe tbody tr th:only-of-type {\n",
       "        vertical-align: middle;\n",
       "    }\n",
       "\n",
       "    .dataframe tbody tr th {\n",
       "        vertical-align: top;\n",
       "    }\n",
       "\n",
       "    .dataframe thead th {\n",
       "        text-align: right;\n",
       "    }\n",
       "</style>\n",
       "<table border=\"1\" class=\"dataframe\">\n",
       "  <thead>\n",
       "    <tr style=\"text-align: right;\">\n",
       "      <th></th>\n",
       "      <th>0</th>\n",
       "      <th>1</th>\n",
       "      <th>2</th>\n",
       "    </tr>\n",
       "    <tr>\n",
       "      <th>index</th>\n",
       "      <th></th>\n",
       "      <th></th>\n",
       "      <th></th>\n",
       "    </tr>\n",
       "  </thead>\n",
       "  <tbody>\n",
       "    <tr>\n",
       "      <th>26457</th>\n",
       "      <td>0</td>\n",
       "      <td>0</td>\n",
       "      <td>0</td>\n",
       "    </tr>\n",
       "    <tr>\n",
       "      <th>26458</th>\n",
       "      <td>0</td>\n",
       "      <td>0</td>\n",
       "      <td>0</td>\n",
       "    </tr>\n",
       "    <tr>\n",
       "      <th>26459</th>\n",
       "      <td>0</td>\n",
       "      <td>0</td>\n",
       "      <td>0</td>\n",
       "    </tr>\n",
       "    <tr>\n",
       "      <th>26460</th>\n",
       "      <td>0</td>\n",
       "      <td>0</td>\n",
       "      <td>0</td>\n",
       "    </tr>\n",
       "    <tr>\n",
       "      <th>26461</th>\n",
       "      <td>0</td>\n",
       "      <td>0</td>\n",
       "      <td>0</td>\n",
       "    </tr>\n",
       "  </tbody>\n",
       "</table>\n",
       "</div>"
      ],
      "text/plain": [
       "       0  1  2\n",
       "index         \n",
       "26457  0  0  0\n",
       "26458  0  0  0\n",
       "26459  0  0  0\n",
       "26460  0  0  0\n",
       "26461  0  0  0"
      ]
     },
     "execution_count": 31,
     "metadata": {},
     "output_type": "execute_result"
    }
   ],
   "source": [
    "# 샘플 확인\n",
    "sam_sub_df = pd.read_csv('sample_submission.csv', index_col=0)\n",
    "sam_sub_df.head()"
   ]
  },
  {
   "cell_type": "code",
   "execution_count": 32,
   "id": "46a25631",
   "metadata": {
    "scrolled": true
   },
   "outputs": [
    {
     "data": {
      "text/html": [
       "<div>\n",
       "<style scoped>\n",
       "    .dataframe tbody tr th:only-of-type {\n",
       "        vertical-align: middle;\n",
       "    }\n",
       "\n",
       "    .dataframe tbody tr th {\n",
       "        vertical-align: top;\n",
       "    }\n",
       "\n",
       "    .dataframe thead th {\n",
       "        text-align: right;\n",
       "    }\n",
       "</style>\n",
       "<table border=\"1\" class=\"dataframe\">\n",
       "  <thead>\n",
       "    <tr style=\"text-align: right;\">\n",
       "      <th></th>\n",
       "      <th>index</th>\n",
       "    </tr>\n",
       "  </thead>\n",
       "  <tbody>\n",
       "    <tr>\n",
       "      <th>0</th>\n",
       "      <td>26457</td>\n",
       "    </tr>\n",
       "    <tr>\n",
       "      <th>1</th>\n",
       "      <td>26458</td>\n",
       "    </tr>\n",
       "    <tr>\n",
       "      <th>2</th>\n",
       "      <td>26459</td>\n",
       "    </tr>\n",
       "    <tr>\n",
       "      <th>3</th>\n",
       "      <td>26460</td>\n",
       "    </tr>\n",
       "    <tr>\n",
       "      <th>4</th>\n",
       "      <td>26461</td>\n",
       "    </tr>\n",
       "    <tr>\n",
       "      <th>...</th>\n",
       "      <td>...</td>\n",
       "    </tr>\n",
       "    <tr>\n",
       "      <th>9995</th>\n",
       "      <td>36452</td>\n",
       "    </tr>\n",
       "    <tr>\n",
       "      <th>9996</th>\n",
       "      <td>36453</td>\n",
       "    </tr>\n",
       "    <tr>\n",
       "      <th>9997</th>\n",
       "      <td>36454</td>\n",
       "    </tr>\n",
       "    <tr>\n",
       "      <th>9998</th>\n",
       "      <td>36455</td>\n",
       "    </tr>\n",
       "    <tr>\n",
       "      <th>9999</th>\n",
       "      <td>36456</td>\n",
       "    </tr>\n",
       "  </tbody>\n",
       "</table>\n",
       "<p>10000 rows × 1 columns</p>\n",
       "</div>"
      ],
      "text/plain": [
       "      index\n",
       "0     26457\n",
       "1     26458\n",
       "2     26459\n",
       "3     26460\n",
       "4     26461\n",
       "...     ...\n",
       "9995  36452\n",
       "9996  36453\n",
       "9997  36454\n",
       "9998  36455\n",
       "9999  36456\n",
       "\n",
       "[10000 rows x 1 columns]"
      ]
     },
     "execution_count": 32,
     "metadata": {},
     "output_type": "execute_result"
    }
   ],
   "source": [
    "# logloss array 데이터프레임으로 변환\n",
    "sample_index_df = pd.DataFrame({'index':sam_sub_df.index})\n",
    "sample_index_df"
   ]
  },
  {
   "cell_type": "code",
   "execution_count": 33,
   "id": "37a2d871",
   "metadata": {},
   "outputs": [
    {
     "data": {
      "text/html": [
       "<div>\n",
       "<style scoped>\n",
       "    .dataframe tbody tr th:only-of-type {\n",
       "        vertical-align: middle;\n",
       "    }\n",
       "\n",
       "    .dataframe tbody tr th {\n",
       "        vertical-align: top;\n",
       "    }\n",
       "\n",
       "    .dataframe thead th {\n",
       "        text-align: right;\n",
       "    }\n",
       "</style>\n",
       "<table border=\"1\" class=\"dataframe\">\n",
       "  <thead>\n",
       "    <tr style=\"text-align: right;\">\n",
       "      <th></th>\n",
       "      <th>0</th>\n",
       "      <th>1</th>\n",
       "      <th>2</th>\n",
       "    </tr>\n",
       "  </thead>\n",
       "  <tbody>\n",
       "    <tr>\n",
       "      <th>0</th>\n",
       "      <td>0.033162</td>\n",
       "      <td>0.054875</td>\n",
       "      <td>0.911963</td>\n",
       "    </tr>\n",
       "    <tr>\n",
       "      <th>1</th>\n",
       "      <td>0.176596</td>\n",
       "      <td>0.153955</td>\n",
       "      <td>0.669448</td>\n",
       "    </tr>\n",
       "    <tr>\n",
       "      <th>2</th>\n",
       "      <td>0.058183</td>\n",
       "      <td>0.146798</td>\n",
       "      <td>0.795018</td>\n",
       "    </tr>\n",
       "    <tr>\n",
       "      <th>3</th>\n",
       "      <td>0.113115</td>\n",
       "      <td>0.139428</td>\n",
       "      <td>0.747457</td>\n",
       "    </tr>\n",
       "    <tr>\n",
       "      <th>4</th>\n",
       "      <td>0.265180</td>\n",
       "      <td>0.187720</td>\n",
       "      <td>0.547099</td>\n",
       "    </tr>\n",
       "    <tr>\n",
       "      <th>...</th>\n",
       "      <td>...</td>\n",
       "      <td>...</td>\n",
       "      <td>...</td>\n",
       "    </tr>\n",
       "    <tr>\n",
       "      <th>9995</th>\n",
       "      <td>0.136203</td>\n",
       "      <td>0.138176</td>\n",
       "      <td>0.725621</td>\n",
       "    </tr>\n",
       "    <tr>\n",
       "      <th>9996</th>\n",
       "      <td>0.048917</td>\n",
       "      <td>0.227120</td>\n",
       "      <td>0.723962</td>\n",
       "    </tr>\n",
       "    <tr>\n",
       "      <th>9997</th>\n",
       "      <td>0.064985</td>\n",
       "      <td>0.119201</td>\n",
       "      <td>0.815814</td>\n",
       "    </tr>\n",
       "    <tr>\n",
       "      <th>9998</th>\n",
       "      <td>0.111836</td>\n",
       "      <td>0.106813</td>\n",
       "      <td>0.781351</td>\n",
       "    </tr>\n",
       "    <tr>\n",
       "      <th>9999</th>\n",
       "      <td>0.038148</td>\n",
       "      <td>0.208061</td>\n",
       "      <td>0.753791</td>\n",
       "    </tr>\n",
       "  </tbody>\n",
       "</table>\n",
       "<p>10000 rows × 3 columns</p>\n",
       "</div>"
      ],
      "text/plain": [
       "             0         1         2\n",
       "0     0.033162  0.054875  0.911963\n",
       "1     0.176596  0.153955  0.669448\n",
       "2     0.058183  0.146798  0.795018\n",
       "3     0.113115  0.139428  0.747457\n",
       "4     0.265180  0.187720  0.547099\n",
       "...        ...       ...       ...\n",
       "9995  0.136203  0.138176  0.725621\n",
       "9996  0.048917  0.227120  0.723962\n",
       "9997  0.064985  0.119201  0.815814\n",
       "9998  0.111836  0.106813  0.781351\n",
       "9999  0.038148  0.208061  0.753791\n",
       "\n",
       "[10000 rows x 3 columns]"
      ]
     },
     "execution_count": 33,
     "metadata": {},
     "output_type": "execute_result"
    }
   ],
   "source": [
    "test_pre_proba_df = pd.DataFrame(test_pre_proba, columns=['0','1','2'])\n",
    "test_pre_proba_df"
   ]
  },
  {
   "cell_type": "code",
   "execution_count": 34,
   "id": "3aa301f6",
   "metadata": {},
   "outputs": [],
   "source": [
    "test_pre_proba_df = pd.concat([sample_index_df,test_pre_proba_df], axis=1)\n",
    "test_pre_proba_df.set_index('index',inplace=True)"
   ]
  },
  {
   "cell_type": "code",
   "execution_count": 36,
   "id": "6487e99c",
   "metadata": {},
   "outputs": [],
   "source": [
    "test_pre_proba_df.to_csv('submission_XGB.csv')"
   ]
  },
  {
   "cell_type": "code",
   "execution_count": 298,
   "id": "8e6465e1",
   "metadata": {
    "scrolled": true
   },
   "outputs": [
    {
     "name": "stdout",
     "output_type": "stream",
     "text": [
      "shape : (10000, 4)\n"
     ]
    },
    {
     "data": {
      "text/html": [
       "<div>\n",
       "<style scoped>\n",
       "    .dataframe tbody tr th:only-of-type {\n",
       "        vertical-align: middle;\n",
       "    }\n",
       "\n",
       "    .dataframe tbody tr th {\n",
       "        vertical-align: top;\n",
       "    }\n",
       "\n",
       "    .dataframe thead th {\n",
       "        text-align: right;\n",
       "    }\n",
       "</style>\n",
       "<table border=\"1\" class=\"dataframe\">\n",
       "  <thead>\n",
       "    <tr style=\"text-align: right;\">\n",
       "      <th></th>\n",
       "      <th>index</th>\n",
       "      <th>0</th>\n",
       "      <th>1</th>\n",
       "      <th>2</th>\n",
       "    </tr>\n",
       "  </thead>\n",
       "  <tbody>\n",
       "    <tr>\n",
       "      <th>0</th>\n",
       "      <td>26457</td>\n",
       "      <td>0.039926</td>\n",
       "      <td>0.060999</td>\n",
       "      <td>0.899074</td>\n",
       "    </tr>\n",
       "    <tr>\n",
       "      <th>1</th>\n",
       "      <td>26458</td>\n",
       "      <td>0.212156</td>\n",
       "      <td>0.219724</td>\n",
       "      <td>0.568121</td>\n",
       "    </tr>\n",
       "    <tr>\n",
       "      <th>2</th>\n",
       "      <td>26459</td>\n",
       "      <td>0.069663</td>\n",
       "      <td>0.139518</td>\n",
       "      <td>0.790819</td>\n",
       "    </tr>\n",
       "    <tr>\n",
       "      <th>3</th>\n",
       "      <td>26460</td>\n",
       "      <td>0.099860</td>\n",
       "      <td>0.139726</td>\n",
       "      <td>0.760414</td>\n",
       "    </tr>\n",
       "    <tr>\n",
       "      <th>4</th>\n",
       "      <td>26461</td>\n",
       "      <td>0.094992</td>\n",
       "      <td>0.180666</td>\n",
       "      <td>0.724342</td>\n",
       "    </tr>\n",
       "    <tr>\n",
       "      <th>...</th>\n",
       "      <td>...</td>\n",
       "      <td>...</td>\n",
       "      <td>...</td>\n",
       "      <td>...</td>\n",
       "    </tr>\n",
       "    <tr>\n",
       "      <th>9995</th>\n",
       "      <td>36452</td>\n",
       "      <td>0.140914</td>\n",
       "      <td>0.186323</td>\n",
       "      <td>0.672763</td>\n",
       "    </tr>\n",
       "    <tr>\n",
       "      <th>9996</th>\n",
       "      <td>36453</td>\n",
       "      <td>0.138043</td>\n",
       "      <td>0.259190</td>\n",
       "      <td>0.602767</td>\n",
       "    </tr>\n",
       "    <tr>\n",
       "      <th>9997</th>\n",
       "      <td>36454</td>\n",
       "      <td>0.259089</td>\n",
       "      <td>0.184478</td>\n",
       "      <td>0.556433</td>\n",
       "    </tr>\n",
       "    <tr>\n",
       "      <th>9998</th>\n",
       "      <td>36455</td>\n",
       "      <td>0.086660</td>\n",
       "      <td>0.142415</td>\n",
       "      <td>0.770925</td>\n",
       "    </tr>\n",
       "    <tr>\n",
       "      <th>9999</th>\n",
       "      <td>36456</td>\n",
       "      <td>0.078883</td>\n",
       "      <td>0.266100</td>\n",
       "      <td>0.655017</td>\n",
       "    </tr>\n",
       "  </tbody>\n",
       "</table>\n",
       "<p>10000 rows × 4 columns</p>\n",
       "</div>"
      ],
      "text/plain": [
       "      index         0         1         2\n",
       "0     26457  0.039926  0.060999  0.899074\n",
       "1     26458  0.212156  0.219724  0.568121\n",
       "2     26459  0.069663  0.139518  0.790819\n",
       "3     26460  0.099860  0.139726  0.760414\n",
       "4     26461  0.094992  0.180666  0.724342\n",
       "...     ...       ...       ...       ...\n",
       "9995  36452  0.140914  0.186323  0.672763\n",
       "9996  36453  0.138043  0.259190  0.602767\n",
       "9997  36454  0.259089  0.184478  0.556433\n",
       "9998  36455  0.086660  0.142415  0.770925\n",
       "9999  36456  0.078883  0.266100  0.655017\n",
       "\n",
       "[10000 rows x 4 columns]"
      ]
     },
     "execution_count": 298,
     "metadata": {},
     "output_type": "execute_result"
    }
   ],
   "source": [
    "# 확인\n",
    "sub_XGB = pd.read_csv('submission_XGB.csv', index_col=0)\n",
    "print('shape :',sub_XGB.shape)\n",
    "sub_XGB"
   ]
  },
  {
   "cell_type": "code",
   "execution_count": null,
   "id": "7f3a3924",
   "metadata": {},
   "outputs": [],
   "source": []
  }
 ],
 "metadata": {
  "kernelspec": {
   "display_name": "Python 3",
   "language": "python",
   "name": "python3"
  },
  "language_info": {
   "codemirror_mode": {
    "name": "ipython",
    "version": 3
   },
   "file_extension": ".py",
   "mimetype": "text/x-python",
   "name": "python",
   "nbconvert_exporter": "python",
   "pygments_lexer": "ipython3",
   "version": "3.8.8"
  }
 },
 "nbformat": 4,
 "nbformat_minor": 5
}

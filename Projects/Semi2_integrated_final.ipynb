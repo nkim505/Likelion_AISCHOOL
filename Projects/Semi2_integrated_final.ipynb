{
 "cells": [
  {
   "cell_type": "markdown",
   "metadata": {},
   "source": [
    "> Age열 추정"
   ]
  },
  {
   "cell_type": "code",
   "execution_count": 2,
   "metadata": {
    "colab": {},
    "colab_type": "code",
    "id": "zKbTYjWpx03n"
   },
   "outputs": [],
   "source": [
    "import warnings\n",
    "warnings.filterwarnings(\"ignore\")\n",
    "\n",
    "import pandas as pd\n",
    "import numpy as np\n",
    "import matplotlib.pyplot as plt\n",
    "\n",
    "from sklearn.preprocessing import OneHotEncoder, StandardScaler\n",
    "from sklearn.compose import ColumnTransformer\n",
    "from sklearn.pipeline import Pipeline\n",
    "\n",
    "from sklearn.ensemble import GradientBoostingClassifier, GradientBoostingRegressor\n",
    "from sklearn.metrics import mean_squared_error\n",
    "from sklearn import model_selection, linear_model\n",
    "from sklearn.metrics import accuracy_score\n",
    "from sklearn.model_selection import GridSearchCV\n",
    "from sklearn.metrics import roc_curve, auc\n",
    "from sklearn import ensemble\n",
    "from vecstack import StackingTransformer\n",
    "from sklearn.svm import SVC, SVR\n",
    "from sklearn import ensemble\n",
    "from sklearn import cluster\n",
    "from sklearn.metrics import silhouette_score\n",
    "from sklearn.metrics import classification_report\n",
    "\n",
    "from xgboost import XGBClassifier, plot_importance\n",
    "from sklearn.ensemble import ExtraTreesClassifier\n",
    "from sklearn.ensemble import RandomForestClassifier \n",
    "from vecstack import stacking"
   ]
  },
  {
   "cell_type": "markdown",
   "metadata": {},
   "source": [
    "<br>\n",
    "\n",
    "## 1. Preparing dataset"
   ]
  },
  {
   "cell_type": "code",
   "execution_count": 4,
   "metadata": {
    "scrolled": true
   },
   "outputs": [
    {
     "data": {
      "text/html": [
       "<div>\n",
       "<style scoped>\n",
       "    .dataframe tbody tr th:only-of-type {\n",
       "        vertical-align: middle;\n",
       "    }\n",
       "\n",
       "    .dataframe tbody tr th {\n",
       "        vertical-align: top;\n",
       "    }\n",
       "\n",
       "    .dataframe thead th {\n",
       "        text-align: right;\n",
       "    }\n",
       "</style>\n",
       "<table border=\"1\" class=\"dataframe\">\n",
       "  <thead>\n",
       "    <tr style=\"text-align: right;\">\n",
       "      <th></th>\n",
       "      <th>PassengerId</th>\n",
       "      <th>Survived</th>\n",
       "      <th>Pclass</th>\n",
       "      <th>Name</th>\n",
       "      <th>Sex</th>\n",
       "      <th>Age</th>\n",
       "      <th>SibSp</th>\n",
       "      <th>Parch</th>\n",
       "      <th>Ticket</th>\n",
       "      <th>Fare</th>\n",
       "      <th>Cabin</th>\n",
       "      <th>Embarked</th>\n",
       "    </tr>\n",
       "  </thead>\n",
       "  <tbody>\n",
       "    <tr>\n",
       "      <th>0</th>\n",
       "      <td>1</td>\n",
       "      <td>0</td>\n",
       "      <td>3</td>\n",
       "      <td>Braund, Mr. Owen Harris</td>\n",
       "      <td>male</td>\n",
       "      <td>22.0</td>\n",
       "      <td>1</td>\n",
       "      <td>0</td>\n",
       "      <td>A/5 21171</td>\n",
       "      <td>7.2500</td>\n",
       "      <td>NaN</td>\n",
       "      <td>S</td>\n",
       "    </tr>\n",
       "    <tr>\n",
       "      <th>1</th>\n",
       "      <td>2</td>\n",
       "      <td>1</td>\n",
       "      <td>1</td>\n",
       "      <td>Cumings, Mrs. John Bradley (Florence Briggs Th...</td>\n",
       "      <td>female</td>\n",
       "      <td>38.0</td>\n",
       "      <td>1</td>\n",
       "      <td>0</td>\n",
       "      <td>PC 17599</td>\n",
       "      <td>71.2833</td>\n",
       "      <td>C85</td>\n",
       "      <td>C</td>\n",
       "    </tr>\n",
       "    <tr>\n",
       "      <th>2</th>\n",
       "      <td>3</td>\n",
       "      <td>1</td>\n",
       "      <td>3</td>\n",
       "      <td>Heikkinen, Miss. Laina</td>\n",
       "      <td>female</td>\n",
       "      <td>26.0</td>\n",
       "      <td>0</td>\n",
       "      <td>0</td>\n",
       "      <td>STON/O2. 3101282</td>\n",
       "      <td>7.9250</td>\n",
       "      <td>NaN</td>\n",
       "      <td>S</td>\n",
       "    </tr>\n",
       "  </tbody>\n",
       "</table>\n",
       "</div>"
      ],
      "text/plain": [
       "   PassengerId  Survived  Pclass  \\\n",
       "0            1         0       3   \n",
       "1            2         1       1   \n",
       "2            3         1       3   \n",
       "\n",
       "                                                Name     Sex   Age  SibSp  \\\n",
       "0                            Braund, Mr. Owen Harris    male  22.0      1   \n",
       "1  Cumings, Mrs. John Bradley (Florence Briggs Th...  female  38.0      1   \n",
       "2                             Heikkinen, Miss. Laina  female  26.0      0   \n",
       "\n",
       "   Parch            Ticket     Fare Cabin Embarked  \n",
       "0      0         A/5 21171   7.2500   NaN        S  \n",
       "1      0          PC 17599  71.2833   C85        C  \n",
       "2      0  STON/O2. 3101282   7.9250   NaN        S  "
      ]
     },
     "execution_count": 4,
     "metadata": {},
     "output_type": "execute_result"
    }
   ],
   "source": [
    "data_df = pd.read_csv('titanic.csv')\n",
    "data_df.head(3)"
   ]
  },
  {
   "cell_type": "markdown",
   "metadata": {},
   "source": [
    "## Data info\n",
    "\n",
    "- **PassengerId** : Unique ID of passenger\n",
    "- **Survived** : 0 = No, 1 = Yes\n",
    "- **pclass** : Ticket class (1 = 1st, 2 = 2nd, 3 = 3rd)\n",
    "- **sibsp** : # of siblings & spouses aboard the Titanic\n",
    "- **parch** : # of parents / children aboard the Titanic\n",
    "- **ticket** : Ticket number\n",
    "- **cabin** : Cabin number\n",
    "- **embarked** : Port of Embarkation (C = Cherbourg, Q = Queenstown, S = Southampton)"
   ]
  },
  {
   "cell_type": "code",
   "execution_count": 5,
   "metadata": {
    "colab": {
     "base_uri": "https://localhost:8080/",
     "height": 127
    },
    "colab_type": "code",
    "executionInfo": {
     "elapsed": 13775,
     "status": "ok",
     "timestamp": 1546723556658,
     "user": {
      "displayName": "Daeyeon Jo",
      "photoUrl": "https://lh4.googleusercontent.com/-9t4wvx9MYls/AAAAAAAAAAI/AAAAAAAAAC0/SPqWlKvQQMk/s64/photo.jpg",
      "userId": "05542487530960824006"
     },
     "user_tz": -540
    },
    "id": "EqR4honW16jn",
    "outputId": "35909889-315d-4a5f-815d-ce1535201ae0"
   },
   "outputs": [
    {
     "data": {
      "text/html": [
       "<div>\n",
       "<style scoped>\n",
       "    .dataframe tbody tr th:only-of-type {\n",
       "        vertical-align: middle;\n",
       "    }\n",
       "\n",
       "    .dataframe tbody tr th {\n",
       "        vertical-align: top;\n",
       "    }\n",
       "\n",
       "    .dataframe thead th {\n",
       "        text-align: right;\n",
       "    }\n",
       "</style>\n",
       "<table border=\"1\" class=\"dataframe\">\n",
       "  <thead>\n",
       "    <tr style=\"text-align: right;\">\n",
       "      <th></th>\n",
       "      <th>Survived</th>\n",
       "    </tr>\n",
       "  </thead>\n",
       "  <tbody>\n",
       "    <tr>\n",
       "      <th>0</th>\n",
       "      <td>0</td>\n",
       "    </tr>\n",
       "    <tr>\n",
       "      <th>1</th>\n",
       "      <td>1</td>\n",
       "    </tr>\n",
       "    <tr>\n",
       "      <th>2</th>\n",
       "      <td>1</td>\n",
       "    </tr>\n",
       "  </tbody>\n",
       "</table>\n",
       "</div>"
      ],
      "text/plain": [
       "   Survived\n",
       "0         0\n",
       "1         1\n",
       "2         1"
      ]
     },
     "execution_count": 5,
     "metadata": {},
     "output_type": "execute_result"
    }
   ],
   "source": [
    "y_data = data_df[['Survived']]\n",
    "#x_data = data_df.copy()\n",
    "y_data.head(3)"
   ]
  },
  {
   "cell_type": "code",
   "execution_count": 6,
   "metadata": {},
   "outputs": [
    {
     "data": {
      "text/html": [
       "<div>\n",
       "<style scoped>\n",
       "    .dataframe tbody tr th:only-of-type {\n",
       "        vertical-align: middle;\n",
       "    }\n",
       "\n",
       "    .dataframe tbody tr th {\n",
       "        vertical-align: top;\n",
       "    }\n",
       "\n",
       "    .dataframe thead th {\n",
       "        text-align: right;\n",
       "    }\n",
       "</style>\n",
       "<table border=\"1\" class=\"dataframe\">\n",
       "  <thead>\n",
       "    <tr style=\"text-align: right;\">\n",
       "      <th></th>\n",
       "      <th>PassengerId</th>\n",
       "      <th>Survived</th>\n",
       "      <th>Pclass</th>\n",
       "      <th>Name</th>\n",
       "      <th>Sex</th>\n",
       "      <th>Age</th>\n",
       "      <th>SibSp</th>\n",
       "      <th>Parch</th>\n",
       "      <th>Ticket</th>\n",
       "      <th>Fare</th>\n",
       "      <th>Cabin</th>\n",
       "      <th>Embarked</th>\n",
       "    </tr>\n",
       "  </thead>\n",
       "  <tbody>\n",
       "    <tr>\n",
       "      <th>0</th>\n",
       "      <td>1</td>\n",
       "      <td>0</td>\n",
       "      <td>3</td>\n",
       "      <td>Braund, Mr. Owen Harris</td>\n",
       "      <td>male</td>\n",
       "      <td>22.0</td>\n",
       "      <td>1</td>\n",
       "      <td>0</td>\n",
       "      <td>A/5 21171</td>\n",
       "      <td>7.2500</td>\n",
       "      <td>NaN</td>\n",
       "      <td>S</td>\n",
       "    </tr>\n",
       "    <tr>\n",
       "      <th>1</th>\n",
       "      <td>2</td>\n",
       "      <td>1</td>\n",
       "      <td>1</td>\n",
       "      <td>Cumings, Mrs. John Bradley (Florence Briggs Th...</td>\n",
       "      <td>female</td>\n",
       "      <td>38.0</td>\n",
       "      <td>1</td>\n",
       "      <td>0</td>\n",
       "      <td>PC 17599</td>\n",
       "      <td>71.2833</td>\n",
       "      <td>C85</td>\n",
       "      <td>C</td>\n",
       "    </tr>\n",
       "    <tr>\n",
       "      <th>2</th>\n",
       "      <td>3</td>\n",
       "      <td>1</td>\n",
       "      <td>3</td>\n",
       "      <td>Heikkinen, Miss. Laina</td>\n",
       "      <td>female</td>\n",
       "      <td>26.0</td>\n",
       "      <td>0</td>\n",
       "      <td>0</td>\n",
       "      <td>STON/O2. 3101282</td>\n",
       "      <td>7.9250</td>\n",
       "      <td>NaN</td>\n",
       "      <td>S</td>\n",
       "    </tr>\n",
       "  </tbody>\n",
       "</table>\n",
       "</div>"
      ],
      "text/plain": [
       "   PassengerId  Survived  Pclass  \\\n",
       "0            1         0       3   \n",
       "1            2         1       1   \n",
       "2            3         1       3   \n",
       "\n",
       "                                                Name     Sex   Age  SibSp  \\\n",
       "0                            Braund, Mr. Owen Harris    male  22.0      1   \n",
       "1  Cumings, Mrs. John Bradley (Florence Briggs Th...  female  38.0      1   \n",
       "2                             Heikkinen, Miss. Laina  female  26.0      0   \n",
       "\n",
       "   Parch            Ticket     Fare Cabin Embarked  \n",
       "0      0         A/5 21171   7.2500   NaN        S  \n",
       "1      0          PC 17599  71.2833   C85        C  \n",
       "2      0  STON/O2. 3101282   7.9250   NaN        S  "
      ]
     },
     "execution_count": 6,
     "metadata": {},
     "output_type": "execute_result"
    }
   ],
   "source": [
    "# del data_df['Survived']\n",
    "x_data = data_df.copy()\n",
    "x_data.head(3)"
   ]
  },
  {
   "cell_type": "markdown",
   "metadata": {},
   "source": [
    "<br>\n",
    "\n",
    "## 2. Feature engineering & Feature selection"
   ]
  },
  {
   "cell_type": "markdown",
   "metadata": {},
   "source": [
    "#### 시도해볼 수 있는 전략들 by 강사님\n",
    "\n",
    "- 불필요한 열이나 예측에 방해가 되는 열은 아예 지우기 (ex. PassengerId)\n",
    "- 결측치 채우기 \n",
    "- Text로 되어있는 Category(Factor)는 숫자로 바꿔주기 (ex. Male/Female -> 0/1)\n",
    "- 실수 범위를 구간 범위로 바꿔주기 \n",
    "- 필요한 경우 기존 열을 바탕으로 새로운 열을 계산해 추가하기"
   ]
  },
  {
   "cell_type": "markdown",
   "metadata": {},
   "source": [
    "### 2.1. 전처리를 위한 Brainstorming\n",
    "**우리팀에서 정한 전처리 내용** <br>\n",
    "- embarked -> s로\n",
    "- Cabin -> 자료 있음 1, 자료 없음 0\n",
    "<br>\n",
    "\n",
    "**우리팀에서 정한 Age열 다중회귀 방법** <br>\n",
    "* 독립변수 : Pclass, Sex, SibSp, Parch, Fare, Cabin, Embarked\n",
    "* Pclass : 1, 2, 3 ( 범주화 )\n",
    "* Sex : male, female ( 1, 2 로 바꿔서 범주화 )\n",
    "* SibSp : 1(1보다 크면), 0(0이면)  (범주화)\n",
    "* Parch : 1(1보다 크면), 0(0이면)  (범주화)\n",
    "* Fare : SipSp + Parch + 1 로 나눈 값 사용 ( Numeric )\n",
    "* Cabin : 널 값 아니면 1, 널 값이면 0 (범주화)\n",
    "* Embarked : 도시별 0, 1, 2 로 범주화 \n",
    "\n",
    "**plus,** <br>\n",
    "'Name'에서, Mr, Miss 등을 꺼내서 유의미한 정보를 가진 열을 만들어 줄 수 있을까"
   ]
  },
  {
   "cell_type": "markdown",
   "metadata": {},
   "source": [
    "So, **Title을 봤을 때 다음과 같았음.**<br>\n",
    "'Mr', 'Mrs', 'Miss', 'Master', 'Don', 'Rev', 'Dr', 'Mme', 'Ms', <br>\n",
    "'Major', 'Lady', 'Sir', 'Mlle', 'Col', 'Capt', 'the Countess', <br>\n",
    "'Jonkheer' <br>\n",
    "\n",
    "1. Age 추정에는 대략적인 나잇대를 가늠할 수 있을 정도로만 묶어서 사용해보자.\n",
    "    * 남성, 여성 성인 => 나이 많은 사람 '1'\n",
    "    * 젊은 남성, 여성 => 젊은 사람 '2'\n",
    "    * 귀족, 작위 => 미상(가늠 안됨) '3'\n",
    "        <br> <br>\n",
    "1. 그 사람의 지위(사회적 지위) 알 수 있어서, 이 열도 전체 분석 모델 Train 데이터에 추가하여 사용하는 것이 좋을 것 같다.\n",
    "    * 명예직\n",
    "    * 작위 소유 혹은 귀족\n",
    "    * 일반\n",
    "    <br>"
   ]
  },
  {
   "cell_type": "markdown",
   "metadata": {},
   "source": [
    "### 2.2 x_data 변수 처리(수정, string -> int 변경 등)"
   ]
  },
  {
   "cell_type": "code",
   "execution_count": 7,
   "metadata": {
    "scrolled": true
   },
   "outputs": [
    {
     "name": "stdout",
     "output_type": "stream",
     "text": [
      "18\n",
      "Index(['PassengerId', 'Survived', 'Pclass', 'Name', 'Sex', 'Age', 'SibSp',\n",
      "       'Parch', 'Ticket', 'Fare', 'Cabin', 'Embarked', 'Title', 'agebound',\n",
      "       'socialstatus', 'Fare_edited', 'SibSp_edited', 'Parch_edited'],\n",
      "      dtype='object')\n",
      "18\n",
      "Index(['PassengerId', 'Survived', 'Pclass', 'Title', 'Name', 'agebound',\n",
      "       'socialstatus', 'Sex', 'Age', 'SibSp', 'Parch', 'SibSp_edited',\n",
      "       'Parch_edited', 'Ticket', 'Fare', 'Fare_edited', 'Cabin', 'Embarked'],\n",
      "      dtype='object')\n",
      "\n",
      "=========================\n",
      "\n",
      "<class 'pandas.core.frame.DataFrame'>\n",
      "RangeIndex: 891 entries, 0 to 890\n",
      "Data columns (total 17 columns):\n",
      " #   Column        Non-Null Count  Dtype  \n",
      "---  ------        --------------  -----  \n",
      " 0   PassengerId   891 non-null    int64  \n",
      " 1   Survived      891 non-null    int64  \n",
      " 2   Pclass        891 non-null    int64  \n",
      " 3   Title         891 non-null    object \n",
      " 4   Name          891 non-null    object \n",
      " 5   agebound      891 non-null    int64  \n",
      " 6   socialstatus  891 non-null    int64  \n",
      " 7   Sex           891 non-null    int64  \n",
      " 8   Age           714 non-null    float64\n",
      " 9   SibSp         891 non-null    int64  \n",
      " 10  Parch         891 non-null    int64  \n",
      " 11  SibSp_edited  891 non-null    int64  \n",
      " 12  Parch_edited  891 non-null    int64  \n",
      " 13  Fare          891 non-null    float64\n",
      " 14  Fare_edited   891 non-null    float64\n",
      " 15  Cabin         891 non-null    object \n",
      " 16  Embarked      891 non-null    int64  \n",
      "dtypes: float64(3), int64(11), object(3)\n",
      "memory usage: 118.5+ KB\n",
      "None\n"
     ]
    }
   ],
   "source": [
    "title_simple_dict = {1:['Mr', 'Mrs','Don','Rev','Dr', 'Mme', 'Ms','Major','Sir','Col', 'Capt'], #남성, 여성, 명예직\n",
    "              2:['Miss','Master','Lady','Mlle',], #젊은남성, 젊은여성\n",
    "              3:['the Countess','Jonkheer']} #기타: 귀족,작위\n",
    "\n",
    "title_hier_dict = {1:['Rev','Dr','Major','Sir','Col', 'Capt'], #명예직\n",
    "                   2:['the Countess','Jonkheer'], #귀족, 작위\n",
    "                   3:['Miss','Master','Lady','Mlle','Mr', 'Mrs','Don', 'Mme', 'Ms']} #일반\n",
    "\n",
    "# Sex 범주화하기(0, 1)\n",
    "x_data['Sex'] = x_data['Sex'].replace(['male', 'female'], [0, 1])\n",
    "\n",
    "# Name에서 Title 열 만들기\n",
    "x_data['Title'] = x_data['Name'].apply(lambda x: x.split(\",\")[1].split(\".\")[0].strip())\n",
    "\n",
    "# Name에서 agebound 열 만들기\n",
    "def give_agebound(x):\n",
    "    for key, value in title_simple_dict.items():\n",
    "        for title in value:\n",
    "            x == title\n",
    "            return key\n",
    "x_data['agebound'] = x_data['Title'].apply(lambda x: give_agebound(x))\n",
    "\n",
    "# Name에서 social_status 열 만들기\n",
    "def give_socialstatus(x):\n",
    "    for key, value in title_hier_dict.items():\n",
    "        for title in value:\n",
    "            x == title\n",
    "            return key\n",
    "x_data['socialstatus'] = x_data['Title'].apply(lambda x: give_socialstatus(x))\n",
    "\n",
    "# Fare 1인당 가격으로 변경\n",
    "x_data['Fare_edited'] = x_data['Fare']/(x_data['SibSp']+x_data['Parch']+1)\n",
    "\n",
    "# SibSp 범주화하기(1 if Sibsp > =1 , else 0) \n",
    "x_data['SibSp_edited'] = x_data['SibSp'].apply(lambda x : 1 if x >= 1 else 0 )\n",
    "\n",
    "# Parch 범주화하기(1 if Sibsp > =1 , else 0) \n",
    "x_data['Parch_edited'] = x_data['Parch'].apply(lambda x : 1 if x >= 1 else 0 )\n",
    "\n",
    "# Embarked 도시별 0 = S, 1 = C , 2 = Q, 결측치는 0(\"S\")로\n",
    "embarked_dict = {\"S\":1, \"C\":2, \"Q\":3}\n",
    "x_data['Embarked'] = x_data['Embarked'].apply(lambda x: embarked_dict.get(x, 0))\n",
    "\n",
    "# Cabin 범주화(자료 있음 = 1, 자료 없음 = 0)\n",
    "x_data.loc[x_data['Cabin'].notnull(), 'Cabin'] = 1\n",
    "x_data.loc[x_data['Cabin'].isnull(), 'Cabin'] = 0\n",
    "\n",
    "# 새로 생긴 feature들 위치 옮겨주기\n",
    "print(len(x_data.columns))\n",
    "print(x_data.columns)\n",
    "x_data = x_data.reindex(columns = ['PassengerId', 'Survived', 'Pclass','Title','Name', 'agebound','socialstatus', 'Sex', 'Age', 'SibSp',\n",
    "       'Parch','SibSp_edited', 'Parch_edited', 'Ticket', 'Fare', 'Fare_edited', 'Cabin', 'Embarked'])\n",
    "print(len(x_data.columns))\n",
    "print(x_data.columns)\n",
    "\n",
    "# 마지막으로 Ticket 지우기\n",
    "#del x_data['Survived'] #추후 age 추정 때 머징 위해 살림.\n",
    "#del x_data['PassengerId']  #추후 age 추정 때 머징 위해 살림.\n",
    "del x_data['Ticket']\n",
    "\n",
    "print(\"\\n=========================\\n\")\n",
    "print(x_data.info())"
   ]
  },
  {
   "cell_type": "markdown",
   "metadata": {},
   "source": [
    "## 3. Age 결측치 처리 => Regression 모델로 prediction\n",
    "* 종속변수 : 'Age'\n",
    "* 독립변수 목록\n",
    "    * 'agebound','Pclass', 'Sex', 'SibSp_edited', 'Parch_edited', 'Fare_edited', 'Cabin','Embarked'\n"
   ]
  },
  {
   "cell_type": "markdown",
   "metadata": {},
   "source": [
    "### 3.1 age_df 생성(독립변수, 종속변수만 모아서) "
   ]
  },
  {
   "cell_type": "code",
   "execution_count": 8,
   "metadata": {
    "colab": {},
    "colab_type": "code",
    "id": "WHC33_Bm0PTv"
   },
   "outputs": [
    {
     "name": "stdout",
     "output_type": "stream",
     "text": [
      "(714, 11)\n",
      "(177, 10)\n"
     ]
    }
   ],
   "source": [
    "# Age 전처리 위한 Age_df 생성\n",
    "age_df = x_data.copy()\n",
    "\n",
    "#독립변수, PassengerId, name와 종속변수만 남기기 ('agebound',Age','PassengerId','Name','Pclass', 'Sex', 'SibSp_edited', 'Parch_edited', 'Fare_edited', 'Cabin','Embarked')\n",
    "age_df = age_df[['PassengerId','Name','Age','agebound','Pclass', 'Sex', 'SibSp_edited', 'Parch_edited', 'Fare_edited', 'Cabin','Embarked']]\n",
    "\n",
    "age_notnull_df = age_df[age_df['Age'].notnull()]\n",
    "age_isnull_df = age_df[age_df['Age'].isnull()]\n",
    "del age_isnull_df['Age']\n",
    "\n",
    "# age_data = np.array(age_notnull_df)\n",
    "# age_isnull = np.array(age_isnull_df)\n",
    "\n",
    "print(age_notnull_df.shape)\n",
    "print(age_isnull_df.shape)"
   ]
  },
  {
   "cell_type": "code",
   "execution_count": 9,
   "metadata": {
    "scrolled": false
   },
   "outputs": [
    {
     "data": {
      "text/html": [
       "<div>\n",
       "<style scoped>\n",
       "    .dataframe tbody tr th:only-of-type {\n",
       "        vertical-align: middle;\n",
       "    }\n",
       "\n",
       "    .dataframe tbody tr th {\n",
       "        vertical-align: top;\n",
       "    }\n",
       "\n",
       "    .dataframe thead th {\n",
       "        text-align: right;\n",
       "    }\n",
       "</style>\n",
       "<table border=\"1\" class=\"dataframe\">\n",
       "  <thead>\n",
       "    <tr style=\"text-align: right;\">\n",
       "      <th></th>\n",
       "      <th>Age</th>\n",
       "    </tr>\n",
       "  </thead>\n",
       "  <tbody>\n",
       "    <tr>\n",
       "      <th>0</th>\n",
       "      <td>22.0</td>\n",
       "    </tr>\n",
       "    <tr>\n",
       "      <th>1</th>\n",
       "      <td>38.0</td>\n",
       "    </tr>\n",
       "    <tr>\n",
       "      <th>2</th>\n",
       "      <td>26.0</td>\n",
       "    </tr>\n",
       "    <tr>\n",
       "      <th>3</th>\n",
       "      <td>35.0</td>\n",
       "    </tr>\n",
       "    <tr>\n",
       "      <th>4</th>\n",
       "      <td>35.0</td>\n",
       "    </tr>\n",
       "    <tr>\n",
       "      <th>...</th>\n",
       "      <td>...</td>\n",
       "    </tr>\n",
       "    <tr>\n",
       "      <th>885</th>\n",
       "      <td>39.0</td>\n",
       "    </tr>\n",
       "    <tr>\n",
       "      <th>886</th>\n",
       "      <td>27.0</td>\n",
       "    </tr>\n",
       "    <tr>\n",
       "      <th>887</th>\n",
       "      <td>19.0</td>\n",
       "    </tr>\n",
       "    <tr>\n",
       "      <th>889</th>\n",
       "      <td>26.0</td>\n",
       "    </tr>\n",
       "    <tr>\n",
       "      <th>890</th>\n",
       "      <td>32.0</td>\n",
       "    </tr>\n",
       "  </tbody>\n",
       "</table>\n",
       "<p>714 rows × 1 columns</p>\n",
       "</div>"
      ],
      "text/plain": [
       "      Age\n",
       "0    22.0\n",
       "1    38.0\n",
       "2    26.0\n",
       "3    35.0\n",
       "4    35.0\n",
       "..    ...\n",
       "885  39.0\n",
       "886  27.0\n",
       "887  19.0\n",
       "889  26.0\n",
       "890  32.0\n",
       "\n",
       "[714 rows x 1 columns]"
      ]
     },
     "execution_count": 9,
     "metadata": {},
     "output_type": "execute_result"
    }
   ],
   "source": [
    "age_notnull_df.iloc[:,2:3]"
   ]
  },
  {
   "cell_type": "markdown",
   "metadata": {},
   "source": [
    "### 3.2 train, validation split 하기\n",
    "700개 다 넣고 gridsearch할 수도 있지만 (알아서 validation set해서 돌려줌) <br>\n",
    "시간 제약으로 GredientBoostingRegressor를 사용하였고, <br>\n",
    "수기로 파라메터 조정하면서 가장 나은 성능의 파라메터 찾음\n",
    "<br>\n",
    "<br>\n",
    "그리고 age 값이 있는 데이터가 train, test 나누어 학습시키기에 <br>\n",
    "양이 너무 적어서 age 값 있는 데이터 714개 모두 X_train, y_train으로 쓰기로 함."
   ]
  },
  {
   "cell_type": "code",
   "execution_count": 10,
   "metadata": {
    "scrolled": true
   },
   "outputs": [
    {
     "name": "stdout",
     "output_type": "stream",
     "text": [
      "(714, 8)\n",
      "(714, 1)\n"
     ]
    }
   ],
   "source": [
    "# 데이터가 너무 적어서 전체를 X_train, y_train으로 쓰기로 함.\n",
    "\n",
    "# train data, validation data split for age_data(notnull)\n",
    "# from sklearn.model_selection import train_test_split\n",
    "\n",
    "# #파이프라인 쓰려고 데이터프레임으로 넣었다.part5.추가학습자료 0413 수업 부분 확인\n",
    "# X_train, X_test, y_train, y_test = train_test_split(age_notnull_df.iloc[:,3:],# X\n",
    "#                                                     age_notnull_df.iloc[:,2:3], # Y\n",
    "#                                                     test_size=0.1,\n",
    "#                                                     random_state=0)\n",
    "\n",
    "X_train = age_notnull_df.iloc[:,3:]\n",
    "y_train = age_notnull_df.iloc[:,2:3]\n",
    "print(X_train.shape) #$$$,8\n",
    "print(y_train.shape)"
   ]
  },
  {
   "cell_type": "markdown",
   "metadata": {},
   "source": [
    "### 3.3 Make Pipeline for feature-transformer(원핫인코딩만 사용)"
   ]
  },
  {
   "cell_type": "code",
   "execution_count": 11,
   "metadata": {},
   "outputs": [
    {
     "data": {
      "text/plain": [
       "['PassengerId',\n",
       " 'Name',\n",
       " 'Age',\n",
       " 'agebound',\n",
       " 'Pclass',\n",
       " 'Sex',\n",
       " 'SibSp_edited',\n",
       " 'Parch_edited',\n",
       " 'Fare_edited',\n",
       " 'Cabin',\n",
       " 'Embarked']"
      ]
     },
     "execution_count": 11,
     "metadata": {},
     "output_type": "execute_result"
    }
   ],
   "source": [
    "list(age_notnull_df.columns)"
   ]
  },
  {
   "cell_type": "code",
   "execution_count": 12,
   "metadata": {},
   "outputs": [],
   "source": [
    "numeric_features = ['Fare_edited']\n",
    "numeric_transformer = StandardScaler() # cf) RobustScaler\n",
    "\n",
    "categorical_features = ['agebound',\n",
    "                        'Pclass',\n",
    "                        'Sex',\n",
    "                         'SibSp_edited',\n",
    "                         'Parch_edited',\n",
    "                         'Cabin',\n",
    "                         'Embarked']\n",
    "categorical_transformer = OneHotEncoder(categories='auto',\n",
    "                                       handle_unknown='ignore')\n",
    "\n",
    "# preprocessor에서 특정 애들은 프리pass 시킬 수 없는가? ColumnTransformer 로 검색해서 찾을 수 있음.\n",
    "# 방법은 ; ('pass_through', 'passthrough', numeric_features) 로 만들기\n",
    "\n",
    "preprocessor =  ColumnTransformer(\n",
    "    transformers=[ # List of (name, transformer, column(s))의 튜플들\n",
    "        ('pass_through', 'passthrough', numeric_features),\n",
    "        ('cat', categorical_transformer, categorical_features)])"
   ]
  },
  {
   "cell_type": "markdown",
   "metadata": {},
   "source": [
    "### 3.4 프리프로세서, 데이터 피팅 with pipeline usage (processing only)"
   ]
  },
  {
   "cell_type": "code",
   "execution_count": 13,
   "metadata": {},
   "outputs": [],
   "source": [
    "preprocessor_pipe = Pipeline(steps=[('preprocessor', preprocessor)]) \n",
    "preprocessor_pipe.fit(X_train) #전처리 도구들이 피팅된다\n",
    "\n",
    "X_train_transformed = preprocessor_pipe.transform(X_train)\n",
    "\n",
    "#이제 트랜스폼 된 애들로 학습시키고, 테스트"
   ]
  },
  {
   "cell_type": "code",
   "execution_count": 14,
   "metadata": {},
   "outputs": [
    {
     "data": {
      "text/html": [
       "<div>\n",
       "<style scoped>\n",
       "    .dataframe tbody tr th:only-of-type {\n",
       "        vertical-align: middle;\n",
       "    }\n",
       "\n",
       "    .dataframe tbody tr th {\n",
       "        vertical-align: top;\n",
       "    }\n",
       "\n",
       "    .dataframe thead th {\n",
       "        text-align: right;\n",
       "    }\n",
       "</style>\n",
       "<table border=\"1\" class=\"dataframe\">\n",
       "  <thead>\n",
       "    <tr style=\"text-align: right;\">\n",
       "      <th></th>\n",
       "      <th>0</th>\n",
       "      <th>1</th>\n",
       "      <th>2</th>\n",
       "      <th>3</th>\n",
       "      <th>4</th>\n",
       "      <th>5</th>\n",
       "      <th>6</th>\n",
       "      <th>7</th>\n",
       "      <th>8</th>\n",
       "      <th>9</th>\n",
       "      <th>10</th>\n",
       "      <th>11</th>\n",
       "      <th>12</th>\n",
       "      <th>13</th>\n",
       "      <th>14</th>\n",
       "      <th>15</th>\n",
       "      <th>16</th>\n",
       "    </tr>\n",
       "  </thead>\n",
       "  <tbody>\n",
       "    <tr>\n",
       "      <th>0</th>\n",
       "      <td>3.62500</td>\n",
       "      <td>1.0</td>\n",
       "      <td>0.0</td>\n",
       "      <td>0.0</td>\n",
       "      <td>1.0</td>\n",
       "      <td>1.0</td>\n",
       "      <td>0.0</td>\n",
       "      <td>0.0</td>\n",
       "      <td>1.0</td>\n",
       "      <td>1.0</td>\n",
       "      <td>0.0</td>\n",
       "      <td>1.0</td>\n",
       "      <td>0.0</td>\n",
       "      <td>0.0</td>\n",
       "      <td>1.0</td>\n",
       "      <td>0.0</td>\n",
       "      <td>0.0</td>\n",
       "    </tr>\n",
       "    <tr>\n",
       "      <th>1</th>\n",
       "      <td>35.64165</td>\n",
       "      <td>1.0</td>\n",
       "      <td>1.0</td>\n",
       "      <td>0.0</td>\n",
       "      <td>0.0</td>\n",
       "      <td>0.0</td>\n",
       "      <td>1.0</td>\n",
       "      <td>0.0</td>\n",
       "      <td>1.0</td>\n",
       "      <td>1.0</td>\n",
       "      <td>0.0</td>\n",
       "      <td>0.0</td>\n",
       "      <td>1.0</td>\n",
       "      <td>0.0</td>\n",
       "      <td>0.0</td>\n",
       "      <td>1.0</td>\n",
       "      <td>0.0</td>\n",
       "    </tr>\n",
       "    <tr>\n",
       "      <th>2</th>\n",
       "      <td>7.92500</td>\n",
       "      <td>1.0</td>\n",
       "      <td>0.0</td>\n",
       "      <td>0.0</td>\n",
       "      <td>1.0</td>\n",
       "      <td>0.0</td>\n",
       "      <td>1.0</td>\n",
       "      <td>1.0</td>\n",
       "      <td>0.0</td>\n",
       "      <td>1.0</td>\n",
       "      <td>0.0</td>\n",
       "      <td>1.0</td>\n",
       "      <td>0.0</td>\n",
       "      <td>0.0</td>\n",
       "      <td>1.0</td>\n",
       "      <td>0.0</td>\n",
       "      <td>0.0</td>\n",
       "    </tr>\n",
       "  </tbody>\n",
       "</table>\n",
       "</div>"
      ],
      "text/plain": [
       "         0    1    2    3    4    5    6    7    8    9    10   11   12   13  \\\n",
       "0   3.62500  1.0  0.0  0.0  1.0  1.0  0.0  0.0  1.0  1.0  0.0  1.0  0.0  0.0   \n",
       "1  35.64165  1.0  1.0  0.0  0.0  0.0  1.0  0.0  1.0  1.0  0.0  0.0  1.0  0.0   \n",
       "2   7.92500  1.0  0.0  0.0  1.0  0.0  1.0  1.0  0.0  1.0  0.0  1.0  0.0  0.0   \n",
       "\n",
       "    14   15   16  \n",
       "0  1.0  0.0  0.0  \n",
       "1  0.0  1.0  0.0  \n",
       "2  1.0  0.0  0.0  "
      ]
     },
     "execution_count": 14,
     "metadata": {},
     "output_type": "execute_result"
    }
   ],
   "source": [
    "pd.DataFrame(X_train_transformed).head(3)"
   ]
  },
  {
   "cell_type": "markdown",
   "metadata": {},
   "source": [
    "### 3.5 GradientBoostingRegressor 모델 사용"
   ]
  },
  {
   "cell_type": "code",
   "execution_count": 15,
   "metadata": {
    "scrolled": true
   },
   "outputs": [
    {
     "name": "stdout",
     "output_type": "stream",
     "text": [
      "MSE(Training data) w/ library:  65.8912560078688\n",
      "Square root of error(Training data) 8.117342915503126\n"
     ]
    }
   ],
   "source": [
    "# Fit regression model\n",
    "params = {'n_estimators': 1000, 'max_depth': 4, 'min_samples_split': 2,\n",
    "          'learning_rate': 0.05, 'loss': 'ls'}\n",
    "\n",
    "model = GradientBoostingRegressor(**params, random_state=0)\n",
    "model.fit(X_train_transformed, y_train) # <- x_train_transformed (not x_train)\n",
    "model.predict(X_train_transformed)\n",
    "print('MSE(Training data) w/ library: ', mean_squared_error(model.predict(X_train_transformed), y_train))\n",
    "print('Square root of error(Training data)', np.sqrt(mean_squared_error(model.predict(X_train_transformed), y_train)))\n",
    "\n",
    "# 회귀에서는 accuracy라는 개념이 없음 (지우기)\n",
    "# accuracy = model.score(X_train_transformed, y_train)\n",
    "# print(\"model score:\", round(accuracy, 4))"
   ]
  },
  {
   "cell_type": "markdown",
   "metadata": {},
   "source": [
    "### 3.6 GradientBoostingRegressor - Age null 값 추정"
   ]
  },
  {
   "cell_type": "code",
   "execution_count": 16,
   "metadata": {},
   "outputs": [
    {
     "name": "stdout",
     "output_type": "stream",
     "text": [
      "(177, 17)\n",
      "(177,)\n"
     ]
    }
   ],
   "source": [
    "# Age null 값 추정하기 => y_hat_test\n",
    "\n",
    "# X_test df 준비\n",
    "X_test = age_isnull_df.iloc[:,2:]\n",
    "\n",
    "# preprocessor로 한번 돌리기\n",
    "X_test_transformed = preprocessor_pipe.transform(X_test)\n",
    "print(X_test_transformed.shape)\n",
    "\n",
    "# predict X_test and save into a list\n",
    "y_hat_test = model.predict(X_test_transformed)\n",
    "print(y_hat_test.shape)"
   ]
  },
  {
   "cell_type": "markdown",
   "metadata": {},
   "source": [
    "## 4. 결측치 y_hat_test 으로 채우고, <br> 전체 x_data로 다시 머지하기"
   ]
  },
  {
   "cell_type": "code",
   "execution_count": 17,
   "metadata": {},
   "outputs": [],
   "source": [
    "# age_new_df로 다시 묶어주기\n",
    "age_isnull_df['Age'] = y_hat_test\n",
    "age_isnull_df.head()\n",
    "\n",
    "age_new_df = pd.concat([age_notnull_df, age_isnull_df], axis=0)\n",
    "age_new_df = age_new_df.sort_index()\n",
    "#age_new_df.head(10)\n",
    "#비교\n",
    "#age_df.head(10)"
   ]
  },
  {
   "cell_type": "code",
   "execution_count": 18,
   "metadata": {},
   "outputs": [
    {
     "data": {
      "text/plain": [
       "['PassengerId',\n",
       " 'Survived',\n",
       " 'Pclass',\n",
       " 'Title',\n",
       " 'Name',\n",
       " 'agebound',\n",
       " 'socialstatus',\n",
       " 'Sex',\n",
       " 'Age',\n",
       " 'SibSp',\n",
       " 'Parch',\n",
       " 'SibSp_edited',\n",
       " 'Parch_edited',\n",
       " 'Fare',\n",
       " 'Fare_edited',\n",
       " 'Cabin',\n",
       " 'Embarked',\n",
       " 'Age_edited']"
      ]
     },
     "execution_count": 18,
     "metadata": {},
     "output_type": "execute_result"
    }
   ],
   "source": [
    "# x_data에 보정된 age값 넣어주기\n",
    "Age_edited = age_new_df['Age']\n",
    "x_data['Age_edited']= Age_edited\n",
    "list(x_data.columns)"
   ]
  },
  {
   "cell_type": "markdown",
   "metadata": {},
   "source": [
    "reindex 사용하여 x_data를 판다스로 보기 좋게, 열 순서 정리함"
   ]
  },
  {
   "cell_type": "code",
   "execution_count": 19,
   "metadata": {},
   "outputs": [],
   "source": [
    "x_data = x_data.reindex(columns =['PassengerId',\n",
    " 'Survived',\n",
    " 'Pclass',\n",
    " 'Title',\n",
    " 'Name',\n",
    " 'agebound',\n",
    " 'socialstatus',\n",
    " 'Sex',\n",
    " 'Age',\n",
    " 'Age_edited',\n",
    " 'SibSp',\n",
    " 'Parch',\n",
    " 'SibSp_edited',\n",
    " 'Parch_edited',\n",
    " 'Fare',\n",
    " 'Fare_edited',\n",
    " 'Cabin',\n",
    " 'Embarked'])"
   ]
  },
  {
   "cell_type": "code",
   "execution_count": 20,
   "metadata": {},
   "outputs": [
    {
     "name": "stdout",
     "output_type": "stream",
     "text": [
      "<class 'pandas.core.frame.DataFrame'>\n",
      "RangeIndex: 891 entries, 0 to 890\n",
      "Data columns (total 17 columns):\n",
      " #   Column        Non-Null Count  Dtype  \n",
      "---  ------        --------------  -----  \n",
      " 0   Survived      891 non-null    int64  \n",
      " 1   Pclass        891 non-null    int64  \n",
      " 2   Title         891 non-null    object \n",
      " 3   Name          891 non-null    object \n",
      " 4   agebound      891 non-null    int64  \n",
      " 5   socialstatus  891 non-null    int64  \n",
      " 6   Sex           891 non-null    int64  \n",
      " 7   Age           714 non-null    float64\n",
      " 8   Age_edited    891 non-null    float64\n",
      " 9   SibSp         891 non-null    int64  \n",
      " 10  Parch         891 non-null    int64  \n",
      " 11  SibSp_edited  891 non-null    int64  \n",
      " 12  Parch_edited  891 non-null    int64  \n",
      " 13  Fare          891 non-null    float64\n",
      " 14  Fare_edited   891 non-null    float64\n",
      " 15  Cabin         891 non-null    object \n",
      " 16  Embarked      891 non-null    int64  \n",
      "dtypes: float64(4), int64(10), object(3)\n",
      "memory usage: 118.5+ KB\n",
      "None\n",
      "   Survived  Pclass   Title  \\\n",
      "0         0       3      Mr   \n",
      "1         1       1     Mrs   \n",
      "2         1       3    Miss   \n",
      "3         1       1     Mrs   \n",
      "4         0       3      Mr   \n",
      "5         0       3      Mr   \n",
      "6         0       1      Mr   \n",
      "7         0       3  Master   \n",
      "8         1       3     Mrs   \n",
      "9         1       2     Mrs   \n",
      "\n",
      "                                                Name  agebound  socialstatus  \\\n",
      "0                            Braund, Mr. Owen Harris         1             1   \n",
      "1  Cumings, Mrs. John Bradley (Florence Briggs Th...         1             1   \n",
      "2                             Heikkinen, Miss. Laina         1             1   \n",
      "3       Futrelle, Mrs. Jacques Heath (Lily May Peel)         1             1   \n",
      "4                           Allen, Mr. William Henry         1             1   \n",
      "5                                   Moran, Mr. James         1             1   \n",
      "6                            McCarthy, Mr. Timothy J         1             1   \n",
      "7                     Palsson, Master. Gosta Leonard         1             1   \n",
      "8  Johnson, Mrs. Oscar W (Elisabeth Vilhelmina Berg)         1             1   \n",
      "9                Nasser, Mrs. Nicholas (Adele Achem)         1             1   \n",
      "\n",
      "   Sex   Age  Age_edited  SibSp  Parch  SibSp_edited  Parch_edited     Fare  \\\n",
      "0    0  22.0   22.000000      1      0             1             0   7.2500   \n",
      "1    1  38.0   38.000000      1      0             1             0  71.2833   \n",
      "2    1  26.0   26.000000      0      0             0             0   7.9250   \n",
      "3    1  35.0   35.000000      1      0             1             0  53.1000   \n",
      "4    0  35.0   35.000000      0      0             0             0   8.0500   \n",
      "5    0   NaN   35.019639      0      0             0             0   8.4583   \n",
      "6    0  54.0   54.000000      0      0             0             0  51.8625   \n",
      "7    0   2.0    2.000000      3      1             1             1  21.0750   \n",
      "8    1  27.0   27.000000      0      2             0             1  11.1333   \n",
      "9    1  14.0   14.000000      1      0             1             0  30.0708   \n",
      "\n",
      "   Fare_edited Cabin  Embarked  \n",
      "0      3.62500     0         1  \n",
      "1     35.64165     1         2  \n",
      "2      7.92500     0         1  \n",
      "3     26.55000     1         1  \n",
      "4      8.05000     0         1  \n",
      "5      8.45830     0         3  \n",
      "6     51.86250     1         1  \n",
      "7      4.21500     0         1  \n",
      "8      3.71110     0         1  \n",
      "9     15.03540     0         2  \n"
     ]
    }
   ],
   "source": [
    "# id지우고 x_data csv 저장\n",
    "del x_data['PassengerId']\n",
    "\n",
    "x_data.to_csv('x_data_edited.csv', index= False)\n",
    "\n",
    "print(x_data.info())\n",
    "print(x_data.head(10))"
   ]
  },
  {
   "cell_type": "markdown",
   "metadata": {},
   "source": [
    "> titanic.csv 전처리 -> 공통 부분"
   ]
  },
  {
   "cell_type": "code",
   "execution_count": 21,
   "metadata": {},
   "outputs": [],
   "source": [
    "data_df = pd.read_csv('titanic.csv')\n",
    "data_df.head(3)\n",
    "age_data = pd.read_csv('x_data_edited.csv') # Age_edited\n",
    "age_data = age_data['Age_edited']\n",
    "\n",
    "y_data = data_df[['Survived']]\n",
    "\n",
    "del data_df['Survived']\n",
    "x_data = data_df.copy()\n",
    "\n",
    "del x_data['PassengerId']\n",
    "del x_data['Ticket']\n",
    "del x_data['Name']\n",
    "\n",
    "x_data['Fare'] = x_data['Fare'] / (data_df['SibSp'] + data_df['Parch'] + 1)  # Fare 열 처리\n",
    "\n",
    "x_data.loc[x_data['Sex'] == 'male', 'Sex'] = 1\n",
    "x_data.loc[x_data['Sex'] == 'female', 'Sex'] = 2\n",
    "\n",
    "x_data.loc[x_data['SibSp'] >= 1, 'SibSp'] = 1\n",
    "x_data.loc[x_data['Parch'] >= 1, 'Parch'] = 1\n",
    "\n",
    "x_data.loc[x_data['Cabin'].notnull(), 'Cabin'] = 1\n",
    "x_data.loc[x_data['Cabin'].isnull(), 'Cabin'] = 0\n",
    "\n",
    "x_data.loc[x_data['Embarked'].isnull(), 'Embarked'] = 'S'\n",
    "\n",
    "x_data.loc[x_data['Embarked'] == 'C', 'Embarked'] = 0\n",
    "x_data.loc[x_data['Embarked'] == 'S', 'Embarked'] = 1\n",
    "x_data.loc[x_data['Embarked'] == 'Q', 'Embarked'] = 2\n",
    "\n",
    "x_data['solo'] = (x_data['SibSp'] == 0) & (x_data['Parch'] == 0)\n",
    "x_data['solo'] = x_data['solo'].astype(int)\n",
    "\n",
    "x_data.drop(['SibSp', 'Parch'], axis = 1, inplace = True)"
   ]
  },
  {
   "cell_type": "code",
   "execution_count": 22,
   "metadata": {},
   "outputs": [],
   "source": [
    "x_data['Age'] = age_data"
   ]
  },
  {
   "cell_type": "code",
   "execution_count": 23,
   "metadata": {},
   "outputs": [
    {
     "data": {
      "text/html": [
       "<div>\n",
       "<style scoped>\n",
       "    .dataframe tbody tr th:only-of-type {\n",
       "        vertical-align: middle;\n",
       "    }\n",
       "\n",
       "    .dataframe tbody tr th {\n",
       "        vertical-align: top;\n",
       "    }\n",
       "\n",
       "    .dataframe thead th {\n",
       "        text-align: right;\n",
       "    }\n",
       "</style>\n",
       "<table border=\"1\" class=\"dataframe\">\n",
       "  <thead>\n",
       "    <tr style=\"text-align: right;\">\n",
       "      <th></th>\n",
       "      <th>Pclass</th>\n",
       "      <th>Sex</th>\n",
       "      <th>Age</th>\n",
       "      <th>Fare</th>\n",
       "      <th>Cabin</th>\n",
       "      <th>Embarked</th>\n",
       "      <th>solo</th>\n",
       "    </tr>\n",
       "  </thead>\n",
       "  <tbody>\n",
       "    <tr>\n",
       "      <th>0</th>\n",
       "      <td>3</td>\n",
       "      <td>1</td>\n",
       "      <td>22.000000</td>\n",
       "      <td>3.62500</td>\n",
       "      <td>0</td>\n",
       "      <td>1</td>\n",
       "      <td>0</td>\n",
       "    </tr>\n",
       "    <tr>\n",
       "      <th>1</th>\n",
       "      <td>1</td>\n",
       "      <td>2</td>\n",
       "      <td>38.000000</td>\n",
       "      <td>35.64165</td>\n",
       "      <td>1</td>\n",
       "      <td>0</td>\n",
       "      <td>0</td>\n",
       "    </tr>\n",
       "    <tr>\n",
       "      <th>2</th>\n",
       "      <td>3</td>\n",
       "      <td>2</td>\n",
       "      <td>26.000000</td>\n",
       "      <td>7.92500</td>\n",
       "      <td>0</td>\n",
       "      <td>1</td>\n",
       "      <td>1</td>\n",
       "    </tr>\n",
       "    <tr>\n",
       "      <th>3</th>\n",
       "      <td>1</td>\n",
       "      <td>2</td>\n",
       "      <td>35.000000</td>\n",
       "      <td>26.55000</td>\n",
       "      <td>1</td>\n",
       "      <td>1</td>\n",
       "      <td>0</td>\n",
       "    </tr>\n",
       "    <tr>\n",
       "      <th>4</th>\n",
       "      <td>3</td>\n",
       "      <td>1</td>\n",
       "      <td>35.000000</td>\n",
       "      <td>8.05000</td>\n",
       "      <td>0</td>\n",
       "      <td>1</td>\n",
       "      <td>1</td>\n",
       "    </tr>\n",
       "    <tr>\n",
       "      <th>...</th>\n",
       "      <td>...</td>\n",
       "      <td>...</td>\n",
       "      <td>...</td>\n",
       "      <td>...</td>\n",
       "      <td>...</td>\n",
       "      <td>...</td>\n",
       "      <td>...</td>\n",
       "    </tr>\n",
       "    <tr>\n",
       "      <th>886</th>\n",
       "      <td>2</td>\n",
       "      <td>1</td>\n",
       "      <td>27.000000</td>\n",
       "      <td>13.00000</td>\n",
       "      <td>0</td>\n",
       "      <td>1</td>\n",
       "      <td>1</td>\n",
       "    </tr>\n",
       "    <tr>\n",
       "      <th>887</th>\n",
       "      <td>1</td>\n",
       "      <td>2</td>\n",
       "      <td>19.000000</td>\n",
       "      <td>30.00000</td>\n",
       "      <td>1</td>\n",
       "      <td>1</td>\n",
       "      <td>1</td>\n",
       "    </tr>\n",
       "    <tr>\n",
       "      <th>888</th>\n",
       "      <td>3</td>\n",
       "      <td>2</td>\n",
       "      <td>26.123693</td>\n",
       "      <td>5.86250</td>\n",
       "      <td>0</td>\n",
       "      <td>1</td>\n",
       "      <td>0</td>\n",
       "    </tr>\n",
       "    <tr>\n",
       "      <th>889</th>\n",
       "      <td>1</td>\n",
       "      <td>1</td>\n",
       "      <td>26.000000</td>\n",
       "      <td>30.00000</td>\n",
       "      <td>1</td>\n",
       "      <td>0</td>\n",
       "      <td>1</td>\n",
       "    </tr>\n",
       "    <tr>\n",
       "      <th>890</th>\n",
       "      <td>3</td>\n",
       "      <td>1</td>\n",
       "      <td>32.000000</td>\n",
       "      <td>7.75000</td>\n",
       "      <td>0</td>\n",
       "      <td>2</td>\n",
       "      <td>1</td>\n",
       "    </tr>\n",
       "  </tbody>\n",
       "</table>\n",
       "<p>891 rows × 7 columns</p>\n",
       "</div>"
      ],
      "text/plain": [
       "     Pclass Sex        Age      Fare Cabin Embarked  solo\n",
       "0         3   1  22.000000   3.62500     0        1     0\n",
       "1         1   2  38.000000  35.64165     1        0     0\n",
       "2         3   2  26.000000   7.92500     0        1     1\n",
       "3         1   2  35.000000  26.55000     1        1     0\n",
       "4         3   1  35.000000   8.05000     0        1     1\n",
       "..      ...  ..        ...       ...   ...      ...   ...\n",
       "886       2   1  27.000000  13.00000     0        1     1\n",
       "887       1   2  19.000000  30.00000     1        1     1\n",
       "888       3   2  26.123693   5.86250     0        1     0\n",
       "889       1   1  26.000000  30.00000     1        0     1\n",
       "890       3   1  32.000000   7.75000     0        2     1\n",
       "\n",
       "[891 rows x 7 columns]"
      ]
     },
     "execution_count": 23,
     "metadata": {},
     "output_type": "execute_result"
    }
   ],
   "source": [
    "x_data"
   ]
  },
  {
   "cell_type": "code",
   "execution_count": 24,
   "metadata": {},
   "outputs": [],
   "source": [
    "x_data.to_csv('Data_Age_fit2.csv')"
   ]
  },
  {
   "cell_type": "code",
   "execution_count": 25,
   "metadata": {},
   "outputs": [],
   "source": [
    "x_train, x_test, y_train, y_test = model_selection.train_test_split(x_data, \n",
    "                                                                    y_data, \n",
    "                                                                    test_size=0.2, \n",
    "                                                                    random_state=0)"
   ]
  },
  {
   "cell_type": "code",
   "execution_count": 26,
   "metadata": {},
   "outputs": [],
   "source": [
    "numeric_features = ['Age', 'Fare']\n",
    "numeric_transformer = StandardScaler() # cf) RobustScaler\n",
    "\n",
    "categorical_features = ['Pclass', 'Sex', 'Cabin', 'Embarked', 'solo']\n",
    "categorical_transformer = OneHotEncoder(categories='auto') # categories='auto' : just for ignoring warning messages\n",
    "\n",
    "preprocessor = ColumnTransformer(\n",
    "    transformers = [ ('num', numeric_transformer, numeric_features),\n",
    "        ('cat', categorical_transformer, categorical_features)])\n",
    "\n",
    "\n",
    "# transformers=[\n",
    "#         ('cat', categorical_transformer, categorical_features),\n",
    "#         ('pass_through', 'passthrough', numeric_features)]\n",
    "\n",
    "preprocessor_pipe = Pipeline(steps=[('preprocessor', preprocessor)])\n",
    "\n",
    "preprocessor_pipe.fit(x_train)\n",
    "\n",
    "x_train_transformed = preprocessor_pipe.transform(x_train)\n",
    "x_test_transformed = preprocessor_pipe.transform(x_test)\n",
    "\n",
    "# 데이터 정리 : [Pclass, Sex, Age, Fare, Cabin, Embarked, solo] :\n",
    "# 1. 더미 변수는 숫자로 전처리됨\n",
    "# 2. Age 열의 결측값은 이름 / 성으로 추정되었음.\n",
    "# 3. Fare 열은 동시 탑승객 수로 나눠졌음.\n",
    "# 4. 선실 열은 값이 있음 / 없음으로 나누어 졌음.\n",
    "# 5. solo 열은 SibSp, Parch(열)의 '유무'로 나누어 졌음."
   ]
  },
  {
   "cell_type": "markdown",
   "metadata": {},
   "source": [
    "> 로지스틱 회귀"
   ]
  },
  {
   "cell_type": "code",
   "execution_count": 27,
   "metadata": {},
   "outputs": [
    {
     "name": "stdout",
     "output_type": "stream",
     "text": [
      "훈련 셋 Accuracy:  0.8033707865168539\n",
      "테스트 셋 Accuracy:  0.8100558659217877\n",
      "Roc_AUC :  0.8640316205533596\n"
     ]
    },
    {
     "data": {
      "image/png": "[encoded data removed]",
      "text/plain": [
       "<Figure size 720x720 with 1 Axes>"
      ]
     },
     "metadata": {
      "needs_background": "light"
     },
     "output_type": "display_data"
    }
   ],
   "source": [
    "model_logistic = linear_model.LogisticRegression()\n",
    "\n",
    "model_logistic.fit(x_train_transformed, y_train)\n",
    "\n",
    "print('훈련 셋 Accuracy: ', accuracy_score(model_logistic.predict(x_train_transformed), y_train))\n",
    "print('테스트 셋 Accuracy: ', accuracy_score(model_logistic.predict(x_test_transformed), y_test))\n",
    "\n",
    "pred_train = model_logistic.predict_proba(x_test_transformed)\n",
    "\n",
    "fpr, tpr, _ = roc_curve(y_true=y_test, y_score=pred_train[:,1])\n",
    "roc_auc = auc(fpr, tpr)\n",
    "print('Roc_AUC : ', roc_auc)    # 0.8640316205533596\n",
    "\n",
    "plt.figure(figsize=(10, 10))\n",
    "\n",
    "plt.plot(fpr, tpr, color='darkorange', lw=2, label='ROC curve (area = %0.2f)' % roc_auc)\n",
    "plt.plot([0, 1], [0, 1], color='navy', lw=2, linestyle='--')\n",
    "\n",
    "plt.xlim([0.0, 1.0])\n",
    "plt.ylim([0.0, 1.05])\n",
    "plt.xlabel('False Positive Rate')\n",
    "plt.ylabel('True Positive Rate')\n",
    "plt.legend(loc=\"lower right\")\n",
    "plt.title(\"ROC curve\")\n",
    "\n",
    "plt.show()\n",
    "\n",
    "# 디폴트 값으로 바로 넣어서 모델링 한것 -> 성능의 한계가 명확할 것이라는 직관으로 그냥 했음\n",
    "# ROC_AUC : FPR 0 수준에서 TPR 0.5 정도 ... 또한 특정 구간에서의 TPR 성능이 아주 떨어짐"
   ]
  },
  {
   "cell_type": "markdown",
   "metadata": {},
   "source": [
    "> K-means"
   ]
  },
  {
   "cell_type": "code",
   "execution_count": 28,
   "metadata": {},
   "outputs": [],
   "source": [
    "x_train_for_k = x_train.copy()\n",
    "x_test_for_k = x_test.copy()\n",
    "\n",
    "x_train_for_k.drop('Embarked', axis = 1 , inplace = True)\n",
    "x_test_for_k.drop('Embarked', axis = 1 , inplace = True)"
   ]
  },
  {
   "cell_type": "code",
   "execution_count": 29,
   "metadata": {},
   "outputs": [
    {
     "data": {
      "text/plain": [
       "KMeans(n_clusters=2, random_state=0)"
      ]
     },
     "execution_count": 29,
     "metadata": {},
     "output_type": "execute_result"
    }
   ],
   "source": [
    "kmeans = cluster.KMeans(n_clusters=2, random_state=0).fit(x_train_for_k) \n",
    "kmeans"
   ]
  },
  {
   "cell_type": "code",
   "execution_count": 30,
   "metadata": {},
   "outputs": [
    {
     "data": {
      "image/png": "[encoded data removed]",
      "text/plain": [
       "<Figure size 432x288 with 1 Axes>"
      ]
     },
     "metadata": {
      "needs_background": "light"
     },
     "output_type": "display_data"
    }
   ],
   "source": [
    "def elbow(X):\n",
    "    total_distance = []\n",
    "    for i in range(1, 11):\n",
    "        model = cluster.KMeans(n_clusters=i, random_state=0)\n",
    "        model.fit(X)\n",
    "        \n",
    "        # inertia : Sum of squared distances of samples to their closest cluster center.\n",
    "        total_distance.append(model.inertia_) \n",
    "        \n",
    "    plt.plot(range(1, 11), total_distance, marker='o')\n",
    "    plt.xlabel('# of clusters')\n",
    "    plt.ylabel('Total distance (SSE)')\n",
    "    plt.show()\n",
    "\n",
    "elbow(x_train_for_k)"
   ]
  },
  {
   "cell_type": "code",
   "execution_count": 31,
   "metadata": {},
   "outputs": [
    {
     "name": "stdout",
     "output_type": "stream",
     "text": [
      "The average of silhouette coefficients is : 0.8719553779142752\n",
      "accuracy score:  0.625\n"
     ]
    }
   ],
   "source": [
    "y_fitted = kmeans.predict(x_train_for_k)\n",
    "\n",
    "silhouette_avg = silhouette_score(x_train_for_k, y_fitted)\n",
    "\n",
    "print(\"The average of silhouette coefficients is :\", silhouette_avg)\n",
    "\n",
    "print('accuracy score: ', accuracy_score(y_fitted, y_train))"
   ]
  },
  {
   "cell_type": "code",
   "execution_count": 32,
   "metadata": {},
   "outputs": [
    {
     "name": "stdout",
     "output_type": "stream",
     "text": [
      "The average of silhouette coefficients is : 0.8185895155595662\n",
      "accuracy score:  0.6312849162011173\n"
     ]
    }
   ],
   "source": [
    "# kmeans = cluster.KMeans(n_clusters=2, random_state=0).fit(t_X) \n",
    "# kmeans\n",
    "\n",
    "y_fitted = kmeans.predict(x_test_for_k)\n",
    "\n",
    "silhouette_avg = silhouette_score(x_test_for_k, y_fitted)\n",
    "\n",
    "print(\"The average of silhouette coefficients is :\", silhouette_avg)\n",
    "\n",
    "print('accuracy score: ', accuracy_score(y_fitted, y_test))"
   ]
  },
  {
   "cell_type": "markdown",
   "metadata": {},
   "source": [
    "> GBM"
   ]
  },
  {
   "cell_type": "code",
   "execution_count": 33,
   "metadata": {},
   "outputs": [
    {
     "name": "stdout",
     "output_type": "stream",
     "text": [
      "Classification Report_Train\n",
      "              precision    recall  f1-score   support\n",
      "\n",
      "     class 0       0.93      0.98      0.95       439\n",
      "     class 1       0.96      0.89      0.92       273\n",
      "\n",
      "    accuracy                           0.94       712\n",
      "   macro avg       0.95      0.93      0.94       712\n",
      "weighted avg       0.94      0.94      0.94       712\n",
      "\n",
      "Classification Report_Test\n",
      "              precision    recall  f1-score   support\n",
      "\n",
      "     class 0       0.83      0.93      0.88       110\n",
      "     class 1       0.86      0.70      0.77        69\n",
      "\n",
      "    accuracy                           0.84       179\n",
      "   macro avg       0.84      0.81      0.82       179\n",
      "weighted avg       0.84      0.84      0.83       179\n",
      "\n",
      "Accuracy on Training set:  0.9424157303370787\n",
      "Accuracy on Test set:  0.8379888268156425\n"
     ]
    }
   ],
   "source": [
    "params = {'n_estimators': 2500,\n",
    "          'max_depth': 3,\n",
    "          'min_samples_split': 5,\n",
    "          'learning_rate': 0.01,\n",
    "         'random_state':0}\n",
    "\n",
    "model = GradientBoostingClassifier(**params)\n",
    "model.fit(x_train_transformed, y_train)\n",
    "\n",
    "\n",
    "print(\"Classification Report_Train\")\n",
    "print(classification_report(y_train, model.predict(x_train_transformed),target_names=['class 0', 'class 1']))\n",
    "\n",
    "print(\"Classification Report_Test\")\n",
    "print(classification_report(y_test, model.predict(x_test_transformed),target_names=['class 0', 'class 1']))\n",
    "\n",
    "print('Accuracy on Training set: ',accuracy_score(model.predict(x_train_transformed), y_train))\n",
    "print('Accuracy on Test set: ', accuracy_score(model.predict(x_test_transformed),y_test))\n",
    "\n",
    "\n",
    "# Accuracy on Training set:  0.9375780274656679\n",
    "# Accuracy on Test set:  0.9\n",
    "\n"
   ]
  },
  {
   "cell_type": "markdown",
   "metadata": {},
   "source": [
    "precision(정밀도) : 0.94\n",
    "- 생존한다고 예측한 표본 중 실제 생존 표본 속하는 비율\n",
    "recall(재현율) : 0.82\n",
    "- 실제 생존한 표본 중에 생존한다고 예측한 표본의 수의 비율\n",
    "accuracy\n",
    "- train : 0.94\n",
    "- test : 0.90"
   ]
  },
  {
   "cell_type": "code",
   "execution_count": 34,
   "metadata": {},
   "outputs": [
    {
     "data": {
      "image/png": "[encoded data removed]",
      "text/plain": [
       "<Figure size 864x432 with 1 Axes>"
      ]
     },
     "metadata": {
      "needs_background": "light"
     },
     "output_type": "display_data"
    }
   ],
   "source": [
    "train_score = np.zeros((params['n_estimators'],), dtype=np.float64)\n",
    "for i, y_pred in enumerate(model.staged_predict(x_train_transformed)):\n",
    "    train_score[i] = accuracy_score(y_train, y_pred)\n",
    "\n",
    "test_score = np.zeros((params['n_estimators'],), dtype=np.float64)\n",
    "for i, y_pred in enumerate(model.staged_predict(x_test_transformed)):\n",
    "    test_score[i] = accuracy_score(y_test, y_pred)\n",
    "    \n",
    "fig = plt.figure(figsize=(12, 6))\n",
    "plt.subplot(1, 1, 1)\n",
    "plt.title('Accuracy') # Binomial deviance loss function for binary classification\n",
    "plt.plot(np.arange(params['n_estimators']) + 1, train_score, 'b-', label='Training Set Accuracy')\n",
    "plt.plot(np.arange(params['n_estimators']) + 1, test_score, 'r-', label='Test Set Accuracy')\n",
    "plt.legend(loc='lower right')\n",
    "plt.xlabel('Boosting Iterations')\n",
    "plt.ylabel('Accuracy')\n",
    "fig.tight_layout()\n",
    "plt.show()"
   ]
  },
  {
   "cell_type": "code",
   "execution_count": 35,
   "metadata": {},
   "outputs": [
    {
     "name": "stdout",
     "output_type": "stream",
     "text": [
      "roc_auc :  0.8792490118577075\n"
     ]
    },
    {
     "data": {
      "image/png": "[encoded data removed]",
      "text/plain": [
       "<Figure size 720x720 with 1 Axes>"
      ]
     },
     "metadata": {
      "needs_background": "light"
     },
     "output_type": "display_data"
    }
   ],
   "source": [
    "fpr, tpr, _ = roc_curve(y_true=y_test, y_score=model.predict_proba(x_test_transformed)[:,1])\n",
    "roc_auc = auc(fpr, tpr) # AUC 면적의 값 (수치)\n",
    "print('roc_auc : ', roc_auc)\n",
    "plt.figure(figsize=(10, 10))\n",
    "plt.plot(fpr, tpr, color='darkorange', lw=2, label='ROC curve (area = %0.2f)' % roc_auc)\n",
    "plt.plot([0, 1], [0, 1], color='navy', lw=2, linestyle='--')\n",
    "\n",
    "plt.xlim([0.0, 1.0])\n",
    "plt.ylim([0.0, 1.05])\n",
    "plt.xlabel('False Positive Rate')\n",
    "plt.ylabel('True Positive Rate')\n",
    "plt.legend(loc=\"lower right\")\n",
    "plt.title(\"ROC curve\")\n",
    "plt.show()"
   ]
  },
  {
   "cell_type": "code",
   "execution_count": 37,
   "metadata": {},
   "outputs": [],
   "source": [
    "param_grid = { \"n_estimators\": range(1000,2600,100), \n",
    "              \"max_depth\": [3], \n",
    "              \"learning_rate\": [0.001, 0.01],\n",
    "              'min_samples_split': [3,5,10], \n",
    "              }\n",
    "\n",
    "grid = GridSearchCV(model, param_grid, refit=True, verbose=2)\n",
    "\n",
    "grid.fit(x_train_transformed, y_train)\n",
    "\n",
    "print('The best parameters are ', grid.best_params_)\n",
    "\n",
    "grid_predictions = grid.predict(x_test_transformed)\n",
    "print(classification_report(y_test, grid_predictions))\n",
    "print('Accuracy on Training set: ',accuracy_score(grid.predict(x_train_transformed), y_train))\n",
    "print('Accuracy on Test set: ', accuracy_score(grid.predict(x_test_transformed),y_test))\n",
    "\n",
    "fpr, tpr, _ = roc_curve(y_true=y_test, y_score=grid.predict_proba(x_test_transformed)[:,1]) # real y & predicted y (based on \"Sepal width\")\n",
    "roc_auc = auc(fpr, tpr) # AUC 면적의 값 (수치)\n",
    "\n",
    "plt.figure(figsize=(10, 10))\n",
    "plt.plot(fpr, tpr, color='darkorange', lw=2, label='ROC curve (area = %0.2f)' % roc_auc)\n",
    "plt.plot([0, 1], [0, 1], color='navy', lw=2, linestyle='--')\n",
    "\n",
    "plt.xlim([0.0, 1.0])\n",
    "plt.ylim([0.0, 1.05])\n",
    "plt.xlabel('False Positive Rate')\n",
    "plt.ylabel('True Positive Rate')\n",
    "plt.legend(loc=\"lower right\")\n",
    "plt.title(\"ROC curve\")\n",
    "plt.show()"
   ]
  },
  {
   "cell_type": "markdown",
   "metadata": {},
   "source": [
    "> SVM"
   ]
  },
  {
   "cell_type": "code",
   "execution_count": 38,
   "metadata": {},
   "outputs": [
    {
     "name": "stdout",
     "output_type": "stream",
     "text": [
      "     Survived  Pclass  Title   Name  agebound  socialstatus    Sex    Age  \\\n",
      "0       False   False  False  False     False         False  False  False   \n",
      "1       False   False  False  False     False         False  False  False   \n",
      "2       False   False  False  False     False         False  False  False   \n",
      "3       False   False  False  False     False         False  False  False   \n",
      "4       False   False  False  False     False         False  False  False   \n",
      "..        ...     ...    ...    ...       ...           ...    ...    ...   \n",
      "886     False   False  False  False     False         False  False  False   \n",
      "887     False   False  False  False     False         False  False  False   \n",
      "888     False   False  False  False     False         False  False   True   \n",
      "889     False   False  False  False     False         False  False  False   \n",
      "890     False   False  False  False     False         False  False  False   \n",
      "\n",
      "     Age_edited  SibSp  Parch  SibSp_edited  Parch_edited   Fare  Fare_edited  \\\n",
      "0         False  False  False         False         False  False        False   \n",
      "1         False  False  False         False         False  False        False   \n",
      "2         False  False  False         False         False  False        False   \n",
      "3         False  False  False         False         False  False        False   \n",
      "4         False  False  False         False         False  False        False   \n",
      "..          ...    ...    ...           ...           ...    ...          ...   \n",
      "886       False  False  False         False         False  False        False   \n",
      "887       False  False  False         False         False  False        False   \n",
      "888       False  False  False         False         False  False        False   \n",
      "889       False  False  False         False         False  False        False   \n",
      "890       False  False  False         False         False  False        False   \n",
      "\n",
      "     Cabin  Embarked  \n",
      "0    False     False  \n",
      "1    False     False  \n",
      "2    False     False  \n",
      "3    False     False  \n",
      "4    False     False  \n",
      "..     ...       ...  \n",
      "886  False     False  \n",
      "887  False     False  \n",
      "888  False     False  \n",
      "889  False     False  \n",
      "890  False     False  \n",
      "\n",
      "[891 rows x 17 columns]\n",
      "Survived          0\n",
      "Pclass            0\n",
      "Title             0\n",
      "Name              0\n",
      "agebound          0\n",
      "socialstatus      0\n",
      "Sex               0\n",
      "Age             177\n",
      "Age_edited        0\n",
      "SibSp             0\n",
      "Parch             0\n",
      "SibSp_edited      0\n",
      "Parch_edited      0\n",
      "Fare              0\n",
      "Fare_edited       0\n",
      "Cabin             0\n",
      "Embarked          0\n",
      "dtype: int64\n",
      "0.7988826815642458\n"
     ]
    }
   ],
   "source": [
    "df_na = pd.read_csv('x_data_edited.csv')\n",
    "\n",
    "print(pd.isnull(df_na))\n",
    "print(df_na.isnull().sum())\n",
    "df_na.head(30)\n",
    "\n",
    "standard_scaler = StandardScaler() \n",
    "#######\n",
    "# 선빈님 csv\n",
    "# df_sb = pd.read_csv('Data_Age_fit_survived.csv')\n",
    "#######\n",
    "# 나리님 csv\n",
    "df_na = pd.read_csv('x_data_edited.csv')\n",
    "\n",
    "train_data = df_na[['Pclass', 'agebound', 'socialstatus', 'Sex','Age_edited','SibSp_edited','Parch_edited','Fare_edited','Cabin','Embarked']]\n",
    "#title, name, age, sibsp, parch, far 제외\n",
    "target = df_na['Survived']\n",
    "\n",
    "# 학습 , 평가 8 : 2\n",
    "X_train, X_test, y_train, y_test = model_selection.train_test_split(train_data, target, test_size=0.2,random_state=0)\n",
    "\n",
    "#스케일링,정규화\n",
    "sc = StandardScaler() \n",
    "sc.fit(X_train) \n",
    "X_train_std=sc.transform(X_train) \n",
    "X_test_std=sc.transform(X_test) \n",
    "X_combined_std=np.vstack((X_train_std,X_test_std)) \n",
    "Y_combined_std=np.hstack((y_train,y_test))  \n",
    "        \n",
    "## 선형 커널 (선형 분리) 선형이므로 Cost와 gamma 파라미터가 없다.\n",
    "# model=SVC(kernel='linear')  \n",
    "                                                                # 스케일링 전 0.7877094972067039 \n",
    "                                                                # 스케일링 후 0.7877094972067039\n",
    "\n",
    "## 다항 커널\n",
    "# model=SVC(kernel='poly', random_state=0,gamma=10,C=1) \n",
    "                                                                # 스케일링 전 : jupyter 1시간 지나도 무반응..\n",
    "                                                                # 스케일링 후 0.8100558659217877\n",
    "\n",
    "# ## 가우시안 커널 = RBF커널 (비선형 분리)\n",
    "# model=SVC(kernel='rbf',random_state=0,gamma=0.001,C=100)\n",
    "model=SVC(kernel='rbf',random_state=0,gamma=0.1,C=1)\n",
    "\n",
    "                                                                # 스케일링 전 0.8100558659217877 \n",
    "                                                                # 스케일링 후 0.7877094972067039\n",
    "        \n",
    "model.fit(X_train_std, y_train)\n",
    "model.score(X_test_std, y_test)\n",
    "accuracy = model.score(X_test_std,y_test)\n",
    "print(accuracy)\n",
    "\n",
    "#과거 데이터\n",
    "# sb 0.6745230078563412\n",
    "# + survived 0.6846240179573513\n",
    "# + Age 0.6879910213243546"
   ]
  },
  {
   "cell_type": "code",
   "execution_count": 39,
   "metadata": {},
   "outputs": [
    {
     "name": "stdout",
     "output_type": "stream",
     "text": [
      "              precision    recall  f1-score   support\n",
      "\n",
      "           0       0.80      0.89      0.84       110\n",
      "           1       0.79      0.65      0.71        69\n",
      "\n",
      "    accuracy                           0.80       179\n",
      "   macro avg       0.80      0.77      0.78       179\n",
      "weighted avg       0.80      0.80      0.79       179\n",
      "\n",
      "[[98 12]\n",
      " [24 45]]\n"
     ]
    }
   ],
   "source": [
    "# 모델 성능 평가 지표, 혼동 행렬\n",
    "\n",
    "\n",
    "from sklearn import metrics\n",
    "from sklearn.metrics import classification_report\n",
    "\n",
    "# 예측값 y_pred\n",
    "y_pred= model.predict(X_test_std)\n",
    "# print(y_pred)                # 10개 확인\n",
    "# print(y_pred[0:10])         #[0 0 0 1 0 0 1 1 1 0] \n",
    "# print(y_test.values[0:10]) #[0 0 0 1 1 1 1 1 1 1] (7개 일치)\n",
    "\n",
    "print(classification_report(y_test, y_pred))\n",
    "\n",
    "svm_matrix = metrics.confusion_matrix(y_test, y_pred) \n",
    "print(svm_matrix)"
   ]
  },
  {
   "cell_type": "markdown",
   "metadata": {},
   "source": [
    "### 평가 지표 해석\n",
    "Precision : 정밀도 예측값 기준으로 정답인 예측값의 비율\n",
    "Precision = TP/(TP + FP)\n",
    "\n",
    "Recall : 재현율 실제값 기준으로 정답인 예측값의 비율\n",
    "- Recall = TP/(TP+FN)\n",
    "\n",
    "Accuracy : 정확도, 샘플 중 맞게 예측한 샘플 수의 비율\n",
    "- Accuracy : (TP+TN) / all\n",
    "\n",
    "F1-score : precision과 recall의 가중 조화평균 (단순평균 0.63 가중평균 0.66)\n",
    "- F1 Score = 2*(Recall * Precision) / (Recall + Precision)\n",
    "\n",
    "Support 각 라벨의 실제 샘플 수\n",
    "\n",
    "Macro avg : 평균의 평균, 단순평균\n",
    "- (normal+abnormal) /2 * precision or recall or f1 score\n",
    "\n",
    "Weighted avg : 각 클래스에 속하는 표본의 개수로 가중 평균을 내서 계산하는 방법, 샘플 개수의 불균형을 고려\n",
    "- weighted avg = normal/(normal+abnormal)  *  precision or recall or f1 score\n"
   ]
  },
  {
   "cell_type": "code",
   "execution_count": 40,
   "metadata": {},
   "outputs": [
    {
     "name": "stdout",
     "output_type": "stream",
     "text": [
      "0.8100558659217877\n"
     ]
    }
   ],
   "source": [
    "# 혼동 행렬 해석\n",
    "\n",
    "# [[96 14]\n",
    "#  [20 49]]\n",
    "\n",
    "# TP : 사망 분류                96명     실제 사망, 예측 결과 사망\n",
    "# FP : 생존 - > 사망 오분류     20       실제 생존, 예측 결과 사망\n",
    "# FN : 사망 -> 생존 오분류      14       실제 사망, 예측 결과 생존\n",
    "# TN : 생존 분류                49       실제 생존, 예측 결과 생존\n",
    "\n",
    "print(145 / 179)\n",
    "\n"
   ]
  },
  {
   "cell_type": "code",
   "execution_count": 41,
   "metadata": {},
   "outputs": [
    {
     "name": "stdout",
     "output_type": "stream",
     "text": [
      "테스트 세트 점수: 0.80\n",
      "최적 매개변수: {'C': 1, 'gamma': 0.1}\n",
      "최고 교차 검증 점수: 0.82\n"
     ]
    }
   ],
   "source": [
    "# 가우시안 커널 = RBF커널 (비선형 분리), SVM 모델 - SVC \n",
    "# Grid search : 최적의 하이퍼 파라미터 찾기\n",
    "\n",
    "param_grid = {'C': [0.001, 0.01, 0.1, 1, 10, 100],\n",
    "             'gamma': [0.001, 0.01, 0.1, 1, 10, 100] } #하이퍼파라미터 그리드를 담은 딕셔너리\n",
    "\n",
    "grid_search = GridSearchCV(model, param_grid, cv=5, return_train_score=True)\n",
    "# cv : C와 gamma 파라미터 쌍을 모델링할 때, train, test에 대해 진행할 교차 검증 횟수\n",
    "# refit=True : 최적의 파라미터로 학습시킴\n",
    "# return_train_score=True : 해당 매개변수는 훈련 폴드의 점수를 받을지 여부를 설정하는 변수.\n",
    "# cross_val_score와 다르게 테스트 폴드 점수뿐 아니라 훈련 폴드에 대한 점수를 리턴 받을 수 있다.\n",
    "\n",
    "grid_search.fit(X_train_std, y_train)\n",
    "test_score = grid_search.score(X_test_std, y_test)\n",
    "\n",
    "print(\"테스트 세트 점수: {:.2f}\".format( test_score ))\n",
    "print(\"최적 매개변수: {}\".format(grid_search.best_params_))\n",
    "print(\"최고 교차 검증 점수: {:.2f}\".format(grid_search.best_score_))"
   ]
  },
  {
   "cell_type": "code",
   "execution_count": null,
   "metadata": {},
   "outputs": [],
   "source": [
    "# # SVC 데이터 확인을 위해 시각화 시도\n",
    "\n",
    "# accuracy = round(model.score(train_data, target) * 100,2)\n",
    "# print(\"Accuracy : \", accuracy, \"%\")\n",
    "# from sklearn.datasets import make_circles\n",
    "# import matplotlib.pyplot as plt\n",
    "# # from matplotlib.pyplot import Color\n",
    "\n",
    "# train_data, target = make_circles(factor=0.5, noise=0.1) # factor = R1/R2 , nosie :svd\n",
    "# # print(train_data.shape,target)\n",
    "# plt.scatter(train_data[:,0], train_data[:,1],c=target, cmap='coolwarm') #c = color cmap = colormap\n",
    "# plt.colorbar(shrink=0.7)"
   ]
  },
  {
   "cell_type": "code",
   "execution_count": null,
   "metadata": {},
   "outputs": [],
   "source": [
    "# # 파이프라인을 사용한 전처리 시도\n",
    "\n",
    "# from sklearn.model_selection import train_test_split\n",
    "# from sklearn.pipeline import Pipeline\n",
    "# import numpy as np\n",
    "# from sklearn.metrics import mean_squared_error\n",
    "# from sklearn.impute import SimpleImputer\n",
    "\n",
    "\n",
    "# # X_train, X_test, y_train, y_test = train_test_split(train_data, target, test_size=0.2, random_state=0)\n",
    "\n",
    "# #StandardScaler 수치형 변수 스케일링 - Standardization 표준화\n",
    "\n",
    "# # pipeline = Pipeline([ ('imputer', SimpleImputer(strategy=\"median\")), ('attribs_adder', CombinedAttributesAdder()), ('std_scaler', StandardScaler()), ])\n",
    "# pipeline = Pipeline([ ('imputer', SimpleImputer(strategy=\"median\")), ('std_scaler', StandardScaler()), ])\n",
    "\n",
    "# X_train = pipeline.fit_transform(X_train)\n",
    "\n",
    "\n",
    "\n",
    "# # model.fit(X_train, y_train)\n",
    "# # 모델 테스트세트 예측\n",
    "# # X_test = pipeline.transform(X_test)\n",
    "# # y_pred = model.predict(X_test)\n",
    "\n",
    "# # 모델 평가: MSE, RMSE 평가 기준 값.\n",
    "# # mse = mean_squared_error(y_test, y_pred)\n",
    "# # rmse = np.sqrt(mse)\n",
    "\n",
    "\n",
    "# # 파이프 라인 시도 2\n",
    "# from sklearn.compose import ColumnTransformer\n",
    "# from sklearn.pipeline import Pipeline\n",
    "\n",
    "# num_pipeline = []\n",
    "# cat_pipeline=()\n",
    "# num_train = X_train.select_dtypes(include='number').columns.to_list()\n",
    "# cat_train = X_train.select_dtypes(include='object').columns.to_list()\n",
    "# preprocessor = ColumnTransformer(transformers=[('numeric', num_pipeline, num_train),\n",
    "#                                               ('categorical', cat_pipeline, cat_train)],remainder='drop')"
   ]
  },
  {
   "cell_type": "code",
   "execution_count": null,
   "metadata": {},
   "outputs": [],
   "source": [
    "# # pipeline try 3\n",
    "# # columns 수치형, 범주화 조율 시도\n",
    "# import seaborn as sns\n",
    "# import matplotlib.pyplot as plt\n",
    "\n",
    "# #수치형 : Age_edited, SibSp, Parch, SibSp_edited, Parch_edited\n",
    "# #범주화 : Pcalss, Title(→socialstatus), Sex, Fare(Fare_edited), Cabin, Embarked, (agebound)\n",
    "# #제외 : Name, Age(결측값 보존됨)\n",
    "\n",
    "\n",
    "# # 연속,범주형 데이터 분류\n",
    "# # conti = ['Fare','Age_edited','SibSp_edited', 'Parch_edited']\n",
    "# # categ = ['Pclass','Title','socialstatus','Sex','Fare','Cabin','Embarked','agebound','SibSp', 'Parch',]\n",
    "# # conti = [,','Parch_edited','socialstatus']\n",
    "# # categ = ['',]SibSp_edited Parch_edited\n",
    "\n",
    "# conti = ['Pclass','Sex','SibSp','Parch']\n",
    "# categ = ['Fare','Age_edited','Embarked','Cabin']\n",
    "\n",
    "# # 분포\n",
    "# fig = plt.figure(figsize=(15,15))\n",
    "\n",
    "# for i in range(0,len(categ)):\n",
    "#     fig.add_subplot(3,3,i+1)\n",
    "#     sns.countplot(x=categ[i], data=df_na)\n",
    "\n",
    "# for col in conti:\n",
    "#     fig.add_subplot(3,3,i+2)\n",
    "#     sns.distplot(df_na[col].dropna());\n",
    "#     i += 1\n",
    "# plt.show()\n",
    "# fig.clear()"
   ]
  },
  {
   "cell_type": "code",
   "execution_count": null,
   "metadata": {},
   "outputs": [],
   "source": [
    "# ## 수치형 변수들 스케일링 해주기 - Standardization 표준화\n",
    "# # 스케일링 시도\n",
    "# from sklearn.datasets import load_iris\n",
    "# from sklearn.preprocessing import StandardScaler\n",
    "# from sklearn.svm import SVC\n",
    "# standard_scaler = StandardScaler() \n",
    "\n",
    "# scale = StandardScaler().fit(df_na[['Fare','Age_edited']])\n",
    "# df_na[['Fare','Age_edited','Embarked','Cabin']] = scale.transform(df_na[['Fare','Age_edited','Embarked','Cabin']])\n",
    "\n",
    "# # 샘플링 (train.set / test.set)\n",
    "\n",
    "# df_na\n",
    "\n",
    "# target1 = df_na['Survived']\n",
    "# train_data1 = df_na[['Pclass', 'agebound', 'socialstatus', 'Sex','Age_edited','SibSp_edited','Parch_edited','Fare_edited','Cabin','Embarked']]\n",
    "\n",
    "# X_train, X_test, y_train, y_test = model_selection.train_test_split(train_data, target, test_size=0.2,random_state=0)\n",
    "# #probability 확률\n",
    "# model = SVC(probability = True)\n",
    "# model.fit(X_train, y_train)\n",
    "# y_pred = model1.predict(X_test)\n",
    "\n",
    "\n",
    "# accuracy = model.score(X_test1,y_test)\n",
    "# print(\"pipeline\",accuracy) #0.7597765363128491 #conti = ['Pclass','Sex','SibSp','Parch','Embarked','Cabin'] categ = ['Fare','Age_edited']"
   ]
  },
  {
   "cell_type": "markdown",
   "metadata": {},
   "source": [
    "> XGBOOST / Hyperopt"
   ]
  },
  {
   "cell_type": "code",
   "execution_count": 42,
   "metadata": {},
   "outputs": [],
   "source": [
    "# !pip install xgboost==1.5.2\n",
    "# !pip install vecstack==0.4.0\n",
    "# !pip install hyperopt\n",
    "\n",
    "from xgboost import XGBClassifier, plot_importance\n",
    "from sklearn.ensemble import ExtraTreesClassifier\n",
    "from sklearn.ensemble import RandomForestClassifier \n",
    "from vecstack import stacking\n",
    "import hyperopt\n",
    "from hyperopt import fmin, tpe, hp, STATUS_OK, Trials"
   ]
  },
  {
   "cell_type": "code",
   "execution_count": 49,
   "metadata": {},
   "outputs": [],
   "source": [
    "# regularization candiate 정의\n",
    "reg_candidate = [1e-5, 1e-4, 1e-3, 1e-2, 0.1, 1, 5, 10, 100]\n",
    "\n",
    "# space 정의, Hyperparameter의 이름을 key 값으로 입력\n",
    "space={'max_depth': hp.quniform(\"max_depth\", 3, 8, 1),\n",
    "       'learning_rate': hp.quniform ('learning_rate', 0.01, 0.011, 0.001),\n",
    "       'reg_alpha' : hp.choice('reg_alpha', reg_candidate),\n",
    "       'reg_lambda' : hp.choice('reg_lambda', reg_candidate),\n",
    "       'subsample': hp.quniform('subsample', 0.6, 1, 0.05),\n",
    "       'colsample_bytree' : hp.quniform('colsample_bytree', 0.6, 1, 0.05),\n",
    "       'min_child_weight' : hp.quniform('min_child_weight', 1, 10, 1),\n",
    "       'n_estimators': hp.quniform('n_estimators', 1000, 3000, 300)}\n",
    "\n",
    "# 목적 함수 정의\n",
    "# n_estimators, max_depth와 같은 반드시 int 타입을 가져야 하는 hyperparamter는 int로 타입 캐스팅 합니다.\n",
    "def hyperparameter_tuning(space):\n",
    "    model=XGBClassifier(n_estimators =int(space['n_estimators']), \n",
    "                       max_depth = int(space['max_depth']), \n",
    "                       learning_rate = space['learning_rate'],\n",
    "                       reg_alpha = space['reg_alpha'],\n",
    "                       reg_lambda = space['reg_lambda'],\n",
    "                       subsample = space['subsample'],\n",
    "                       colsample_bytree = space['colsample_bytree'], \n",
    "                       min_child_weight = int(space['min_child_weight']),\n",
    "                       random_state=42,)\n",
    "    \n",
    "    evaluation = [(x_train_transformed, y_train), (x_test_transformed, y_test)]\n",
    "    \n",
    "    model.fit(x_train_transformed, y_train,\n",
    "              eval_set=evaluation, \n",
    "              eval_metric='auc',\n",
    "              verbose=0)\n",
    "\n",
    "    accuracy = accuracy_score(model.predict(x_test_transformed), y_test)\n",
    "    # 평가 방식 선정\n",
    "    return {'loss': 1 - accuracy, 'status': STATUS_OK, 'model': model}    "
   ]
  },
  {
   "cell_type": "code",
   "execution_count": 52,
   "metadata": {},
   "outputs": [
    {
     "name": "stdout",
     "output_type": "stream",
     "text": [
      "100%|███████████████████████████████████████████████| 50/50 [01:24<00:00,  1.70s/trial, best loss: 0.12290502793296088]\n",
      "{'colsample_bytree': 0.8, 'learning_rate': 0.011, 'max_depth': 6, 'min_child_weight': 1, 'n_estimators': 2400, 'reg_alpha': 1, 'reg_lambda': 1, 'subsample': 0.9500000000000001}\n"
     ]
    }
   ],
   "source": [
    "# Trials 객체 선언합니다.\n",
    "trials = Trials()\n",
    "# best에 최적의 하이퍼 파라미터를 return 받습니다.\n",
    "best = fmin(fn=hyperparameter_tuning,\n",
    "            space=space,\n",
    "            algo=tpe.suggest,\n",
    "            max_evals=50, # 최대 반복 횟수를 지정합니다.\n",
    "            trials=trials)\n",
    "\n",
    "# 최적화된 결과를 int로 변환해야하는 파라미터는 타입 변환을 수행합니다.\n",
    "best['max_depth'] = int(best['max_depth'])\n",
    "best['min_child_weight'] = int(best['min_child_weight'])\n",
    "best['n_estimators'] = int(best['n_estimators'])\n",
    "best['reg_alpha'] = reg_candidate[int(best['reg_alpha'])]\n",
    "best['reg_lambda'] = reg_candidate[int(best['reg_lambda'])]\n",
    "print (best) # {'colsample_bytree': 0.9500000000000001, 'learning_rate': 0.01, 'max_depth': 9, \n",
    "            #'min_child_weight': 3, 'n_estimators': 1400, 'reg_alpha': 0.001, 'reg_lambda': 1e-05, 'subsample': 0.7000000000000001}"
   ]
  },
  {
   "cell_type": "code",
   "execution_count": 53,
   "metadata": {},
   "outputs": [
    {
     "data": {
      "text/plain": [
       "{'loss': 0.12290502793296088,\n",
       " 'status': 'ok',\n",
       " 'model': XGBClassifier(base_score=0.5, booster='gbtree', colsample_bylevel=1,\n",
       "               colsample_bynode=1, colsample_bytree=0.8,\n",
       "               enable_categorical=False, gamma=0, gpu_id=-1,\n",
       "               importance_type=None, interaction_constraints='',\n",
       "               learning_rate=0.011, max_delta_step=0, max_depth=6,\n",
       "               min_child_weight=1, missing=nan, monotone_constraints='()',\n",
       "               n_estimators=2400, n_jobs=8, num_parallel_tree=1,\n",
       "               predictor='auto', random_state=42, reg_alpha=1, reg_lambda=1,\n",
       "               scale_pos_weight=1, subsample=0.9500000000000001,\n",
       "               tree_method='exact', validate_parameters=1, verbosity=None)}"
      ]
     },
     "execution_count": 53,
     "metadata": {},
     "output_type": "execute_result"
    }
   ],
   "source": [
    "trials.best_trial['result']        # 나오는 모델값 ->"
   ]
  },
  {
   "cell_type": "code",
   "execution_count": 44,
   "metadata": {},
   "outputs": [
    {
     "data": {
      "text/plain": [
       "0.888268156424581"
      ]
     },
     "execution_count": 44,
     "metadata": {},
     "output_type": "execute_result"
    }
   ],
   "source": [
    "xgb = XGBClassifier(base_score=0.5, booster='gbtree', colsample_bylevel=1,\n",
    "               colsample_bynode=1, colsample_bytree=0.8500000000000001,\n",
    "               enable_categorical=False, gamma=0, gpu_id=-1,\n",
    "               importance_type=None, interaction_constraints='',\n",
    "               learning_rate=0.011, max_delta_step=0, max_depth=8,\n",
    "               min_child_weight=4, monotone_constraints='()',\n",
    "               n_estimators=3000, n_jobs=8, num_parallel_tree=1,\n",
    "               predictor='auto', random_state=42, reg_alpha=0.1,\n",
    "               reg_lambda=0.0001, scale_pos_weight=1, subsample=0.75,\n",
    "               tree_method='exact', validate_parameters=1, verbosity=None)          # missing = nan 만 지우면 됨\n",
    "\n",
    "evaluation = [(x_train_transformed, y_train), (x_test_transformed, y_test)]\n",
    "\n",
    "xgb.fit(x_train_transformed, y_train, eval_set=evaluation, eval_metric='auc', verbose=0)\n",
    "\n",
    "accuracy_score(xgb.predict(x_test_transformed), y_test)   "
   ]
  },
  {
   "cell_type": "code",
   "execution_count": 45,
   "metadata": {},
   "outputs": [
    {
     "name": "stdout",
     "output_type": "stream",
     "text": [
      "Classification Report_Train\n",
      "              precision    recall  f1-score   support\n",
      "\n",
      "     class 0       0.92      0.97      0.95       439\n",
      "     class 1       0.94      0.87      0.91       273\n",
      "\n",
      "    accuracy                           0.93       712\n",
      "   macro avg       0.93      0.92      0.93       712\n",
      "weighted avg       0.93      0.93      0.93       712\n",
      "\n",
      "Classification Report_Test\n",
      "              precision    recall  f1-score   support\n",
      "\n",
      "     class 0       0.87      0.96      0.91       110\n",
      "     class 1       0.93      0.77      0.84        69\n",
      "\n",
      "    accuracy                           0.89       179\n",
      "   macro avg       0.90      0.87      0.88       179\n",
      "weighted avg       0.89      0.89      0.89       179\n",
      "\n",
      "Accuracy on Training set:  0.9311797752808989\n",
      "Accuracy on Test set:  0.888268156424581\n"
     ]
    }
   ],
   "source": [
    "print(\"Classification Report_Train\")\n",
    "print(classification_report(y_train, xgb.predict(x_train_transformed),target_names=['class 0', 'class 1']))\n",
    "\n",
    "print(\"Classification Report_Test\")\n",
    "print(classification_report(y_test, xgb.predict(x_test_transformed),target_names=['class 0', 'class 1']))\n",
    "\n",
    "print('Accuracy on Training set: ',accuracy_score(xgb.predict(x_train_transformed), y_train))\n",
    "print('Accuracy on Test set: ', accuracy_score(xgb.predict(x_test_transformed),y_test))"
   ]
  },
  {
   "cell_type": "markdown",
   "metadata": {},
   "source": [
    "> 앙상블 / 스택킹"
   ]
  },
  {
   "cell_type": "code",
   "execution_count": 46,
   "metadata": {},
   "outputs": [],
   "source": [
    "from sklearn.ensemble import VotingClassifier\n",
    "\n",
    "params = {'learning_rate': 0.01, 'max_depth': 3, 'min_samples_split': 10, 'n_estimators': 1500}\n",
    "model = GradientBoostingClassifier(**params)\n",
    "model.fit(x_train_transformed, y_train)\n",
    "\n",
    "\n",
    "estimators = [ \n",
    "    ('XGB', xgb),\n",
    "    ('LightGBM', model),\n",
    "    ('Logistic', model_logistic)]  "
   ]
  },
  {
   "cell_type": "markdown",
   "metadata": {},
   "source": [
    "1. Stacking        -> 이미 XGBOOST / GredientBoost 에서 정확도 극대화 하려고 과적합 -> 성능 오히려 저하"
   ]
  },
  {
   "cell_type": "code",
   "execution_count": 47,
   "metadata": {},
   "outputs": [
    {
     "name": "stdout",
     "output_type": "stream",
     "text": [
      "task:         [classification]\n",
      "n_classes:    [2]\n",
      "metric:       [accuracy_score]\n",
      "variant:      [A]\n",
      "n_estimators: [3]\n",
      "\n",
      "estimator  0: [XGB: XGBClassifier]\n",
      "[14:09:16] WARNING: C:/Users/Administrator/workspace/xgboost-win64_release_1.5.1/src/learner.cc:1115: Starting in XGBoost 1.3.0, the default evaluation metric used with the objective 'binary:logistic' was changed from 'error' to 'logloss'. Explicitly set eval_metric if you'd like to restore the old behavior.\n",
      "    fold  0:  [0.81818182]\n",
      "[14:09:18] WARNING: C:/Users/Administrator/workspace/xgboost-win64_release_1.5.1/src/learner.cc:1115: Starting in XGBoost 1.3.0, the default evaluation metric used with the objective 'binary:logistic' was changed from 'error' to 'logloss'. Explicitly set eval_metric if you'd like to restore the old behavior.\n",
      "    fold  1:  [0.79720280]\n",
      "[14:09:19] WARNING: C:/Users/Administrator/workspace/xgboost-win64_release_1.5.1/src/learner.cc:1115: Starting in XGBoost 1.3.0, the default evaluation metric used with the objective 'binary:logistic' was changed from 'error' to 'logloss'. Explicitly set eval_metric if you'd like to restore the old behavior.\n",
      "    fold  2:  [0.80281690]\n",
      "[14:09:21] WARNING: C:/Users/Administrator/workspace/xgboost-win64_release_1.5.1/src/learner.cc:1115: Starting in XGBoost 1.3.0, the default evaluation metric used with the objective 'binary:logistic' was changed from 'error' to 'logloss'. Explicitly set eval_metric if you'd like to restore the old behavior.\n",
      "    fold  3:  [0.79577465]\n",
      "[14:09:22] WARNING: C:/Users/Administrator/workspace/xgboost-win64_release_1.5.1/src/learner.cc:1115: Starting in XGBoost 1.3.0, the default evaluation metric used with the objective 'binary:logistic' was changed from 'error' to 'logloss'. Explicitly set eval_metric if you'd like to restore the old behavior.\n",
      "    fold  4:  [0.76760563]\n",
      "    ----\n",
      "    MEAN:     [0.79631636] + [0.01640573]\n",
      "\n",
      "estimator  1: [LightGBM: GradientBoostingClassifier]\n",
      "    fold  0:  [0.86013986]\n",
      "    fold  1:  [0.83916084]\n",
      "    fold  2:  [0.81690141]\n",
      "    fold  3:  [0.79577465]\n",
      "    fold  4:  [0.80985915]\n",
      "    ----\n",
      "    MEAN:     [0.82436718] + [0.02272571]\n",
      "\n",
      "estimator  2: [Logistic: LogisticRegression]\n",
      "    fold  0:  [0.84615385]\n",
      "    fold  1:  [0.77622378]\n",
      "    fold  2:  [0.76760563]\n",
      "    fold  3:  [0.80281690]\n",
      "    fold  4:  [0.78169014]\n",
      "    ----\n",
      "    MEAN:     [0.79489806] + [0.02813510]\n",
      "\n",
      "Train set was detected.\n",
      "Transforming...\n",
      "\n",
      "estimator  0: [XGB: XGBClassifier]\n",
      "    model from fold  0: done\n",
      "    model from fold  1: done\n",
      "    model from fold  2: done\n",
      "    model from fold  3: done\n",
      "    model from fold  4: done\n",
      "    ----\n",
      "    DONE\n",
      "\n",
      "estimator  1: [LightGBM: GradientBoostingClassifier]\n",
      "    model from fold  0: done\n",
      "    model from fold  1: done\n",
      "    model from fold  2: done\n",
      "    model from fold  3: done\n",
      "    model from fold  4: done\n",
      "    ----\n",
      "    DONE\n",
      "\n",
      "estimator  2: [Logistic: LogisticRegression]\n",
      "    model from fold  0: done\n",
      "    model from fold  1: done\n",
      "    model from fold  2: done\n",
      "    model from fold  3: done\n",
      "    model from fold  4: done\n",
      "    ----\n",
      "    DONE\n",
      "\n",
      "Transforming...\n",
      "\n",
      "estimator  0: [XGB: XGBClassifier]\n",
      "    model from fold  0: done\n",
      "    model from fold  1: done\n",
      "    model from fold  2: done\n",
      "    model from fold  3: done\n",
      "    model from fold  4: done\n",
      "    ----\n",
      "    DONE\n",
      "\n",
      "estimator  1: [LightGBM: GradientBoostingClassifier]\n",
      "    model from fold  0: done\n",
      "    model from fold  1: done\n",
      "    model from fold  2: done\n",
      "    model from fold  3: done\n",
      "    model from fold  4: done\n",
      "    ----\n",
      "    DONE\n",
      "\n",
      "estimator  2: [Logistic: LogisticRegression]\n",
      "    model from fold  0: done\n",
      "    model from fold  1: done\n",
      "    model from fold  2: done\n",
      "    model from fold  3: done\n",
      "    model from fold  4: done\n",
      "    ----\n",
      "    DONE\n",
      "\n",
      "[14:09:29] WARNING: C:/Users/Administrator/workspace/xgboost-win64_release_1.5.1/src/learner.cc:1115: Starting in XGBoost 1.3.0, the default evaluation metric used with the objective 'binary:logistic' was changed from 'error' to 'logloss'. Explicitly set eval_metric if you'd like to restore the old behavior.\n",
      "스태킹 기법을 사용한 accuracy :  0.824438202247191\n"
     ]
    }
   ],
   "source": [
    "stack = StackingTransformer(estimators, \n",
    "                            regression = False, \n",
    "                            metric = accuracy_score, \n",
    "                            n_folds = 5, stratified = True, shuffle = True, \n",
    "                            random_state = 0, verbose = 2)\n",
    "stack = stack.fit(x_train_transformed, y_train)\n",
    "\n",
    "S_train = stack.transform(x_train_transformed)\n",
    "S_test = stack.transform(x_test_transformed)\n",
    "\n",
    "model3 = XGBClassifier()\n",
    "model3 = model3.fit(S_train, y_train) \n",
    "\n",
    "print('스태킹 기법을 사용한 accuracy : ', accuracy_score(y_train, model3.predict(S_train)))"
   ]
  },
  {
   "cell_type": "markdown",
   "metadata": {},
   "source": [
    "2. Voting"
   ]
  },
  {
   "cell_type": "code",
   "execution_count": 48,
   "metadata": {},
   "outputs": [
    {
     "name": "stdout",
     "output_type": "stream",
     "text": [
      "[14:09:36] WARNING: C:/Users/Administrator/workspace/xgboost-win64_release_1.5.1/src/learner.cc:1115: Starting in XGBoost 1.3.0, the default evaluation metric used with the objective 'binary:logistic' was changed from 'error' to 'logloss'. Explicitly set eval_metric if you'd like to restore the old behavior.\n",
      "보팅 분류기의 정확도:  0.8659\n"
     ]
    }
   ],
   "source": [
    "# 개별모델을 소프트보팅 기반의 앙상블 모델로 구현한 분류기\n",
    "voting_model = VotingClassifier(estimators=estimators, voting='soft')\n",
    "\n",
    "\n",
    "# x_train_transformed_hash = hash(x_train_transformed)\n",
    "\n",
    "# # 보팅 분류기의 학습/예측/평가\n",
    "voting_model.fit(x_train_transformed, y_train)\n",
    "pred = voting_model.predict(x_test_transformed)\n",
    "print('보팅 분류기의 정확도: {0: .4f}'.format(accuracy_score(y_test, pred)))\n",
    "\n"
   ]
  }
 ],
 "metadata": {
  "accelerator": "GPU",
  "colab": {
   "name": "Titanic with XGBoost.ipynb",
   "provenance": [],
   "version": "0.3.2"
  },
  "kernelspec": {
   "display_name": "Python 3",
   "language": "python",
   "name": "python3"
  },
  "language_info": {
   "codemirror_mode": {
    "name": "ipython",
    "version": 3
   },
   "file_extension": ".py",
   "mimetype": "text/x-python",
   "name": "python",
   "nbconvert_exporter": "python",
   "pygments_lexer": "ipython3",
   "version": "3.8.8"
  }
 },
 "nbformat": 4,
 "nbformat_minor": 1
}
